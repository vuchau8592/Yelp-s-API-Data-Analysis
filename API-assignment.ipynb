{
 "cells": [
  {
   "cell_type": "markdown",
   "metadata": {},
   "source": [
    "# Data analyzing with Yelp API\n",
    "Yelp API allows us to get local content and user review from millions of businesses across 32 countries. Recorded businesses in Yelp database vary from services such as plumber, vehicle repair, restaurant...\n",
    "\n",
    "From Yelp API, following information can be extracted:\n",
    "- Business Endpoint:\n",
    "    - Business Search: this endpoint return up to 1000 businesses based on the provided search criteria.\n",
    "    - Phone Search: This endpoint returns a list of businesses based on the provided phone number.\n",
    "    - Transaction Search: This endpoint returns a list of businesses which support food delivery transactions.\n",
    "    - Business Details: This endpoint returns detailed business content based on business's id which can extract with business search endpoint.\n",
    "    - Business Match: This endpoint lets you match business data from other sources against businesses on Yelp, based on provided business information.\n",
    "    - Reviews: This endpoint returns all review of business based on business's id.\n",
    "    - Auto complete: This endpoint returns auto complete suggestions for search keywords, businesses and categories, based on the input text.\n",
    "- Event Endpoint:\n",
    "    - Event Lookup: This endpoint returns the detailed information of a Yelp event\n",
    "    - Event Search: This endpoint returns events based on the provided search criteria.\n",
    "    - Featured event: This endpoint returns the featured event for a given location. Featured events are chosen by Yelp's community managers.\n",
    "- Category Endpoint:\n",
    "    - All categories: This endpoint returns all Yelp business categories across all locales by default.\n",
    "    - Category details: This endpoint returns detailed information about the Yelp category specified by a Yelp category alias.\n",
    "    \n",
    "In this work, I will focus on all restaurants which are registered in Yelp's database across Finland."
   ]
  },
  {
   "cell_type": "code",
   "execution_count": 1,
   "metadata": {
    "ExecuteTime": {
     "end_time": "2021-01-04T12:06:26.597490Z",
     "start_time": "2021-01-04T12:06:25.414053Z"
    }
   },
   "outputs": [
    {
     "data": {
      "text/html": [
       "        <script type=\"text/javascript\">\n",
       "        window.PlotlyConfig = {MathJaxConfig: 'local'};\n",
       "        if (window.MathJax) {MathJax.Hub.Config({SVG: {font: \"STIX-Web\"}});}\n",
       "        if (typeof require !== 'undefined') {\n",
       "        require.undef(\"plotly\");\n",
       "        requirejs.config({\n",
       "            paths: {\n",
       "                'plotly': ['https://cdn.plot.ly/plotly-latest.min']\n",
       "            }\n",
       "        });\n",
       "        require(['plotly'], function(Plotly) {\n",
       "            window._Plotly = Plotly;\n",
       "        });\n",
       "        }\n",
       "        </script>\n",
       "        "
      ]
     },
     "metadata": {},
     "output_type": "display_data"
    },
    {
     "data": {
      "text/html": [
       "        <script type=\"text/javascript\">\n",
       "        window.PlotlyConfig = {MathJaxConfig: 'local'};\n",
       "        if (window.MathJax) {MathJax.Hub.Config({SVG: {font: \"STIX-Web\"}});}\n",
       "        if (typeof require !== 'undefined') {\n",
       "        require.undef(\"plotly\");\n",
       "        requirejs.config({\n",
       "            paths: {\n",
       "                'plotly': ['https://cdn.plot.ly/plotly-latest.min']\n",
       "            }\n",
       "        });\n",
       "        require(['plotly'], function(Plotly) {\n",
       "            window._Plotly = Plotly;\n",
       "        });\n",
       "        }\n",
       "        </script>\n",
       "        "
      ]
     },
     "metadata": {},
     "output_type": "display_data"
    }
   ],
   "source": [
    "import requests\n",
    "import json\n",
    "import numpy as np\n",
    "import pandas as pd\n",
    "from bs4 import BeautifulSoup\n",
    "import regex as re\n",
    "import time\n",
    "import glob\n",
    "import os\n",
    "import ast\n",
    "from fuzzywuzzy import process\n",
    "\n",
    "import folium \n",
    "from PIL import Image\n",
    "from wordcloud import WordCloud, STOPWORDS, ImageColorGenerator\n",
    "from ipywidgets import interact\n",
    "import plotly.graph_objects as go\n",
    "import chart_studio.plotly as py\n",
    "import cufflinks as cf\n",
    "from plotly.offline import iplot, init_notebook_mode\n",
    "from matplotlib import pyplot as plt\n",
    "import seaborn as sns\n",
    "import plotly.express as px\n",
    "\n",
    "init_notebook_mode(connected=True)\n",
    "cf.go_offline(connected=True)\n",
    "cf.set_config_file(theme=\"pearl\")\n",
    "pd.set_option('display.max_columns', 30)\n",
    "%matplotlib inline"
   ]
  },
  {
   "cell_type": "markdown",
   "metadata": {},
   "source": [
    "# Gathering data\n",
    "## Getting all city of Finland\n",
    "\n",
    "To retrieve all the information of restaurant within Finland, and since Yelp API limits the result at 1,000 based on the provided search criteria, I decide the search criteria should be city of Finland instead of Finland, to get as many result as possible. Therefore, first I try to get all the city of Finland.\n",
    "\n",
    "The information about Finnish cities can be easily found on wikipedia on this link: https://en.wikipedia.org/wiki/List_of_cities_and_towns_in_Finland\n",
    "\n",
    "Since there are only 107 cities in Finland, it is easy to just copy and paste the whole list of city. However, to implement for future projects that can contain thousands of entities, I will use web scrapping to get the table content in the page."
   ]
  },
  {
   "cell_type": "code",
   "execution_count": 2,
   "metadata": {
    "ExecuteTime": {
     "end_time": "2021-01-04T12:07:27.217284Z",
     "start_time": "2021-01-04T12:07:27.007322Z"
    }
   },
   "outputs": [],
   "source": [
    "url_city = 'https://en.wikipedia.org/wiki/List_of_cities_and_towns_in_Finland'\n",
    "page = requests.get(url_city).text\n",
    "soup = BeautifulSoup(page, \"lxml\")"
   ]
  },
  {
   "cell_type": "markdown",
   "metadata": {},
   "source": [
    "There also some notation, further explanation in some variable and in this project, the only information we take into account is the name of city and its population, I will remove those. The notations and explanation are basically in form of [character], therefore, I make a simple function to remove them with regex."
   ]
  },
  {
   "cell_type": "code",
   "execution_count": 3,
   "metadata": {
    "ExecuteTime": {
     "end_time": "2021-01-04T12:07:28.019696Z",
     "start_time": "2021-01-04T12:07:28.018143Z"
    }
   },
   "outputs": [],
   "source": [
    "def removeNote(string):\n",
    "    return re.sub(\"\\[[^[]]*\\]\", \"\", string)"
   ]
  },
  {
   "cell_type": "code",
   "execution_count": 4,
   "metadata": {
    "ExecuteTime": {
     "end_time": "2021-01-04T12:07:29.225803Z",
     "start_time": "2021-01-04T12:07:29.222318Z"
    }
   },
   "outputs": [],
   "source": [
    "table = soup.find(\"table\", attrs={\"class\":\"wikitable\"})\n",
    "table_head = table.find_all(\"th\")\n",
    "headings = []\n",
    "for th in table_head:\n",
    "    headings.append(removeNote(th.text.replace(\"\\n\",\" \").strip()))    "
   ]
  },
  {
   "cell_type": "code",
   "execution_count": 5,
   "metadata": {
    "ExecuteTime": {
     "end_time": "2021-01-04T12:07:29.957778Z",
     "start_time": "2021-01-04T12:07:29.941792Z"
    }
   },
   "outputs": [
    {
     "data": {
      "text/html": [
       "<div>\n",
       "<style scoped>\n",
       "    .dataframe tbody tr th:only-of-type {\n",
       "        vertical-align: middle;\n",
       "    }\n",
       "\n",
       "    .dataframe tbody tr th {\n",
       "        vertical-align: top;\n",
       "    }\n",
       "\n",
       "    .dataframe thead th {\n",
       "        text-align: right;\n",
       "    }\n",
       "</style>\n",
       "<table border=\"1\" class=\"dataframe\">\n",
       "  <thead>\n",
       "    <tr style=\"text-align: right;\">\n",
       "      <th></th>\n",
       "      <th>Finnish name</th>\n",
       "      <th>Swedish name</th>\n",
       "      <th>District</th>\n",
       "      <th>Founded</th>\n",
       "      <th>Population</th>\n",
       "    </tr>\n",
       "  </thead>\n",
       "  <tbody>\n",
       "    <tr>\n",
       "      <th>0</th>\n",
       "      <td>Akaa</td>\n",
       "      <td></td>\n",
       "      <td></td>\n",
       "      <td>2007</td>\n",
       "      <td>16,709</td>\n",
       "    </tr>\n",
       "    <tr>\n",
       "      <th>1</th>\n",
       "      <td>Alajärvi</td>\n",
       "      <td></td>\n",
       "      <td></td>\n",
       "      <td>1986</td>\n",
       "      <td>9,752</td>\n",
       "    </tr>\n",
       "    <tr>\n",
       "      <th>2</th>\n",
       "      <td>Alavus</td>\n",
       "      <td></td>\n",
       "      <td></td>\n",
       "      <td>1977</td>\n",
       "      <td>11,611</td>\n",
       "    </tr>\n",
       "    <tr>\n",
       "      <th>3</th>\n",
       "      <td>Espoo</td>\n",
       "      <td>Esbo</td>\n",
       "      <td>Helsinki</td>\n",
       "      <td>1972</td>\n",
       "      <td>281,866</td>\n",
       "    </tr>\n",
       "    <tr>\n",
       "      <th>4</th>\n",
       "      <td>Forssa</td>\n",
       "      <td></td>\n",
       "      <td></td>\n",
       "      <td>1964</td>\n",
       "      <td>17,079</td>\n",
       "    </tr>\n",
       "  </tbody>\n",
       "</table>\n",
       "</div>"
      ],
      "text/plain": [
       "  Finnish name Swedish name  District Founded Population\n",
       "0         Akaa                           2007     16,709\n",
       "1     Alajärvi                           1986      9,752\n",
       "2       Alavus                           1977     11,611\n",
       "3        Espoo         Esbo  Helsinki    1972    281,866\n",
       "4       Forssa                           1964     17,079"
      ]
     },
     "execution_count": 5,
     "metadata": {},
     "output_type": "execute_result"
    }
   ],
   "source": [
    "table_content = []\n",
    "for tr in table.tbody.find_all(\"tr\"):\n",
    "    table_row = {}\n",
    "    for td, th in zip(tr.find_all(\"td\"), headings):\n",
    "        table_row[th]= removeNote(td.text.replace(\"\\n\",\" \").strip())\n",
    "    table_content.append(table_row)\n",
    "cities = pd.DataFrame(table_content[1:])\n",
    "cities.head()"
   ]
  },
  {
   "cell_type": "markdown",
   "metadata": {},
   "source": [
    "## Getting data with Yelp API\n",
    "### Business detail\n",
    "\n",
    "To get business detail, I will use business endpoint provided by Yelp API."
   ]
  },
  {
   "cell_type": "code",
   "execution_count": 6,
   "metadata": {
    "ExecuteTime": {
     "end_time": "2021-01-02T11:01:14.829559Z",
     "start_time": "2021-01-02T11:01:14.826630Z"
    }
   },
   "outputs": [],
   "source": [
    "with open(\"key.txt\") as file:\n",
    "    client = file.readline()[:-1]\n",
    "    key = file.readline()"
   ]
  },
  {
   "cell_type": "code",
   "execution_count": 7,
   "metadata": {
    "ExecuteTime": {
     "end_time": "2021-01-02T11:01:14.832489Z",
     "start_time": "2021-01-02T11:01:14.830536Z"
    }
   },
   "outputs": [],
   "source": [
    "url_search = \"https://api.yelp.com/v3/businesses/search\"\n",
    "headers = {'Authorization': f'Bearer {key}'}"
   ]
  },
  {
   "cell_type": "markdown",
   "metadata": {},
   "source": [
    "Yelp API have limitation request of 5000 per day, therefore, I will request all the information I need and write them to my local machine for working later without requesting everything over again."
   ]
  },
  {
   "cell_type": "code",
   "execution_count": 8,
   "metadata": {
    "ExecuteTime": {
     "end_time": "2021-01-02T11:01:14.836395Z",
     "start_time": "2021-01-02T11:01:14.833465Z"
    }
   },
   "outputs": [],
   "source": [
    "# for city in cities[\"Finnish name\"]:\n",
    "#     time.sleep(10)\n",
    "#     df = pd.DataFrame()\n",
    "#     for i in range(0,1000,50):\n",
    "#         querry_string_search = {\"term\": \"restaurant\", \"location\": f'{city} Finland', 'limit':50, 'offset':i}\n",
    "#         response = requests.get(url_search, params= querry_string_search, headers=headers)\n",
    "#         if response.status_code != 200:\n",
    "#             break\n",
    "#         restaurants = pd.json_normalize((response.json()[\"businesses\"]))\n",
    "#         df = pd.concat([df, restaurants], ignore_index=True)\n",
    "#     df.to_csv(f\"data/{city}.csv\")"
   ]
  },
  {
   "cell_type": "code",
   "execution_count": 9,
   "metadata": {
    "ExecuteTime": {
     "end_time": "2021-01-02T11:01:14.843231Z",
     "start_time": "2021-01-02T11:01:14.837372Z"
    },
    "scrolled": true
   },
   "outputs": [
    {
     "data": {
      "text/plain": [
       "['data\\\\Akaa.csv',\n",
       " 'data\\\\Alajärvi.csv',\n",
       " 'data\\\\Alavus.csv',\n",
       " 'data\\\\all_restaurants.csv',\n",
       " 'data\\\\Espoo.csv',\n",
       " 'data\\\\Forssa.csv',\n",
       " 'data\\\\Haapajärvi.csv',\n",
       " 'data\\\\Haapavesi.csv',\n",
       " 'data\\\\Hamina.csv',\n",
       " 'data\\\\Hanko.csv',\n",
       " 'data\\\\Harjavalta.csv',\n",
       " 'data\\\\Heinola.csv',\n",
       " 'data\\\\Helsinki.csv',\n",
       " 'data\\\\Huittinen.csv',\n",
       " 'data\\\\Hyvinkää.csv',\n",
       " 'data\\\\Hämeenlinna.csv',\n",
       " 'data\\\\Iisalmi.csv',\n",
       " 'data\\\\Ikaalinen.csv',\n",
       " 'data\\\\Imatra.csv',\n",
       " 'data\\\\Joensuu.csv',\n",
       " 'data\\\\Jyväskylä.csv',\n",
       " 'data\\\\Jämsä.csv',\n",
       " 'data\\\\Järvenpää.csv',\n",
       " 'data\\\\Kaarina.csv',\n",
       " 'data\\\\Kajaani.csv',\n",
       " 'data\\\\Kalajoki.csv',\n",
       " 'data\\\\Kangasala.csv',\n",
       " 'data\\\\Kankaanpää.csv',\n",
       " 'data\\\\Kannus.csv',\n",
       " 'data\\\\Karkkila.csv',\n",
       " 'data\\\\Kaskinen.csv',\n",
       " 'data\\\\Kauhajoki.csv',\n",
       " 'data\\\\Kauhava.csv',\n",
       " 'data\\\\Kauniainen.csv',\n",
       " 'data\\\\Kemi.csv',\n",
       " 'data\\\\Kemijärvi.csv',\n",
       " 'data\\\\Kerava.csv',\n",
       " 'data\\\\Keuruu.csv',\n",
       " 'data\\\\Kitee.csv',\n",
       " 'data\\\\Kiuruvesi.csv',\n",
       " 'data\\\\Kokemäki.csv',\n",
       " 'data\\\\Kokkola.csv',\n",
       " 'data\\\\Kotka.csv',\n",
       " 'data\\\\Kouvola.csv',\n",
       " 'data\\\\Kristiinankaupunki.csv',\n",
       " 'data\\\\Kuhmo.csv',\n",
       " 'data\\\\Kuopio.csv',\n",
       " 'data\\\\Kurikka.csv',\n",
       " 'data\\\\Kuusamo.csv',\n",
       " 'data\\\\Lahti.csv',\n",
       " 'data\\\\Laitila.csv',\n",
       " 'data\\\\Lappeenranta.csv',\n",
       " 'data\\\\Lapua.csv',\n",
       " 'data\\\\Lieksa.csv',\n",
       " 'data\\\\Lohja.csv',\n",
       " 'data\\\\Loimaa.csv',\n",
       " 'data\\\\Loviisa.csv',\n",
       " 'data\\\\Maarianhamina.csv',\n",
       " 'data\\\\Mikkeli.csv',\n",
       " 'data\\\\Mänttä-Vilppula.csv',\n",
       " 'data\\\\Naantali.csv',\n",
       " 'data\\\\Nivala.csv',\n",
       " 'data\\\\Nokia.csv',\n",
       " 'data\\\\Nurmes.csv',\n",
       " 'data\\\\Närpiö.csv',\n",
       " 'data\\\\Orimattila.csv',\n",
       " 'data\\\\Orivesi.csv',\n",
       " 'data\\\\Oulainen.csv',\n",
       " 'data\\\\Oulu.csv',\n",
       " 'data\\\\Outokumpu.csv',\n",
       " 'data\\\\Paimio.csv',\n",
       " 'data\\\\Parainen.csv',\n",
       " 'data\\\\Parkano.csv',\n",
       " 'data\\\\Pieksämäki.csv',\n",
       " 'data\\\\Pietarsaari.csv',\n",
       " 'data\\\\Pori.csv',\n",
       " 'data\\\\Porvoo.csv',\n",
       " 'data\\\\Pudasjärvi.csv',\n",
       " 'data\\\\Pyhäjärvi.csv',\n",
       " 'data\\\\Raahe.csv',\n",
       " 'data\\\\Raasepori.csv',\n",
       " 'data\\\\Raisio.csv',\n",
       " 'data\\\\Rauma.csv',\n",
       " 'data\\\\reviews1.csv',\n",
       " 'data\\\\Riihimäki.csv',\n",
       " 'data\\\\Rovaniemi.csv',\n",
       " 'data\\\\Saarijärvi.csv',\n",
       " 'data\\\\Salo.csv',\n",
       " 'data\\\\Sastamala.csv',\n",
       " 'data\\\\Savonlinna.csv',\n",
       " 'data\\\\Seinäjoki.csv',\n",
       " 'data\\\\Somero.csv',\n",
       " 'data\\\\Suonenjoki.csv',\n",
       " 'data\\\\Tampere.csv',\n",
       " 'data\\\\Tornio.csv',\n",
       " 'data\\\\Turku.csv',\n",
       " 'data\\\\Ulvila.csv',\n",
       " 'data\\\\Uusikaarlepyy.csv',\n",
       " 'data\\\\Uusikaupunki.csv',\n",
       " 'data\\\\Vaasa.csv',\n",
       " 'data\\\\Valkeakoski.csv',\n",
       " 'data\\\\Vantaa.csv',\n",
       " 'data\\\\Varkaus.csv',\n",
       " 'data\\\\Viitasaari.csv',\n",
       " 'data\\\\Virrat.csv',\n",
       " 'data\\\\Ylivieska.csv',\n",
       " 'data\\\\Ylöjärvi.csv',\n",
       " 'data\\\\Ähtäri.csv',\n",
       " 'data\\\\Äänekoski.csv']"
      ]
     },
     "execution_count": 9,
     "metadata": {},
     "output_type": "execute_result"
    }
   ],
   "source": [
    "glob.glob(os.path.join(\"data/*.csv\"))"
   ]
  },
  {
   "cell_type": "markdown",
   "metadata": {},
   "source": [
    "Among these file, there are some empty files that will trouble the further reading data, therefore, I will remove those files. The list of empty file could be found below:"
   ]
  },
  {
   "cell_type": "code",
   "execution_count": 10,
   "metadata": {
    "ExecuteTime": {
     "end_time": "2021-01-02T11:01:15.127923Z",
     "start_time": "2021-01-02T11:01:14.843231Z"
    }
   },
   "outputs": [
    {
     "name": "stdout",
     "output_type": "stream",
     "text": [
      "data\\Haapavesi.csv has no recorded business\n",
      "data\\Hyvinkää.csv has no recorded business\n",
      "data\\Kitee.csv has no recorded business\n",
      "data\\Nivala.csv has no recorded business\n",
      "data\\Nurmes.csv has no recorded business\n",
      "data\\Pudasjärvi.csv has no recorded business\n"
     ]
    }
   ],
   "source": [
    "for file in glob.glob(os.path.join(\"data/*.csv\")):\n",
    "    if pd.read_csv(file).empty:\n",
    "        print(file, \"has no recorded business\")"
   ]
  },
  {
   "cell_type": "code",
   "execution_count": 11,
   "metadata": {
    "ExecuteTime": {
     "end_time": "2021-01-02T11:01:15.389393Z",
     "start_time": "2021-01-02T11:01:15.128899Z"
    }
   },
   "outputs": [],
   "source": [
    "# Create a list of file that contains non-empty file only\n",
    "\n",
    "list_file = [file for file in glob.glob(os.path.join(\"data/*.csv\")) if not pd.read_csv(file).empty]"
   ]
  },
  {
   "cell_type": "markdown",
   "metadata": {},
   "source": [
    "Besides above problem, there is another, there are some files that are in different format, for specific, they have only 24 columns while other have 25. The information about the price level of that business is missing."
   ]
  },
  {
   "cell_type": "code",
   "execution_count": 12,
   "metadata": {
    "ExecuteTime": {
     "end_time": "2021-01-02T11:01:15.678128Z",
     "start_time": "2021-01-02T11:01:15.392323Z"
    }
   },
   "outputs": [
    {
     "name": "stdout",
     "output_type": "stream",
     "text": [
      "data\\Haapajärvi.csv (2, 24)\n",
      "data\\Kalajoki.csv (5, 24)\n",
      "data\\Kemijärvi.csv (2, 24)\n",
      "data\\Kuhmo.csv (1, 24)\n",
      "data\\Lieksa.csv (1, 24)\n",
      "data\\Oulainen.csv (2, 24)\n",
      "data\\Pyhäjärvi.csv (1, 24)\n",
      "data\\reviews1.csv (3, 10)\n",
      "data\\Saarijärvi.csv (1, 24)\n",
      "data\\Viitasaari.csv (1, 24)\n",
      "data\\Ylivieska.csv (5, 24)\n",
      "data\\Ähtäri.csv (3, 24)\n"
     ]
    }
   ],
   "source": [
    "for file in list_file:\n",
    "    if pd.read_csv(file).shape[1]!=25:\n",
    "        print(file, pd.read_csv(file).shape)"
   ]
  },
  {
   "cell_type": "markdown",
   "metadata": {},
   "source": [
    "We can see that in these cities, there are fewer than 5 business recorded in Yelp's database. To simplify the process, these files will also be dropped."
   ]
  },
  {
   "cell_type": "code",
   "execution_count": 13,
   "metadata": {
    "ExecuteTime": {
     "end_time": "2021-01-02T11:01:15.930090Z",
     "start_time": "2021-01-02T11:01:15.678128Z"
    }
   },
   "outputs": [],
   "source": [
    "final_list_file = [file for file in list_file if pd.read_csv(file).shape[1]==25]"
   ]
  },
  {
   "cell_type": "markdown",
   "metadata": {},
   "source": [
    "### Loading data into dataframe\n",
    "\n",
    "All the data can now be concatenating to dataframe. However, before concatenating, the same order of columns of all the file should be the same to avoid any mistake in analyzing later on. right order.\n",
    "\n",
    "Since, every data file has the same columns, I will take column order of the first file \"Akaa.csv\" to be the standard and apply this order on other files."
   ]
  },
  {
   "cell_type": "code",
   "execution_count": 14,
   "metadata": {
    "ExecuteTime": {
     "end_time": "2021-01-02T11:01:15.939856Z",
     "start_time": "2021-01-02T11:01:15.933020Z"
    }
   },
   "outputs": [],
   "source": [
    "# Take columns order of Akaa.csv dataset\n",
    "col_order = pd.read_csv(\"data/Akaa.csv\", index_col=0).columns"
   ]
  },
  {
   "cell_type": "code",
   "execution_count": 15,
   "metadata": {
    "ExecuteTime": {
     "end_time": "2021-01-02T11:01:16.833005Z",
     "start_time": "2021-01-02T11:01:15.940832Z"
    }
   },
   "outputs": [],
   "source": [
    "# Concatenate other dataset based on premade column order\n",
    "\n",
    "data = pd.DataFrame()\n",
    "for file in final_list_file:\n",
    "    df_file = pd.read_csv(file, index_col=0)[col_order]\n",
    "    data = pd.concat([data, df_file], ignore_index=True)"
   ]
  },
  {
   "cell_type": "markdown",
   "metadata": {},
   "source": [
    "Now we have a dataframe that contains all restaurant in Finland. And I will turn this dataframe content to csv format file to avoid repeating all the steps again."
   ]
  },
  {
   "cell_type": "code",
   "execution_count": 16,
   "metadata": {
    "ExecuteTime": {
     "end_time": "2021-01-02T11:01:16.836912Z",
     "start_time": "2021-01-02T11:01:16.833982Z"
    }
   },
   "outputs": [],
   "source": [
    "#data.to_csv(\"all_restaurants.csv\")"
   ]
  },
  {
   "cell_type": "markdown",
   "metadata": {},
   "source": [
    "### Reviews for businesses\n",
    "\n",
    "Beside the business details, I also want to retrieve reviews of every restaurant in Finland, however, Yelp's API only allows to extract 3 top reviews each business and mostly, these reviews are only good ones. Besides, the content of the reviews extracted from Yelp's API only contain a part of the whole review, therefore, at the moment, the review analyzing are not doable with Yelp's API."
   ]
  },
  {
   "cell_type": "code",
   "execution_count": 17,
   "metadata": {
    "ExecuteTime": {
     "end_time": "2021-01-02T11:01:16.840818Z",
     "start_time": "2021-01-02T11:01:16.837889Z"
    }
   },
   "outputs": [],
   "source": [
    "url_review = \"https://api.yelp.com/v3/businesses/\"\n",
    "headers = {'Authorization': f'Bearer {key}'}"
   ]
  },
  {
   "cell_type": "code",
   "execution_count": 18,
   "metadata": {
    "ExecuteTime": {
     "end_time": "2021-01-02T11:01:16.871668Z",
     "start_time": "2021-01-02T11:01:16.841794Z"
    }
   },
   "outputs": [],
   "source": [
    "df = pd.read_csv(\"all_restaurants.csv\",index_col=0)\n",
    "a = df.loc[df[\"review_count\"].idxmax()].id"
   ]
  },
  {
   "cell_type": "code",
   "execution_count": 19,
   "metadata": {
    "ExecuteTime": {
     "end_time": "2021-01-02T11:01:17.582858Z",
     "start_time": "2021-01-02T11:01:16.872645Z"
    },
    "scrolled": true
   },
   "outputs": [
    {
     "data": {
      "text/html": [
       "<div>\n",
       "<style scoped>\n",
       "    .dataframe tbody tr th:only-of-type {\n",
       "        vertical-align: middle;\n",
       "    }\n",
       "\n",
       "    .dataframe tbody tr th {\n",
       "        vertical-align: top;\n",
       "    }\n",
       "\n",
       "    .dataframe thead th {\n",
       "        text-align: right;\n",
       "    }\n",
       "</style>\n",
       "<table border=\"1\" class=\"dataframe\">\n",
       "  <thead>\n",
       "    <tr style=\"text-align: right;\">\n",
       "      <th></th>\n",
       "      <th>id</th>\n",
       "      <th>url</th>\n",
       "      <th>text</th>\n",
       "      <th>rating</th>\n",
       "      <th>time_created</th>\n",
       "      <th>user.id</th>\n",
       "      <th>user.profile_url</th>\n",
       "      <th>user.image_url</th>\n",
       "      <th>user.name</th>\n",
       "    </tr>\n",
       "  </thead>\n",
       "  <tbody>\n",
       "    <tr>\n",
       "      <th>0</th>\n",
       "      <td>0g2w3eKg715QE5ddkjH05A</td>\n",
       "      <td>https://www.yelp.com/biz/karl-fazer-caf%C3%A9-...</td>\n",
       "      <td>UGHHHH.  This is a love/hate situation.  Our t...</td>\n",
       "      <td>5</td>\n",
       "      <td>2019-07-26 11:24:47</td>\n",
       "      <td>7vCCPqR9cJoy_AY0BkdyUg</td>\n",
       "      <td>https://www.yelp.com/user_details?userid=7vCCP...</td>\n",
       "      <td>https://s3-media2.fl.yelpcdn.com/photo/dO1LlTi...</td>\n",
       "      <td>Savanna M.</td>\n",
       "    </tr>\n",
       "    <tr>\n",
       "      <th>1</th>\n",
       "      <td>Qe7iC0CWQdIPrVL_zCjXjg</td>\n",
       "      <td>https://www.yelp.com/biz/karl-fazer-caf%C3%A9-...</td>\n",
       "      <td>I came in for a coffee and a pastry, as is app...</td>\n",
       "      <td>5</td>\n",
       "      <td>2019-11-15 08:07:52</td>\n",
       "      <td>TaR1SQ0whb0keyXbPTNwTA</td>\n",
       "      <td>https://www.yelp.com/user_details?userid=TaR1S...</td>\n",
       "      <td>https://s3-media1.fl.yelpcdn.com/photo/RLtgOw1...</td>\n",
       "      <td>Alesa W.</td>\n",
       "    </tr>\n",
       "    <tr>\n",
       "      <th>2</th>\n",
       "      <td>eu-qdiDqV_BLYGfFi2aaOg</td>\n",
       "      <td>https://www.yelp.com/biz/karl-fazer-caf%C3%A9-...</td>\n",
       "      <td>Right in front of the hotel I was staying at i...</td>\n",
       "      <td>5</td>\n",
       "      <td>2018-12-12 06:04:13</td>\n",
       "      <td>tH0uKD-vNwMoEc3Xk3Cbdg</td>\n",
       "      <td>https://www.yelp.com/user_details?userid=tH0uK...</td>\n",
       "      <td>https://s3-media2.fl.yelpcdn.com/photo/QMKcdO-...</td>\n",
       "      <td>Cathy C.</td>\n",
       "    </tr>\n",
       "  </tbody>\n",
       "</table>\n",
       "</div>"
      ],
      "text/plain": [
       "                       id                                                url  \\\n",
       "0  0g2w3eKg715QE5ddkjH05A  https://www.yelp.com/biz/karl-fazer-caf%C3%A9-...   \n",
       "1  Qe7iC0CWQdIPrVL_zCjXjg  https://www.yelp.com/biz/karl-fazer-caf%C3%A9-...   \n",
       "2  eu-qdiDqV_BLYGfFi2aaOg  https://www.yelp.com/biz/karl-fazer-caf%C3%A9-...   \n",
       "\n",
       "                                                text  rating  \\\n",
       "0  UGHHHH.  This is a love/hate situation.  Our t...       5   \n",
       "1  I came in for a coffee and a pastry, as is app...       5   \n",
       "2  Right in front of the hotel I was staying at i...       5   \n",
       "\n",
       "          time_created                 user.id  \\\n",
       "0  2019-07-26 11:24:47  7vCCPqR9cJoy_AY0BkdyUg   \n",
       "1  2019-11-15 08:07:52  TaR1SQ0whb0keyXbPTNwTA   \n",
       "2  2018-12-12 06:04:13  tH0uKD-vNwMoEc3Xk3Cbdg   \n",
       "\n",
       "                                    user.profile_url  \\\n",
       "0  https://www.yelp.com/user_details?userid=7vCCP...   \n",
       "1  https://www.yelp.com/user_details?userid=TaR1S...   \n",
       "2  https://www.yelp.com/user_details?userid=tH0uK...   \n",
       "\n",
       "                                      user.image_url   user.name  \n",
       "0  https://s3-media2.fl.yelpcdn.com/photo/dO1LlTi...  Savanna M.  \n",
       "1  https://s3-media1.fl.yelpcdn.com/photo/RLtgOw1...    Alesa W.  \n",
       "2  https://s3-media2.fl.yelpcdn.com/photo/QMKcdO-...    Cathy C.  "
      ]
     },
     "execution_count": 19,
     "metadata": {},
     "output_type": "execute_result"
    }
   ],
   "source": [
    "reviews_en = pd.DataFrame()\n",
    "respone_en = requests.get(url_review+a+'/reviews', params={\"locale\":\"en_US\"}, headers=headers)\n",
    "reviews_en = pd.json_normalize((respone_en.json()[\"reviews\"]))\n",
    "reviews_en"
   ]
  },
  {
   "cell_type": "code",
   "execution_count": 20,
   "metadata": {
    "ExecuteTime": {
     "end_time": "2021-01-02T11:01:17.587270Z",
     "start_time": "2021-01-02T11:01:17.583834Z"
    }
   },
   "outputs": [
    {
     "data": {
      "text/plain": [
       "'UGHHHH.  This is a love/hate situation.  Our tour guide in St. Petersberg told us that we just had to try some Fazer chocolate while in Helsinki.  Ok noted,...'"
      ]
     },
     "execution_count": 20,
     "metadata": {},
     "output_type": "execute_result"
    }
   ],
   "source": [
    "reviews_en.text[0]"
   ]
  },
  {
   "cell_type": "code",
   "execution_count": 21,
   "metadata": {
    "ExecuteTime": {
     "end_time": "2021-01-02T11:01:18.205450Z",
     "start_time": "2021-01-02T11:01:17.587270Z"
    }
   },
   "outputs": [
    {
     "data": {
      "text/html": [
       "<div>\n",
       "<style scoped>\n",
       "    .dataframe tbody tr th:only-of-type {\n",
       "        vertical-align: middle;\n",
       "    }\n",
       "\n",
       "    .dataframe tbody tr th {\n",
       "        vertical-align: top;\n",
       "    }\n",
       "\n",
       "    .dataframe thead th {\n",
       "        text-align: right;\n",
       "    }\n",
       "</style>\n",
       "<table border=\"1\" class=\"dataframe\">\n",
       "  <thead>\n",
       "    <tr style=\"text-align: right;\">\n",
       "      <th></th>\n",
       "      <th>id</th>\n",
       "      <th>url</th>\n",
       "      <th>text</th>\n",
       "      <th>rating</th>\n",
       "      <th>time_created</th>\n",
       "      <th>user.id</th>\n",
       "      <th>user.profile_url</th>\n",
       "      <th>user.image_url</th>\n",
       "      <th>user.name</th>\n",
       "    </tr>\n",
       "  </thead>\n",
       "  <tbody>\n",
       "    <tr>\n",
       "      <th>0</th>\n",
       "      <td>p36H2kpiQfDKQdJRWolEeg</td>\n",
       "      <td>https://www.yelp.com/biz/karl-fazer-caf%C3%A9-...</td>\n",
       "      <td>Jos kaipaa perinteitä ja historiallista funkki...</td>\n",
       "      <td>5</td>\n",
       "      <td>2014-05-21 01:48:02</td>\n",
       "      <td>ALLjAO0DitH59HUq6d4lnw</td>\n",
       "      <td>https://www.yelp.com/user_details?userid=ALLjA...</td>\n",
       "      <td>https://s3-media2.fl.yelpcdn.com/photo/gH2O8ub...</td>\n",
       "      <td>Veera T.</td>\n",
       "    </tr>\n",
       "    <tr>\n",
       "      <th>1</th>\n",
       "      <td>7HUOui_nU636sZytxxRxZQ</td>\n",
       "      <td>https://www.yelp.com/biz/karl-fazer-caf%C3%A9-...</td>\n",
       "      <td>Kyseessä on keskustan yksi parhaimmista klassi...</td>\n",
       "      <td>5</td>\n",
       "      <td>2019-03-14 13:18:32</td>\n",
       "      <td>oQlPbuhWGPpoeSRF2sPSoQ</td>\n",
       "      <td>https://www.yelp.com/user_details?userid=oQlPb...</td>\n",
       "      <td>None</td>\n",
       "      <td>Dank T.</td>\n",
       "    </tr>\n",
       "    <tr>\n",
       "      <th>2</th>\n",
       "      <td>eO0NEOW8mEC64cw89XnaFw</td>\n",
       "      <td>https://www.yelp.com/biz/karl-fazer-caf%C3%A9-...</td>\n",
       "      <td>Kluuvikadun legendaarinen Karl Fazer Cafe on a...</td>\n",
       "      <td>4</td>\n",
       "      <td>2014-11-27 14:40:39</td>\n",
       "      <td>ATNVRZWUxp613GiHGsoA8A</td>\n",
       "      <td>https://www.yelp.com/user_details?userid=ATNVR...</td>\n",
       "      <td>https://s3-media1.fl.yelpcdn.com/photo/laCPggs...</td>\n",
       "      <td>Hanna B.</td>\n",
       "    </tr>\n",
       "  </tbody>\n",
       "</table>\n",
       "</div>"
      ],
      "text/plain": [
       "                       id                                                url  \\\n",
       "0  p36H2kpiQfDKQdJRWolEeg  https://www.yelp.com/biz/karl-fazer-caf%C3%A9-...   \n",
       "1  7HUOui_nU636sZytxxRxZQ  https://www.yelp.com/biz/karl-fazer-caf%C3%A9-...   \n",
       "2  eO0NEOW8mEC64cw89XnaFw  https://www.yelp.com/biz/karl-fazer-caf%C3%A9-...   \n",
       "\n",
       "                                                text  rating  \\\n",
       "0  Jos kaipaa perinteitä ja historiallista funkki...       5   \n",
       "1  Kyseessä on keskustan yksi parhaimmista klassi...       5   \n",
       "2  Kluuvikadun legendaarinen Karl Fazer Cafe on a...       4   \n",
       "\n",
       "          time_created                 user.id  \\\n",
       "0  2014-05-21 01:48:02  ALLjAO0DitH59HUq6d4lnw   \n",
       "1  2019-03-14 13:18:32  oQlPbuhWGPpoeSRF2sPSoQ   \n",
       "2  2014-11-27 14:40:39  ATNVRZWUxp613GiHGsoA8A   \n",
       "\n",
       "                                    user.profile_url  \\\n",
       "0  https://www.yelp.com/user_details?userid=ALLjA...   \n",
       "1  https://www.yelp.com/user_details?userid=oQlPb...   \n",
       "2  https://www.yelp.com/user_details?userid=ATNVR...   \n",
       "\n",
       "                                      user.image_url user.name  \n",
       "0  https://s3-media2.fl.yelpcdn.com/photo/gH2O8ub...  Veera T.  \n",
       "1                                               None   Dank T.  \n",
       "2  https://s3-media1.fl.yelpcdn.com/photo/laCPggs...  Hanna B.  "
      ]
     },
     "execution_count": 21,
     "metadata": {},
     "output_type": "execute_result"
    }
   ],
   "source": [
    "reviews_fi = pd.DataFrame()\n",
    "respone_fi = requests.get(url_review+a+'/reviews', params={\"locale\":\"fi_FI\"}, headers=headers)\n",
    "reviews_fi = pd.json_normalize((respone_fi.json()[\"reviews\"]))\n",
    "reviews_fi"
   ]
  },
  {
   "cell_type": "code",
   "execution_count": 22,
   "metadata": {
    "ExecuteTime": {
     "end_time": "2021-01-02T11:01:18.210332Z",
     "start_time": "2021-01-02T11:01:18.206426Z"
    }
   },
   "outputs": [
    {
     "data": {
      "text/plain": [
       "'Kluuvikadun legendaarinen Karl Fazer Cafe on arkkitehtuurisesti näyttävä ja historiallisesti merkittävä kahvila. Kyseinen paikka on palvellut...'"
      ]
     },
     "execution_count": 22,
     "metadata": {},
     "output_type": "execute_result"
    }
   ],
   "source": [
    "reviews_fi.text[2]"
   ]
  },
  {
   "cell_type": "markdown",
   "metadata": {},
   "source": [
    "# Data analyzing\n",
    "## Data description\n",
    "\n",
    "After retrieving all necessary data from API, we now have 2 dataframe:\n",
    "- City: which includes:\n",
    "    - City name in Finnish,and Swedish\n",
    "    - District\n",
    "    - Foundation date\n",
    "    - Population\n",
    "- Restaurant will include:\n",
    "    - business id\n",
    "    - alias and name\n",
    "    - image link\n",
    "    - status of open or close\n",
    "    - url on Yelp's database\n",
    "    - number of review\n",
    "    - category of the business\n",
    "    - rating\n",
    "    - transaction type\n",
    "    - price level\n",
    "    - phone number\n",
    "    - coordinate\n",
    "    - address, location, zip code\n",
    "\n",
    "## Data cleaning\n",
    "### Remove unnecessary columns"
   ]
  },
  {
   "cell_type": "code",
   "execution_count": 6,
   "metadata": {
    "ExecuteTime": {
     "end_time": "2021-01-04T12:07:40.763130Z",
     "start_time": "2021-01-04T12:07:40.731952Z"
    }
   },
   "outputs": [],
   "source": [
    "df = pd.read_csv(\"all_restaurants.csv\",index_col=0)"
   ]
  },
  {
   "cell_type": "code",
   "execution_count": 7,
   "metadata": {
    "ExecuteTime": {
     "end_time": "2021-01-04T12:07:40.777855Z",
     "start_time": "2021-01-04T12:07:40.764131Z"
    }
   },
   "outputs": [
    {
     "data": {
      "text/html": [
       "<div>\n",
       "<style scoped>\n",
       "    .dataframe tbody tr th:only-of-type {\n",
       "        vertical-align: middle;\n",
       "    }\n",
       "\n",
       "    .dataframe tbody tr th {\n",
       "        vertical-align: top;\n",
       "    }\n",
       "\n",
       "    .dataframe thead th {\n",
       "        text-align: right;\n",
       "    }\n",
       "</style>\n",
       "<table border=\"1\" class=\"dataframe\">\n",
       "  <thead>\n",
       "    <tr style=\"text-align: right;\">\n",
       "      <th></th>\n",
       "      <th>id</th>\n",
       "      <th>alias</th>\n",
       "      <th>name</th>\n",
       "      <th>image_url</th>\n",
       "      <th>is_closed</th>\n",
       "      <th>url</th>\n",
       "      <th>review_count</th>\n",
       "      <th>categories</th>\n",
       "      <th>rating</th>\n",
       "      <th>transactions</th>\n",
       "      <th>price</th>\n",
       "      <th>phone</th>\n",
       "      <th>display_phone</th>\n",
       "      <th>distance</th>\n",
       "      <th>coordinates.latitude</th>\n",
       "      <th>coordinates.longitude</th>\n",
       "      <th>location.address1</th>\n",
       "      <th>location.address2</th>\n",
       "      <th>location.address3</th>\n",
       "      <th>location.city</th>\n",
       "      <th>location.zip_code</th>\n",
       "      <th>location.country</th>\n",
       "      <th>location.state</th>\n",
       "      <th>location.display_address</th>\n",
       "    </tr>\n",
       "  </thead>\n",
       "  <tbody>\n",
       "    <tr>\n",
       "      <th>0</th>\n",
       "      <td>beGLUbmL35UJDqWGfsS9JA</td>\n",
       "      <td>popino-hameenlinna</td>\n",
       "      <td>Popino</td>\n",
       "      <td>https://s3-media2.fl.yelpcdn.com/bphoto/69ILMz...</td>\n",
       "      <td>False</td>\n",
       "      <td>https://www.yelp.com/biz/popino-hameenlinna?ad...</td>\n",
       "      <td>4</td>\n",
       "      <td>[{'alias': 'restaurants', 'title': 'Restaurant...</td>\n",
       "      <td>4.5</td>\n",
       "      <td>[]</td>\n",
       "      <td>€€</td>\n",
       "      <td>35836532555.0</td>\n",
       "      <td>+358 3 6532555</td>\n",
       "      <td>37454.613324</td>\n",
       "      <td>60.996349</td>\n",
       "      <td>24.467030</td>\n",
       "      <td>Raatihuoneenkatu 11</td>\n",
       "      <td>NaN</td>\n",
       "      <td>NaN</td>\n",
       "      <td>Hameenlinna</td>\n",
       "      <td>13100.0</td>\n",
       "      <td>FI</td>\n",
       "      <td>6.0</td>\n",
       "      <td>['Raatihuoneenkatu 11', '13100 Hameenlinna', '...</td>\n",
       "    </tr>\n",
       "    <tr>\n",
       "      <th>1</th>\n",
       "      <td>C2tL1QG2GE3LymV2L_y4zQ</td>\n",
       "      <td>vaihmalan-hovi-lempäälä</td>\n",
       "      <td>Vaihmalan Hovi</td>\n",
       "      <td>https://s3-media2.fl.yelpcdn.com/bphoto/13cgVD...</td>\n",
       "      <td>False</td>\n",
       "      <td>https://www.yelp.com/biz/vaihmalan-hovi-lemp%C...</td>\n",
       "      <td>1</td>\n",
       "      <td>[{'alias': 'restaurants', 'title': 'Restaurant...</td>\n",
       "      <td>4.0</td>\n",
       "      <td>[]</td>\n",
       "      <td>€€€</td>\n",
       "      <td>358207661810.0</td>\n",
       "      <td>+358 20 7661810</td>\n",
       "      <td>15118.429192</td>\n",
       "      <td>61.297451</td>\n",
       "      <td>23.777439</td>\n",
       "      <td>Vaihmalantie 144</td>\n",
       "      <td>NaN</td>\n",
       "      <td>NaN</td>\n",
       "      <td>Lempäälä</td>\n",
       "      <td>37500.0</td>\n",
       "      <td>FI</td>\n",
       "      <td>11.0</td>\n",
       "      <td>['Vaihmalantie 144', '37500 Lempäälä', 'Finland']</td>\n",
       "    </tr>\n",
       "    <tr>\n",
       "      <th>2</th>\n",
       "      <td>Ub6jAwhYnGRR5ET-llUFeQ</td>\n",
       "      <td>iittalan-lasikeskus-hämeenlinna</td>\n",
       "      <td>Iittalan Lasikeskus</td>\n",
       "      <td>NaN</td>\n",
       "      <td>False</td>\n",
       "      <td>https://www.yelp.com/biz/iittalan-lasikeskus-h...</td>\n",
       "      <td>1</td>\n",
       "      <td>[{'alias': 'restaurants', 'title': 'Restaurant...</td>\n",
       "      <td>4.0</td>\n",
       "      <td>[]</td>\n",
       "      <td>NaN</td>\n",
       "      <td>NaN</td>\n",
       "      <td>NaN</td>\n",
       "      <td>16368.838825</td>\n",
       "      <td>61.086704</td>\n",
       "      <td>24.121902</td>\n",
       "      <td>Kyyhkysentie 7</td>\n",
       "      <td>NaN</td>\n",
       "      <td>NaN</td>\n",
       "      <td>Hämeenlinna</td>\n",
       "      <td>14500.0</td>\n",
       "      <td>FI</td>\n",
       "      <td>6.0</td>\n",
       "      <td>['Kyyhkysentie 7', '14500 Hämeenlinna', 'Finla...</td>\n",
       "    </tr>\n",
       "    <tr>\n",
       "      <th>3</th>\n",
       "      <td>ar8dwagEYyS7zTyqaIbrEg</td>\n",
       "      <td>sawaddee-hämeenlinna</td>\n",
       "      <td>Sawaddee</td>\n",
       "      <td>https://s3-media1.fl.yelpcdn.com/bphoto/Nc8jde...</td>\n",
       "      <td>False</td>\n",
       "      <td>https://www.yelp.com/biz/sawaddee-h%C3%A4meenl...</td>\n",
       "      <td>3</td>\n",
       "      <td>[{'alias': 'thai', 'title': 'Thai'}]</td>\n",
       "      <td>4.0</td>\n",
       "      <td>[]</td>\n",
       "      <td>€€</td>\n",
       "      <td>358440737007.0</td>\n",
       "      <td>+358 44 0737007</td>\n",
       "      <td>37198.075417</td>\n",
       "      <td>60.997372</td>\n",
       "      <td>24.462761</td>\n",
       "      <td>Sibeliuksenkatu 13</td>\n",
       "      <td>NaN</td>\n",
       "      <td>NaN</td>\n",
       "      <td>Hämeenlinna</td>\n",
       "      <td>13100.0</td>\n",
       "      <td>FI</td>\n",
       "      <td>6.0</td>\n",
       "      <td>['Sibeliuksenkatu 13', '13100 Hämeenlinna', 'F...</td>\n",
       "    </tr>\n",
       "    <tr>\n",
       "      <th>4</th>\n",
       "      <td>EyVADV5l8DyWv5JNo_9cuA</td>\n",
       "      <td>fresno-hämeenlinna</td>\n",
       "      <td>Fresno</td>\n",
       "      <td>https://s3-media1.fl.yelpcdn.com/bphoto/g68yp-...</td>\n",
       "      <td>False</td>\n",
       "      <td>https://www.yelp.com/biz/fresno-h%C3%A4meenlin...</td>\n",
       "      <td>3</td>\n",
       "      <td>[{'alias': 'tradamerican', 'title': 'American ...</td>\n",
       "      <td>4.0</td>\n",
       "      <td>[]</td>\n",
       "      <td>€€</td>\n",
       "      <td>358452351012.0</td>\n",
       "      <td>+358 45 2351012</td>\n",
       "      <td>37256.582366</td>\n",
       "      <td>60.996840</td>\n",
       "      <td>24.463374</td>\n",
       "      <td>Hallituskatu 20</td>\n",
       "      <td>NaN</td>\n",
       "      <td>NaN</td>\n",
       "      <td>Hämeenlinna</td>\n",
       "      <td>13100.0</td>\n",
       "      <td>FI</td>\n",
       "      <td>6.0</td>\n",
       "      <td>['Hallituskatu 20', '13100 Hämeenlinna', 'Finl...</td>\n",
       "    </tr>\n",
       "  </tbody>\n",
       "</table>\n",
       "</div>"
      ],
      "text/plain": [
       "                       id                            alias  \\\n",
       "0  beGLUbmL35UJDqWGfsS9JA               popino-hameenlinna   \n",
       "1  C2tL1QG2GE3LymV2L_y4zQ          vaihmalan-hovi-lempäälä   \n",
       "2  Ub6jAwhYnGRR5ET-llUFeQ  iittalan-lasikeskus-hämeenlinna   \n",
       "3  ar8dwagEYyS7zTyqaIbrEg             sawaddee-hämeenlinna   \n",
       "4  EyVADV5l8DyWv5JNo_9cuA               fresno-hämeenlinna   \n",
       "\n",
       "                  name                                          image_url  \\\n",
       "0               Popino  https://s3-media2.fl.yelpcdn.com/bphoto/69ILMz...   \n",
       "1       Vaihmalan Hovi  https://s3-media2.fl.yelpcdn.com/bphoto/13cgVD...   \n",
       "2  Iittalan Lasikeskus                                                NaN   \n",
       "3             Sawaddee  https://s3-media1.fl.yelpcdn.com/bphoto/Nc8jde...   \n",
       "4               Fresno  https://s3-media1.fl.yelpcdn.com/bphoto/g68yp-...   \n",
       "\n",
       "   is_closed                                                url  review_count  \\\n",
       "0      False  https://www.yelp.com/biz/popino-hameenlinna?ad...             4   \n",
       "1      False  https://www.yelp.com/biz/vaihmalan-hovi-lemp%C...             1   \n",
       "2      False  https://www.yelp.com/biz/iittalan-lasikeskus-h...             1   \n",
       "3      False  https://www.yelp.com/biz/sawaddee-h%C3%A4meenl...             3   \n",
       "4      False  https://www.yelp.com/biz/fresno-h%C3%A4meenlin...             3   \n",
       "\n",
       "                                          categories  rating transactions  \\\n",
       "0  [{'alias': 'restaurants', 'title': 'Restaurant...     4.5           []   \n",
       "1  [{'alias': 'restaurants', 'title': 'Restaurant...     4.0           []   \n",
       "2  [{'alias': 'restaurants', 'title': 'Restaurant...     4.0           []   \n",
       "3               [{'alias': 'thai', 'title': 'Thai'}]     4.0           []   \n",
       "4  [{'alias': 'tradamerican', 'title': 'American ...     4.0           []   \n",
       "\n",
       "  price           phone    display_phone      distance  coordinates.latitude  \\\n",
       "0    €€   35836532555.0   +358 3 6532555  37454.613324             60.996349   \n",
       "1   €€€  358207661810.0  +358 20 7661810  15118.429192             61.297451   \n",
       "2   NaN             NaN              NaN  16368.838825             61.086704   \n",
       "3    €€  358440737007.0  +358 44 0737007  37198.075417             60.997372   \n",
       "4    €€  358452351012.0  +358 45 2351012  37256.582366             60.996840   \n",
       "\n",
       "   coordinates.longitude    location.address1 location.address2  \\\n",
       "0              24.467030  Raatihuoneenkatu 11               NaN   \n",
       "1              23.777439     Vaihmalantie 144               NaN   \n",
       "2              24.121902       Kyyhkysentie 7               NaN   \n",
       "3              24.462761   Sibeliuksenkatu 13               NaN   \n",
       "4              24.463374      Hallituskatu 20               NaN   \n",
       "\n",
       "  location.address3 location.city location.zip_code location.country  \\\n",
       "0               NaN   Hameenlinna           13100.0               FI   \n",
       "1               NaN      Lempäälä           37500.0               FI   \n",
       "2               NaN   Hämeenlinna           14500.0               FI   \n",
       "3               NaN   Hämeenlinna           13100.0               FI   \n",
       "4               NaN   Hämeenlinna           13100.0               FI   \n",
       "\n",
       "  location.state                           location.display_address  \n",
       "0            6.0  ['Raatihuoneenkatu 11', '13100 Hameenlinna', '...  \n",
       "1           11.0  ['Vaihmalantie 144', '37500 Lempäälä', 'Finland']  \n",
       "2            6.0  ['Kyyhkysentie 7', '14500 Hämeenlinna', 'Finla...  \n",
       "3            6.0  ['Sibeliuksenkatu 13', '13100 Hämeenlinna', 'F...  \n",
       "4            6.0  ['Hallituskatu 20', '13100 Hämeenlinna', 'Finl...  "
      ]
     },
     "execution_count": 7,
     "metadata": {},
     "output_type": "execute_result"
    }
   ],
   "source": [
    "df.head()"
   ]
  },
  {
   "cell_type": "markdown",
   "metadata": {},
   "source": [
    "Firstly, these columns will be removed since, they don't provide any analytical value:\n",
    "- id: since every business has its own unique id.\n",
    "- alias: Unique Yelp alias of this business.\n",
    "- image_url: URL of photo for this business.\n",
    "- url: URL for business page on Yelp.\n",
    "- phone and display phone\n",
    "- location.display_address: since we have separated columns for every information contains in this column."
   ]
  },
  {
   "cell_type": "code",
   "execution_count": 8,
   "metadata": {
    "ExecuteTime": {
     "end_time": "2021-01-04T12:07:40.782244Z",
     "start_time": "2021-01-04T12:07:40.779230Z"
    }
   },
   "outputs": [],
   "source": [
    "df.drop([\"id\", \"alias\", \"image_url\", \"url\", \"phone\", \"display_phone\", \"location.display_address\"], axis=1, inplace=True)"
   ]
  },
  {
   "cell_type": "markdown",
   "metadata": {},
   "source": [
    "Examine more closely, the is_close column, which indicates if the business is closed permanently or not, only contains False value, which mean that every business listed in this dataframe is still operating. Therefore, this column will be dropped."
   ]
  },
  {
   "cell_type": "code",
   "execution_count": 9,
   "metadata": {
    "ExecuteTime": {
     "end_time": "2021-01-04T12:07:40.786572Z",
     "start_time": "2021-01-04T12:07:40.783785Z"
    }
   },
   "outputs": [
    {
     "data": {
      "text/plain": [
       "array([False])"
      ]
     },
     "execution_count": 9,
     "metadata": {},
     "output_type": "execute_result"
    }
   ],
   "source": [
    "df.is_closed.unique()"
   ]
  },
  {
   "cell_type": "code",
   "execution_count": 10,
   "metadata": {
    "ExecuteTime": {
     "end_time": "2021-01-04T12:07:40.790356Z",
     "start_time": "2021-01-04T12:07:40.787638Z"
    }
   },
   "outputs": [],
   "source": [
    "df.drop(\"is_closed\", axis=1, inplace=True)"
   ]
  },
  {
   "cell_type": "markdown",
   "metadata": {},
   "source": [
    "The transactions column, that should display the list of Yelp transactions that the business is registered for, however, only contain empty list. Therefore, it will be dropped, too."
   ]
  },
  {
   "cell_type": "code",
   "execution_count": 11,
   "metadata": {
    "ExecuteTime": {
     "end_time": "2021-01-04T12:07:40.794881Z",
     "start_time": "2021-01-04T12:07:40.791621Z"
    }
   },
   "outputs": [
    {
     "data": {
      "text/plain": [
       "True"
      ]
     },
     "execution_count": 11,
     "metadata": {},
     "output_type": "execute_result"
    }
   ],
   "source": [
    "all(df.transactions==\"[]\")"
   ]
  },
  {
   "cell_type": "code",
   "execution_count": 12,
   "metadata": {
    "ExecuteTime": {
     "end_time": "2021-01-04T12:07:40.799069Z",
     "start_time": "2021-01-04T12:07:40.796307Z"
    }
   },
   "outputs": [],
   "source": [
    "df.drop(\"transactions\", axis=1, inplace=True)"
   ]
  },
  {
   "cell_type": "markdown",
   "metadata": {},
   "source": [
    "For a business, its location detail contain 3 columns of address. \n",
    "- The first one is address of business based on the mall/location name or if it is not in a mall, this column will contain the street address in Finnish.\n",
    "- The second one is the street address in Finish if the previous information is mall/location name. Otherwise, it contains street address in Swedish if the previous ones is street address in Finish.\n",
    "- The last one is mostly NaN value or name of the city that this business locates.\n",
    "\n",
    "Since we have specified column \"location.city\", and the column \"location.address1\" has sufficient information about the address, we can drop the other two columns. The location.address1 column will also be renamed to \"address\" for simplification."
   ]
  },
  {
   "cell_type": "code",
   "execution_count": 13,
   "metadata": {
    "ExecuteTime": {
     "end_time": "2021-01-04T12:07:40.804019Z",
     "start_time": "2021-01-04T12:07:40.800982Z"
    }
   },
   "outputs": [],
   "source": [
    "df.drop([\"location.address2\", \"location.address3\"], axis=1, inplace=True)\n",
    "df.rename({\"location.address1\": \"address\"}, axis=1, inplace=True)"
   ]
  },
  {
   "cell_type": "markdown",
   "metadata": {},
   "source": [
    "\"location.state\" column also can be dropped since we have city name for reference."
   ]
  },
  {
   "cell_type": "code",
   "execution_count": 14,
   "metadata": {
    "ExecuteTime": {
     "end_time": "2021-01-04T12:07:40.808174Z",
     "start_time": "2021-01-04T12:07:40.805620Z"
    }
   },
   "outputs": [],
   "source": [
    "df.drop(\"location.state\", axis=1, inplace=True)"
   ]
  },
  {
   "cell_type": "markdown",
   "metadata": {},
   "source": [
    "### Rename columns and reformat the contain\n",
    "Rename to columns to decrease the length for simplification."
   ]
  },
  {
   "cell_type": "code",
   "execution_count": 15,
   "metadata": {
    "ExecuteTime": {
     "end_time": "2021-01-04T12:07:40.811578Z",
     "start_time": "2021-01-04T12:07:40.809486Z"
    }
   },
   "outputs": [],
   "source": [
    "df.rename({\"coordinates.latitude\":\"lat\", \"coordinates.longitude\":\"long\", \"location.city\":\"city\", \"location.zip_code\": \"zipcode\", \n",
    "           \"location.country\": \"country\"}, axis=1, inplace=True)"
   ]
  },
  {
   "cell_type": "markdown",
   "metadata": {},
   "source": [
    "To make sure that the text contains are in the same format for later duplicates checking, I will apply the same type of format title for three columns: \n",
    "- name\n",
    "- address\n",
    "- city"
   ]
  },
  {
   "cell_type": "code",
   "execution_count": 16,
   "metadata": {
    "ExecuteTime": {
     "end_time": "2021-01-04T12:07:41.496139Z",
     "start_time": "2021-01-04T12:07:40.812790Z"
    }
   },
   "outputs": [],
   "source": [
    "df[['name', 'address', 'city']] = df[['name', 'address', 'city']].apply(lambda x: x.str.title(), axis=1)"
   ]
  },
  {
   "cell_type": "markdown",
   "metadata": {},
   "source": [
    "I check further for any mistakes in recording city name. For example, city name should be in Finnish not Swedish."
   ]
  },
  {
   "cell_type": "code",
   "execution_count": 17,
   "metadata": {
    "ExecuteTime": {
     "end_time": "2021-01-04T12:07:41.520474Z",
     "start_time": "2021-01-04T12:07:41.497125Z"
    }
   },
   "outputs": [
    {
     "data": {
      "text/plain": [
       "['Helsingfors', 'Jakobstad', 'Mariehamn']"
      ]
     },
     "execution_count": 17,
     "metadata": {},
     "output_type": "execute_result"
    }
   ],
   "source": [
    "swedish_name = list(set([city for city in df.city if city in cities[\"Swedish name\"].to_list()]))\n",
    "swedish_name"
   ]
  },
  {
   "cell_type": "markdown",
   "metadata": {},
   "source": [
    "We can see that there are some entries that record the city information in Swedish instead of Finnish, and their correct name in Finnish is:"
   ]
  },
  {
   "cell_type": "code",
   "execution_count": 18,
   "metadata": {
    "ExecuteTime": {
     "end_time": "2021-01-04T12:07:41.527493Z",
     "start_time": "2021-01-04T12:07:41.523525Z"
    }
   },
   "outputs": [
    {
     "data": {
      "text/plain": [
       "{'Helsingfors': 'Helsinki',\n",
       " 'Jakobstad': 'Pietarsaari',\n",
       " 'Mariehamn': 'Maarianhamina'}"
      ]
     },
     "execution_count": 18,
     "metadata": {},
     "output_type": "execute_result"
    }
   ],
   "source": [
    "d = {}\n",
    "for city in swedish_name:\n",
    "    d[city] = cities[cities[\"Swedish name\"]==city][\"Finnish name\"].values[0]\n",
    "d"
   ]
  },
  {
   "cell_type": "markdown",
   "metadata": {},
   "source": [
    "They will be changed to Finnish name now."
   ]
  },
  {
   "cell_type": "code",
   "execution_count": 19,
   "metadata": {
    "ExecuteTime": {
     "end_time": "2021-01-04T12:07:41.531839Z",
     "start_time": "2021-01-04T12:07:41.528632Z"
    }
   },
   "outputs": [],
   "source": [
    "df.city = df.city.apply(lambda x: d[x] if x in d.keys() else x)"
   ]
  },
  {
   "cell_type": "markdown",
   "metadata": {},
   "source": [
    "Another problem I detected during the data cleaning is that there are some restaurants that are not in Finnish region."
   ]
  },
  {
   "cell_type": "code",
   "execution_count": 20,
   "metadata": {
    "ExecuteTime": {
     "end_time": "2021-01-04T12:07:41.535633Z",
     "start_time": "2021-01-04T12:07:41.533194Z"
    }
   },
   "outputs": [
    {
     "data": {
      "text/plain": [
       "array(['FI', 'DE', 'SE', 'IT'], dtype=object)"
      ]
     },
     "execution_count": 20,
     "metadata": {},
     "output_type": "execute_result"
    }
   ],
   "source": [
    "df.country.unique()"
   ]
  },
  {
   "cell_type": "markdown",
   "metadata": {},
   "source": [
    "Therefore, these rows will be removed. After making sure all the restaurants are in Finland, we can drop the country column."
   ]
  },
  {
   "cell_type": "code",
   "execution_count": 21,
   "metadata": {
    "ExecuteTime": {
     "end_time": "2021-01-04T12:07:41.541287Z",
     "start_time": "2021-01-04T12:07:41.536865Z"
    }
   },
   "outputs": [],
   "source": [
    "df = df[df.country=='FI'].drop(\"country\", axis=1)"
   ]
  },
  {
   "cell_type": "markdown",
   "metadata": {},
   "source": [
    "Finally, since Finnish alphabet have some special letter, that could be replace with English alphabet, I will check for the similarity of city name to find if there is any mistake."
   ]
  },
  {
   "cell_type": "code",
   "execution_count": 22,
   "metadata": {
    "ExecuteTime": {
     "end_time": "2021-01-04T12:07:41.790569Z",
     "start_time": "2021-01-04T12:07:41.542272Z"
    }
   },
   "outputs": [
    {
     "name": "stdout",
     "output_type": "stream",
     "text": [
      "Hameenlinna ('Hämeenlinna', 95)\n",
      "Salo ('Oulunsalo', 90)\n",
      "Hamina ('Maarianhamina', 90)\n",
      "Virolahti ('Lahti', 90)\n",
      "Pori ('Raasepori', 90)\n",
      "Säkylä ('Jyväskylä', 90)\n",
      "Kontiolahti ('Lahti', 90)\n",
      "Jyväskylä ('Jyvaskyla', 88)\n",
      "Jämsänkoski ('Jämsä', 90)\n",
      "Korpilahti ('Lahti', 90)\n",
      "Kemi ('Kemiö', 100)\n",
      "Pohjaslahti ('Lahti', 90)\n",
      "Fiskars ('Fiskari', 86)\n",
      "Oulu ('Oulunsalo', 90)\n",
      "Napapiiri Rovaniemi ('Rovaniemi', 90)\n"
     ]
    }
   ],
   "source": [
    "ori_city = df.city.unique()\n",
    "for i in range(len(ori_city)-1):\n",
    "    base = ori_city[i]\n",
    "    to_check = ori_city[i+1:]\n",
    "    ratios = process.extractOne(base, to_check)\n",
    "    if ratios[1] > 85:\n",
    "        print(base, ratios)"
   ]
  },
  {
   "cell_type": "markdown",
   "metadata": {},
   "source": [
    "We can see that Hämeenlinna is replaced with Hameenlinna and Jyväskylä is replaced with Jyvaskyla. I will replace these name with their right one. Other names that have high similarity, they are town near the city, therefore, no need to change."
   ]
  },
  {
   "cell_type": "code",
   "execution_count": 23,
   "metadata": {
    "ExecuteTime": {
     "end_time": "2021-01-04T12:07:41.794861Z",
     "start_time": "2021-01-04T12:07:41.791532Z"
    }
   },
   "outputs": [],
   "source": [
    "right_name = {\"Hameenlinna\": \"Hämeenlinna\", \"Jyvaskyla\": \"Jyväskylä\"}\n",
    "df.city = df.city.apply(lambda x: right_name[x] if x in right_name.keys() else x)"
   ]
  },
  {
   "cell_type": "markdown",
   "metadata": {},
   "source": [
    "### Modify the type of columns & check for duplicates"
   ]
  },
  {
   "cell_type": "code",
   "execution_count": 24,
   "metadata": {
    "ExecuteTime": {
     "end_time": "2021-01-04T12:07:41.802999Z",
     "start_time": "2021-01-04T12:07:41.795983Z"
    }
   },
   "outputs": [
    {
     "name": "stdout",
     "output_type": "stream",
     "text": [
      "<class 'pandas.core.frame.DataFrame'>\n",
      "Int64Index: 4650 entries, 0 to 4662\n",
      "Data columns (total 11 columns):\n",
      " #   Column        Non-Null Count  Dtype  \n",
      "---  ------        --------------  -----  \n",
      " 0   name          4650 non-null   object \n",
      " 1   review_count  4650 non-null   int64  \n",
      " 2   categories    4650 non-null   object \n",
      " 3   rating        4650 non-null   float64\n",
      " 4   price         2330 non-null   object \n",
      " 5   distance      4650 non-null   float64\n",
      " 6   lat           4650 non-null   float64\n",
      " 7   long          4650 non-null   float64\n",
      " 8   address       4637 non-null   object \n",
      " 9   city          4650 non-null   object \n",
      " 10  zipcode       4630 non-null   object \n",
      "dtypes: float64(4), int64(1), object(6)\n",
      "memory usage: 435.9+ KB\n"
     ]
    }
   ],
   "source": [
    "df.info()"
   ]
  },
  {
   "cell_type": "markdown",
   "metadata": {},
   "source": [
    "Every column is in correct type, so there is nothing to modify on the type of column. Let's check for duplicates. For this check, \"name\",\"address\",\"lat\",\"long\",and \"city\" columns will be included in subset for checking."
   ]
  },
  {
   "cell_type": "code",
   "execution_count": 25,
   "metadata": {
    "ExecuteTime": {
     "end_time": "2021-01-04T12:07:41.809673Z",
     "start_time": "2021-01-04T12:07:41.804067Z"
    }
   },
   "outputs": [
    {
     "data": {
      "text/plain": [
       "2421"
      ]
     },
     "execution_count": 25,
     "metadata": {},
     "output_type": "execute_result"
    }
   ],
   "source": [
    "df.duplicated(subset=[\"name\",\"address\",\"lat\",\"long\",\"city\"]).sum()"
   ]
  },
  {
   "cell_type": "code",
   "execution_count": 26,
   "metadata": {
    "ExecuteTime": {
     "end_time": "2021-01-04T12:07:41.815502Z",
     "start_time": "2021-01-04T12:07:41.810628Z"
    }
   },
   "outputs": [],
   "source": [
    "df.drop_duplicates(subset=[\"name\",\"address\",\"lat\",\"long\",\"city\"], inplace=True)"
   ]
  },
  {
   "cell_type": "markdown",
   "metadata": {},
   "source": [
    "### Dealing with NaN values"
   ]
  },
  {
   "cell_type": "code",
   "execution_count": 27,
   "metadata": {
    "ExecuteTime": {
     "end_time": "2021-01-04T12:07:41.821115Z",
     "start_time": "2021-01-04T12:07:41.816483Z"
    }
   },
   "outputs": [
    {
     "data": {
      "text/plain": [
       "name               0\n",
       "review_count       0\n",
       "categories         0\n",
       "rating             0\n",
       "price           1017\n",
       "distance           0\n",
       "lat                0\n",
       "long               0\n",
       "address            9\n",
       "city               0\n",
       "zipcode            9\n",
       "dtype: int64"
      ]
     },
     "execution_count": 27,
     "metadata": {},
     "output_type": "execute_result"
    }
   ],
   "source": [
    "df.isnull().sum()"
   ]
  },
  {
   "cell_type": "code",
   "execution_count": 28,
   "metadata": {
    "ExecuteTime": {
     "end_time": "2021-01-04T12:07:42.025985Z",
     "start_time": "2021-01-04T12:07:41.822057Z"
    }
   },
   "outputs": [
    {
     "data": {
      "text/plain": [
       "<AxesSubplot:>"
      ]
     },
     "execution_count": 28,
     "metadata": {},
     "output_type": "execute_result"
    },
    {
     "data": {
      "image/png": "[encoded data removed]",
      "text/plain": [
       "<Figure size 432x288 with 1 Axes>"
      ]
     },
     "metadata": {
      "needs_background": "light"
     },
     "output_type": "display_data"
    }
   ],
   "source": [
    "sns.heatmap(df.isnull(), cbar=False)"
   ]
  },
  {
   "cell_type": "markdown",
   "metadata": {},
   "source": [
    "Mostly all the missing values are in price level columns.It can be examined further to find a suitable method to deal with these missing values."
   ]
  },
  {
   "cell_type": "code",
   "execution_count": 29,
   "metadata": {
    "ExecuteTime": {
     "end_time": "2021-01-04T12:07:42.035104Z",
     "start_time": "2021-01-04T12:07:42.026855Z"
    }
   },
   "outputs": [],
   "source": [
    "price = df[\"price\"].isnull().groupby(df[\"city\"]).sum().sort_values()\n",
    "price_city = df.groupby(\"city\").count()[\"name\"].sort_values()\n",
    "c_pie = pd.Series(index = [\"other\"], data = [price_city[price_city<50].sum()]).append(price_city[price_city>=50])"
   ]
  },
  {
   "cell_type": "code",
   "execution_count": 30,
   "metadata": {
    "ExecuteTime": {
     "end_time": "2021-01-04T12:07:42.252010Z",
     "start_time": "2021-01-04T12:07:42.036136Z"
    }
   },
   "outputs": [
    {
     "data": {
      "application/vnd.plotly.v1+json": {
       "config": {
        "plotlyServerURL": "https://plot.ly"
       },
       "data": [
        {
         "domain": {
          "x": [
           0,
           1
          ],
          "y": [
           0,
           1
          ]
         },
         "hovertemplate": "index=%{label}<br>value=%{value}<extra></extra>",
         "labels": [
          "other",
          "Oulu",
          "Turku",
          "Vantaa",
          "Espoo",
          "Tampere",
          "Helsinki"
         ],
         "legendgroup": "",
         "name": "",
         "showlegend": true,
         "type": "pie",
         "values": [
          612,
          64,
          83,
          88,
          147,
          182,
          1053
         ]
        }
       ],
       "layout": {
        "legend": {
         "tracegroupgap": 0
        },
        "template": {
         "data": {
          "bar": [
           {
            "error_x": {
             "color": "#2a3f5f"
            },
            "error_y": {
             "color": "#2a3f5f"
            },
            "marker": {
             "line": {
              "color": "#E5ECF6",
              "width": 0.5
             }
            },
            "type": "bar"
           }
          ],
          "barpolar": [
           {
            "marker": {
             "line": {
              "color": "#E5ECF6",
              "width": 0.5
             }
            },
            "type": "barpolar"
           }
          ],
          "carpet": [
           {
            "aaxis": {
             "endlinecolor": "#2a3f5f",
             "gridcolor": "white",
             "linecolor": "white",
             "minorgridcolor": "white",
             "startlinecolor": "#2a3f5f"
            },
            "baxis": {
             "endlinecolor": "#2a3f5f",
             "gridcolor": "white",
             "linecolor": "white",
             "minorgridcolor": "white",
             "startlinecolor": "#2a3f5f"
            },
            "type": "carpet"
           }
          ],
          "choropleth": [
           {
            "colorbar": {
             "outlinewidth": 0,
             "ticks": ""
            },
            "type": "choropleth"
           }
          ],
          "contour": [
           {
            "colorbar": {
             "outlinewidth": 0,
             "ticks": ""
            },
            "colorscale": [
             [
              0,
              "#0d0887"
             ],
             [
              0.1111111111111111,
              "#46039f"
             ],
             [
              0.2222222222222222,
              "#7201a8"
             ],
             [
              0.3333333333333333,
              "#9c179e"
             ],
             [
              0.4444444444444444,
              "#bd3786"
             ],
             [
              0.5555555555555556,
              "#d8576b"
             ],
             [
              0.6666666666666666,
              "#ed7953"
             ],
             [
              0.7777777777777778,
              "#fb9f3a"
             ],
             [
              0.8888888888888888,
              "#fdca26"
             ],
             [
              1,
              "#f0f921"
             ]
            ],
            "type": "contour"
           }
          ],
          "contourcarpet": [
           {
            "colorbar": {
             "outlinewidth": 0,
             "ticks": ""
            },
            "type": "contourcarpet"
           }
          ],
          "heatmap": [
           {
            "colorbar": {
             "outlinewidth": 0,
             "ticks": ""
            },
            "colorscale": [
             [
              0,
              "#0d0887"
             ],
             [
              0.1111111111111111,
              "#46039f"
             ],
             [
              0.2222222222222222,
              "#7201a8"
             ],
             [
              0.3333333333333333,
              "#9c179e"
             ],
             [
              0.4444444444444444,
              "#bd3786"
             ],
             [
              0.5555555555555556,
              "#d8576b"
             ],
             [
              0.6666666666666666,
              "#ed7953"
             ],
             [
              0.7777777777777778,
              "#fb9f3a"
             ],
             [
              0.8888888888888888,
              "#fdca26"
             ],
             [
              1,
              "#f0f921"
             ]
            ],
            "type": "heatmap"
           }
          ],
          "heatmapgl": [
           {
            "colorbar": {
             "outlinewidth": 0,
             "ticks": ""
            },
            "colorscale": [
             [
              0,
              "#0d0887"
             ],
             [
              0.1111111111111111,
              "#46039f"
             ],
             [
              0.2222222222222222,
              "#7201a8"
             ],
             [
              0.3333333333333333,
              "#9c179e"
             ],
             [
              0.4444444444444444,
              "#bd3786"
             ],
             [
              0.5555555555555556,
              "#d8576b"
             ],
             [
              0.6666666666666666,
              "#ed7953"
             ],
             [
              0.7777777777777778,
              "#fb9f3a"
             ],
             [
              0.8888888888888888,
              "#fdca26"
             ],
             [
              1,
              "#f0f921"
             ]
            ],
            "type": "heatmapgl"
           }
          ],
          "histogram": [
           {
            "marker": {
             "colorbar": {
              "outlinewidth": 0,
              "ticks": ""
             }
            },
            "type": "histogram"
           }
          ],
          "histogram2d": [
           {
            "colorbar": {
             "outlinewidth": 0,
             "ticks": ""
            },
            "colorscale": [
             [
              0,
              "#0d0887"
             ],
             [
              0.1111111111111111,
              "#46039f"
             ],
             [
              0.2222222222222222,
              "#7201a8"
             ],
             [
              0.3333333333333333,
              "#9c179e"
             ],
             [
              0.4444444444444444,
              "#bd3786"
             ],
             [
              0.5555555555555556,
              "#d8576b"
             ],
             [
              0.6666666666666666,
              "#ed7953"
             ],
             [
              0.7777777777777778,
              "#fb9f3a"
             ],
             [
              0.8888888888888888,
              "#fdca26"
             ],
             [
              1,
              "#f0f921"
             ]
            ],
            "type": "histogram2d"
           }
          ],
          "histogram2dcontour": [
           {
            "colorbar": {
             "outlinewidth": 0,
             "ticks": ""
            },
            "colorscale": [
             [
              0,
              "#0d0887"
             ],
             [
              0.1111111111111111,
              "#46039f"
             ],
             [
              0.2222222222222222,
              "#7201a8"
             ],
             [
              0.3333333333333333,
              "#9c179e"
             ],
             [
              0.4444444444444444,
              "#bd3786"
             ],
             [
              0.5555555555555556,
              "#d8576b"
             ],
             [
              0.6666666666666666,
              "#ed7953"
             ],
             [
              0.7777777777777778,
              "#fb9f3a"
             ],
             [
              0.8888888888888888,
              "#fdca26"
             ],
             [
              1,
              "#f0f921"
             ]
            ],
            "type": "histogram2dcontour"
           }
          ],
          "mesh3d": [
           {
            "colorbar": {
             "outlinewidth": 0,
             "ticks": ""
            },
            "type": "mesh3d"
           }
          ],
          "parcoords": [
           {
            "line": {
             "colorbar": {
              "outlinewidth": 0,
              "ticks": ""
             }
            },
            "type": "parcoords"
           }
          ],
          "pie": [
           {
            "automargin": true,
            "type": "pie"
           }
          ],
          "scatter": [
           {
            "marker": {
             "colorbar": {
              "outlinewidth": 0,
              "ticks": ""
             }
            },
            "type": "scatter"
           }
          ],
          "scatter3d": [
           {
            "line": {
             "colorbar": {
              "outlinewidth": 0,
              "ticks": ""
             }
            },
            "marker": {
             "colorbar": {
              "outlinewidth": 0,
              "ticks": ""
             }
            },
            "type": "scatter3d"
           }
          ],
          "scattercarpet": [
           {
            "marker": {
             "colorbar": {
              "outlinewidth": 0,
              "ticks": ""
             }
            },
            "type": "scattercarpet"
           }
          ],
          "scattergeo": [
           {
            "marker": {
             "colorbar": {
              "outlinewidth": 0,
              "ticks": ""
             }
            },
            "type": "scattergeo"
           }
          ],
          "scattergl": [
           {
            "marker": {
             "colorbar": {
              "outlinewidth": 0,
              "ticks": ""
             }
            },
            "type": "scattergl"
           }
          ],
          "scattermapbox": [
           {
            "marker": {
             "colorbar": {
              "outlinewidth": 0,
              "ticks": ""
             }
            },
            "type": "scattermapbox"
           }
          ],
          "scatterpolar": [
           {
            "marker": {
             "colorbar": {
              "outlinewidth": 0,
              "ticks": ""
             }
            },
            "type": "scatterpolar"
           }
          ],
          "scatterpolargl": [
           {
            "marker": {
             "colorbar": {
              "outlinewidth": 0,
              "ticks": ""
             }
            },
            "type": "scatterpolargl"
           }
          ],
          "scatterternary": [
           {
            "marker": {
             "colorbar": {
              "outlinewidth": 0,
              "ticks": ""
             }
            },
            "type": "scatterternary"
           }
          ],
          "surface": [
           {
            "colorbar": {
             "outlinewidth": 0,
             "ticks": ""
            },
            "colorscale": [
             [
              0,
              "#0d0887"
             ],
             [
              0.1111111111111111,
              "#46039f"
             ],
             [
              0.2222222222222222,
              "#7201a8"
             ],
             [
              0.3333333333333333,
              "#9c179e"
             ],
             [
              0.4444444444444444,
              "#bd3786"
             ],
             [
              0.5555555555555556,
              "#d8576b"
             ],
             [
              0.6666666666666666,
              "#ed7953"
             ],
             [
              0.7777777777777778,
              "#fb9f3a"
             ],
             [
              0.8888888888888888,
              "#fdca26"
             ],
             [
              1,
              "#f0f921"
             ]
            ],
            "type": "surface"
           }
          ],
          "table": [
           {
            "cells": {
             "fill": {
              "color": "#EBF0F8"
             },
             "line": {
              "color": "white"
             }
            },
            "header": {
             "fill": {
              "color": "#C8D4E3"
             },
             "line": {
              "color": "white"
             }
            },
            "type": "table"
           }
          ]
         },
         "layout": {
          "annotationdefaults": {
           "arrowcolor": "#2a3f5f",
           "arrowhead": 0,
           "arrowwidth": 1
          },
          "coloraxis": {
           "colorbar": {
            "outlinewidth": 0,
            "ticks": ""
           }
          },
          "colorscale": {
           "diverging": [
            [
             0,
             "#8e0152"
            ],
            [
             0.1,
             "#c51b7d"
            ],
            [
             0.2,
             "#de77ae"
            ],
            [
             0.3,
             "#f1b6da"
            ],
            [
             0.4,
             "#fde0ef"
            ],
            [
             0.5,
             "#f7f7f7"
            ],
            [
             0.6,
             "#e6f5d0"
            ],
            [
             0.7,
             "#b8e186"
            ],
            [
             0.8,
             "#7fbc41"
            ],
            [
             0.9,
             "#4d9221"
            ],
            [
             1,
             "#276419"
            ]
           ],
           "sequential": [
            [
             0,
             "#0d0887"
            ],
            [
             0.1111111111111111,
             "#46039f"
            ],
            [
             0.2222222222222222,
             "#7201a8"
            ],
            [
             0.3333333333333333,
             "#9c179e"
            ],
            [
             0.4444444444444444,
             "#bd3786"
            ],
            [
             0.5555555555555556,
             "#d8576b"
            ],
            [
             0.6666666666666666,
             "#ed7953"
            ],
            [
             0.7777777777777778,
             "#fb9f3a"
            ],
            [
             0.8888888888888888,
             "#fdca26"
            ],
            [
             1,
             "#f0f921"
            ]
           ],
           "sequentialminus": [
            [
             0,
             "#0d0887"
            ],
            [
             0.1111111111111111,
             "#46039f"
            ],
            [
             0.2222222222222222,
             "#7201a8"
            ],
            [
             0.3333333333333333,
             "#9c179e"
            ],
            [
             0.4444444444444444,
             "#bd3786"
            ],
            [
             0.5555555555555556,
             "#d8576b"
            ],
            [
             0.6666666666666666,
             "#ed7953"
            ],
            [
             0.7777777777777778,
             "#fb9f3a"
            ],
            [
             0.8888888888888888,
             "#fdca26"
            ],
            [
             1,
             "#f0f921"
            ]
           ]
          },
          "colorway": [
           "#636efa",
           "#EF553B",
           "#00cc96",
           "#ab63fa",
           "#FFA15A",
           "#19d3f3",
           "#FF6692",
           "#B6E880",
           "#FF97FF",
           "#FECB52"
          ],
          "font": {
           "color": "#2a3f5f"
          },
          "geo": {
           "bgcolor": "white",
           "lakecolor": "white",
           "landcolor": "#E5ECF6",
           "showlakes": true,
           "showland": true,
           "subunitcolor": "white"
          },
          "hoverlabel": {
           "align": "left"
          },
          "hovermode": "closest",
          "mapbox": {
           "style": "light"
          },
          "paper_bgcolor": "white",
          "plot_bgcolor": "#E5ECF6",
          "polar": {
           "angularaxis": {
            "gridcolor": "white",
            "linecolor": "white",
            "ticks": ""
           },
           "bgcolor": "#E5ECF6",
           "radialaxis": {
            "gridcolor": "white",
            "linecolor": "white",
            "ticks": ""
           }
          },
          "scene": {
           "xaxis": {
            "backgroundcolor": "#E5ECF6",
            "gridcolor": "white",
            "gridwidth": 2,
            "linecolor": "white",
            "showbackground": true,
            "ticks": "",
            "zerolinecolor": "white"
           },
           "yaxis": {
            "backgroundcolor": "#E5ECF6",
            "gridcolor": "white",
            "gridwidth": 2,
            "linecolor": "white",
            "showbackground": true,
            "ticks": "",
            "zerolinecolor": "white"
           },
           "zaxis": {
            "backgroundcolor": "#E5ECF6",
            "gridcolor": "white",
            "gridwidth": 2,
            "linecolor": "white",
            "showbackground": true,
            "ticks": "",
            "zerolinecolor": "white"
           }
          },
          "shapedefaults": {
           "line": {
            "color": "#2a3f5f"
           }
          },
          "ternary": {
           "aaxis": {
            "gridcolor": "white",
            "linecolor": "white",
            "ticks": ""
           },
           "baxis": {
            "gridcolor": "white",
            "linecolor": "white",
            "ticks": ""
           },
           "bgcolor": "#E5ECF6",
           "caxis": {
            "gridcolor": "white",
            "linecolor": "white",
            "ticks": ""
           }
          },
          "title": {
           "x": 0.05
          },
          "xaxis": {
           "automargin": true,
           "gridcolor": "white",
           "linecolor": "white",
           "ticks": "",
           "title": {
            "standoff": 15
           },
           "zerolinecolor": "white",
           "zerolinewidth": 2
          },
          "yaxis": {
           "automargin": true,
           "gridcolor": "white",
           "linecolor": "white",
           "ticks": "",
           "title": {
            "standoff": 15
           },
           "zerolinecolor": "white",
           "zerolinewidth": 2
          }
         }
        },
        "title": {
         "text": "Proportion for each city in dataset"
        }
       }
      },
      "text/html": [
       "<div>                            <div id=\"14ebc425-ce64-43ba-9218-dd4ab6e24fd8\" class=\"plotly-graph-div\" style=\"height:525px; width:100%;\"></div>            <script type=\"text/javascript\">                require([\"plotly\"], function(Plotly) {                    window.PLOTLYENV=window.PLOTLYENV || {};                                    if (document.getElementById(\"14ebc425-ce64-43ba-9218-dd4ab6e24fd8\")) {                    Plotly.newPlot(                        \"14ebc425-ce64-43ba-9218-dd4ab6e24fd8\",                        [{\"domain\": {\"x\": [0.0, 1.0], \"y\": [0.0, 1.0]}, \"hovertemplate\": \"index=%{label}<br>value=%{value}<extra></extra>\", \"labels\": [\"other\", \"Oulu\", \"Turku\", \"Vantaa\", \"Espoo\", \"Tampere\", \"Helsinki\"], \"legendgroup\": \"\", \"name\": \"\", \"showlegend\": true, \"type\": \"pie\", \"values\": [612, 64, 83, 88, 147, 182, 1053]}],                        {\"legend\": {\"tracegroupgap\": 0}, \"template\": {\"data\": {\"bar\": [{\"error_x\": {\"color\": \"#2a3f5f\"}, \"error_y\": {\"color\": \"#2a3f5f\"}, \"marker\": {\"line\": {\"color\": \"#E5ECF6\", \"width\": 0.5}}, \"type\": \"bar\"}], \"barpolar\": [{\"marker\": {\"line\": {\"color\": \"#E5ECF6\", \"width\": 0.5}}, \"type\": \"barpolar\"}], \"carpet\": [{\"aaxis\": {\"endlinecolor\": \"#2a3f5f\", \"gridcolor\": \"white\", \"linecolor\": \"white\", \"minorgridcolor\": \"white\", \"startlinecolor\": \"#2a3f5f\"}, \"baxis\": {\"endlinecolor\": \"#2a3f5f\", \"gridcolor\": \"white\", \"linecolor\": \"white\", \"minorgridcolor\": \"white\", \"startlinecolor\": \"#2a3f5f\"}, \"type\": \"carpet\"}], \"choropleth\": [{\"colorbar\": {\"outlinewidth\": 0, \"ticks\": \"\"}, \"type\": \"choropleth\"}], \"contour\": [{\"colorbar\": {\"outlinewidth\": 0, \"ticks\": \"\"}, \"colorscale\": [[0.0, \"#0d0887\"], [0.1111111111111111, \"#46039f\"], [0.2222222222222222, \"#7201a8\"], [0.3333333333333333, \"#9c179e\"], [0.4444444444444444, \"#bd3786\"], [0.5555555555555556, \"#d8576b\"], [0.6666666666666666, \"#ed7953\"], [0.7777777777777778, \"#fb9f3a\"], [0.8888888888888888, \"#fdca26\"], [1.0, \"#f0f921\"]], \"type\": \"contour\"}], \"contourcarpet\": [{\"colorbar\": {\"outlinewidth\": 0, \"ticks\": \"\"}, \"type\": \"contourcarpet\"}], \"heatmap\": [{\"colorbar\": {\"outlinewidth\": 0, \"ticks\": \"\"}, \"colorscale\": [[0.0, \"#0d0887\"], [0.1111111111111111, \"#46039f\"], [0.2222222222222222, \"#7201a8\"], [0.3333333333333333, \"#9c179e\"], [0.4444444444444444, \"#bd3786\"], [0.5555555555555556, \"#d8576b\"], [0.6666666666666666, \"#ed7953\"], [0.7777777777777778, \"#fb9f3a\"], [0.8888888888888888, \"#fdca26\"], [1.0, \"#f0f921\"]], \"type\": \"heatmap\"}], \"heatmapgl\": [{\"colorbar\": {\"outlinewidth\": 0, \"ticks\": \"\"}, \"colorscale\": [[0.0, \"#0d0887\"], [0.1111111111111111, \"#46039f\"], [0.2222222222222222, \"#7201a8\"], [0.3333333333333333, \"#9c179e\"], [0.4444444444444444, \"#bd3786\"], [0.5555555555555556, \"#d8576b\"], [0.6666666666666666, \"#ed7953\"], [0.7777777777777778, \"#fb9f3a\"], [0.8888888888888888, \"#fdca26\"], [1.0, \"#f0f921\"]], \"type\": \"heatmapgl\"}], \"histogram\": [{\"marker\": {\"colorbar\": {\"outlinewidth\": 0, \"ticks\": \"\"}}, \"type\": \"histogram\"}], \"histogram2d\": [{\"colorbar\": {\"outlinewidth\": 0, \"ticks\": \"\"}, \"colorscale\": [[0.0, \"#0d0887\"], [0.1111111111111111, \"#46039f\"], [0.2222222222222222, \"#7201a8\"], [0.3333333333333333, \"#9c179e\"], [0.4444444444444444, \"#bd3786\"], [0.5555555555555556, \"#d8576b\"], [0.6666666666666666, \"#ed7953\"], [0.7777777777777778, \"#fb9f3a\"], [0.8888888888888888, \"#fdca26\"], [1.0, \"#f0f921\"]], \"type\": \"histogram2d\"}], \"histogram2dcontour\": [{\"colorbar\": {\"outlinewidth\": 0, \"ticks\": \"\"}, \"colorscale\": [[0.0, \"#0d0887\"], [0.1111111111111111, \"#46039f\"], [0.2222222222222222, \"#7201a8\"], [0.3333333333333333, \"#9c179e\"], [0.4444444444444444, \"#bd3786\"], [0.5555555555555556, \"#d8576b\"], [0.6666666666666666, \"#ed7953\"], [0.7777777777777778, \"#fb9f3a\"], [0.8888888888888888, \"#fdca26\"], [1.0, \"#f0f921\"]], \"type\": \"histogram2dcontour\"}], \"mesh3d\": [{\"colorbar\": {\"outlinewidth\": 0, \"ticks\": \"\"}, \"type\": \"mesh3d\"}], \"parcoords\": [{\"line\": {\"colorbar\": {\"outlinewidth\": 0, \"ticks\": \"\"}}, \"type\": \"parcoords\"}], \"pie\": [{\"automargin\": true, \"type\": \"pie\"}], \"scatter\": [{\"marker\": {\"colorbar\": {\"outlinewidth\": 0, \"ticks\": \"\"}}, \"type\": \"scatter\"}], \"scatter3d\": [{\"line\": {\"colorbar\": {\"outlinewidth\": 0, \"ticks\": \"\"}}, \"marker\": {\"colorbar\": {\"outlinewidth\": 0, \"ticks\": \"\"}}, \"type\": \"scatter3d\"}], \"scattercarpet\": [{\"marker\": {\"colorbar\": {\"outlinewidth\": 0, \"ticks\": \"\"}}, \"type\": \"scattercarpet\"}], \"scattergeo\": [{\"marker\": {\"colorbar\": {\"outlinewidth\": 0, \"ticks\": \"\"}}, \"type\": \"scattergeo\"}], \"scattergl\": [{\"marker\": {\"colorbar\": {\"outlinewidth\": 0, \"ticks\": \"\"}}, \"type\": \"scattergl\"}], \"scattermapbox\": [{\"marker\": {\"colorbar\": {\"outlinewidth\": 0, \"ticks\": \"\"}}, \"type\": \"scattermapbox\"}], \"scatterpolar\": [{\"marker\": {\"colorbar\": {\"outlinewidth\": 0, \"ticks\": \"\"}}, \"type\": \"scatterpolar\"}], \"scatterpolargl\": [{\"marker\": {\"colorbar\": {\"outlinewidth\": 0, \"ticks\": \"\"}}, \"type\": \"scatterpolargl\"}], \"scatterternary\": [{\"marker\": {\"colorbar\": {\"outlinewidth\": 0, \"ticks\": \"\"}}, \"type\": \"scatterternary\"}], \"surface\": [{\"colorbar\": {\"outlinewidth\": 0, \"ticks\": \"\"}, \"colorscale\": [[0.0, \"#0d0887\"], [0.1111111111111111, \"#46039f\"], [0.2222222222222222, \"#7201a8\"], [0.3333333333333333, \"#9c179e\"], [0.4444444444444444, \"#bd3786\"], [0.5555555555555556, \"#d8576b\"], [0.6666666666666666, \"#ed7953\"], [0.7777777777777778, \"#fb9f3a\"], [0.8888888888888888, \"#fdca26\"], [1.0, \"#f0f921\"]], \"type\": \"surface\"}], \"table\": [{\"cells\": {\"fill\": {\"color\": \"#EBF0F8\"}, \"line\": {\"color\": \"white\"}}, \"header\": {\"fill\": {\"color\": \"#C8D4E3\"}, \"line\": {\"color\": \"white\"}}, \"type\": \"table\"}]}, \"layout\": {\"annotationdefaults\": {\"arrowcolor\": \"#2a3f5f\", \"arrowhead\": 0, \"arrowwidth\": 1}, \"coloraxis\": {\"colorbar\": {\"outlinewidth\": 0, \"ticks\": \"\"}}, \"colorscale\": {\"diverging\": [[0, \"#8e0152\"], [0.1, \"#c51b7d\"], [0.2, \"#de77ae\"], [0.3, \"#f1b6da\"], [0.4, \"#fde0ef\"], [0.5, \"#f7f7f7\"], [0.6, \"#e6f5d0\"], [0.7, \"#b8e186\"], [0.8, \"#7fbc41\"], [0.9, \"#4d9221\"], [1, \"#276419\"]], \"sequential\": [[0.0, \"#0d0887\"], [0.1111111111111111, \"#46039f\"], [0.2222222222222222, \"#7201a8\"], [0.3333333333333333, \"#9c179e\"], [0.4444444444444444, \"#bd3786\"], [0.5555555555555556, \"#d8576b\"], [0.6666666666666666, \"#ed7953\"], [0.7777777777777778, \"#fb9f3a\"], [0.8888888888888888, \"#fdca26\"], [1.0, \"#f0f921\"]], \"sequentialminus\": [[0.0, \"#0d0887\"], [0.1111111111111111, \"#46039f\"], [0.2222222222222222, \"#7201a8\"], [0.3333333333333333, \"#9c179e\"], [0.4444444444444444, \"#bd3786\"], [0.5555555555555556, \"#d8576b\"], [0.6666666666666666, \"#ed7953\"], [0.7777777777777778, \"#fb9f3a\"], [0.8888888888888888, \"#fdca26\"], [1.0, \"#f0f921\"]]}, \"colorway\": [\"#636efa\", \"#EF553B\", \"#00cc96\", \"#ab63fa\", \"#FFA15A\", \"#19d3f3\", \"#FF6692\", \"#B6E880\", \"#FF97FF\", \"#FECB52\"], \"font\": {\"color\": \"#2a3f5f\"}, \"geo\": {\"bgcolor\": \"white\", \"lakecolor\": \"white\", \"landcolor\": \"#E5ECF6\", \"showlakes\": true, \"showland\": true, \"subunitcolor\": \"white\"}, \"hoverlabel\": {\"align\": \"left\"}, \"hovermode\": \"closest\", \"mapbox\": {\"style\": \"light\"}, \"paper_bgcolor\": \"white\", \"plot_bgcolor\": \"#E5ECF6\", \"polar\": {\"angularaxis\": {\"gridcolor\": \"white\", \"linecolor\": \"white\", \"ticks\": \"\"}, \"bgcolor\": \"#E5ECF6\", \"radialaxis\": {\"gridcolor\": \"white\", \"linecolor\": \"white\", \"ticks\": \"\"}}, \"scene\": {\"xaxis\": {\"backgroundcolor\": \"#E5ECF6\", \"gridcolor\": \"white\", \"gridwidth\": 2, \"linecolor\": \"white\", \"showbackground\": true, \"ticks\": \"\", \"zerolinecolor\": \"white\"}, \"yaxis\": {\"backgroundcolor\": \"#E5ECF6\", \"gridcolor\": \"white\", \"gridwidth\": 2, \"linecolor\": \"white\", \"showbackground\": true, \"ticks\": \"\", \"zerolinecolor\": \"white\"}, \"zaxis\": {\"backgroundcolor\": \"#E5ECF6\", \"gridcolor\": \"white\", \"gridwidth\": 2, \"linecolor\": \"white\", \"showbackground\": true, \"ticks\": \"\", \"zerolinecolor\": \"white\"}}, \"shapedefaults\": {\"line\": {\"color\": \"#2a3f5f\"}}, \"ternary\": {\"aaxis\": {\"gridcolor\": \"white\", \"linecolor\": \"white\", \"ticks\": \"\"}, \"baxis\": {\"gridcolor\": \"white\", \"linecolor\": \"white\", \"ticks\": \"\"}, \"bgcolor\": \"#E5ECF6\", \"caxis\": {\"gridcolor\": \"white\", \"linecolor\": \"white\", \"ticks\": \"\"}}, \"title\": {\"x\": 0.05}, \"xaxis\": {\"automargin\": true, \"gridcolor\": \"white\", \"linecolor\": \"white\", \"ticks\": \"\", \"title\": {\"standoff\": 15}, \"zerolinecolor\": \"white\", \"zerolinewidth\": 2}, \"yaxis\": {\"automargin\": true, \"gridcolor\": \"white\", \"linecolor\": \"white\", \"ticks\": \"\", \"title\": {\"standoff\": 15}, \"zerolinecolor\": \"white\", \"zerolinewidth\": 2}}}, \"title\": {\"text\": \"Proportion for each city in dataset\"}},                        {\"responsive\": true}                    ).then(function(){\n",
       "                            \n",
       "var gd = document.getElementById('14ebc425-ce64-43ba-9218-dd4ab6e24fd8');\n",
       "var x = new MutationObserver(function (mutations, observer) {{\n",
       "        var display = window.getComputedStyle(gd).display;\n",
       "        if (!display || display === 'none') {{\n",
       "            console.log([gd, 'removed!']);\n",
       "            Plotly.purge(gd);\n",
       "            observer.disconnect();\n",
       "        }}\n",
       "}});\n",
       "\n",
       "// Listen for the removal of the full notebook cells\n",
       "var notebookContainer = gd.closest('#notebook-container');\n",
       "if (notebookContainer) {{\n",
       "    x.observe(notebookContainer, {childList: true});\n",
       "}}\n",
       "\n",
       "// Listen for the clearing of the current output cell\n",
       "var outputEl = gd.closest('.output');\n",
       "if (outputEl) {{\n",
       "    x.observe(outputEl, {childList: true});\n",
       "}}\n",
       "\n",
       "                        })                };                });            </script>        </div>"
      ]
     },
     "metadata": {},
     "output_type": "display_data"
    }
   ],
   "source": [
    "px.pie(c_pie, values=c_pie.values, names=c_pie.index,title = \"Proportion for each city in dataset\")"
   ]
  },
  {
   "cell_type": "code",
   "execution_count": 31,
   "metadata": {
    "ExecuteTime": {
     "end_time": "2021-01-04T12:07:42.259469Z",
     "start_time": "2021-01-04T12:07:42.252946Z"
    }
   },
   "outputs": [],
   "source": [
    "d = (price*100/price_city)\n",
    "e = (d[[\"Helsinki\",\"Tampere\",\"Espoo\",\"Vantaa\",\"Turku\", \"Oulu\"]]).append(pd.Series(index = [\"other\"], data= d[[city for city in d.index if city not in [\"Helsinki\",\"Tampere\",\"Espoo\",\"Vantaa\",\"Turku\", \"Oulu\"]]].mean()))"
   ]
  },
  {
   "cell_type": "code",
   "execution_count": 32,
   "metadata": {
    "ExecuteTime": {
     "end_time": "2021-01-04T12:07:42.300073Z",
     "start_time": "2021-01-04T12:07:42.260769Z"
    }
   },
   "outputs": [
    {
     "data": {
      "application/vnd.plotly.v1+json": {
       "config": {
        "linkText": "Export to plot.ly",
        "plotlyServerURL": "https://plot.ly",
        "showLink": true
       },
       "data": [
        {
         "marker": {
          "color": "rgba(255, 153, 51, 0.6)",
          "line": {
           "color": "rgba(255, 153, 51, 1.0)",
           "width": 1
          }
         },
         "name": "None",
         "orientation": "v",
         "text": "",
         "type": "bar",
         "x": [
          "Helsinki",
          "Tampere",
          "Espoo",
          "Vantaa",
          "Turku",
          "Oulu",
          "other"
         ],
         "y": [
          35.32763532763533,
          47.8021978021978,
          47.61904761904762,
          51.13636363636363,
          51.80722891566265,
          28.125,
          66.3383852586521
         ]
        }
       ],
       "layout": {
        "legend": {
         "bgcolor": "#F5F6F9",
         "font": {
          "color": "#4D5663"
         }
        },
        "paper_bgcolor": "#F5F6F9",
        "plot_bgcolor": "#F5F6F9",
        "template": {
         "data": {
          "bar": [
           {
            "error_x": {
             "color": "#2a3f5f"
            },
            "error_y": {
             "color": "#2a3f5f"
            },
            "marker": {
             "line": {
              "color": "#E5ECF6",
              "width": 0.5
             }
            },
            "type": "bar"
           }
          ],
          "barpolar": [
           {
            "marker": {
             "line": {
              "color": "#E5ECF6",
              "width": 0.5
             }
            },
            "type": "barpolar"
           }
          ],
          "carpet": [
           {
            "aaxis": {
             "endlinecolor": "#2a3f5f",
             "gridcolor": "white",
             "linecolor": "white",
             "minorgridcolor": "white",
             "startlinecolor": "#2a3f5f"
            },
            "baxis": {
             "endlinecolor": "#2a3f5f",
             "gridcolor": "white",
             "linecolor": "white",
             "minorgridcolor": "white",
             "startlinecolor": "#2a3f5f"
            },
            "type": "carpet"
           }
          ],
          "choropleth": [
           {
            "colorbar": {
             "outlinewidth": 0,
             "ticks": ""
            },
            "type": "choropleth"
           }
          ],
          "contour": [
           {
            "colorbar": {
             "outlinewidth": 0,
             "ticks": ""
            },
            "colorscale": [
             [
              0,
              "#0d0887"
             ],
             [
              0.1111111111111111,
              "#46039f"
             ],
             [
              0.2222222222222222,
              "#7201a8"
             ],
             [
              0.3333333333333333,
              "#9c179e"
             ],
             [
              0.4444444444444444,
              "#bd3786"
             ],
             [
              0.5555555555555556,
              "#d8576b"
             ],
             [
              0.6666666666666666,
              "#ed7953"
             ],
             [
              0.7777777777777778,
              "#fb9f3a"
             ],
             [
              0.8888888888888888,
              "#fdca26"
             ],
             [
              1,
              "#f0f921"
             ]
            ],
            "type": "contour"
           }
          ],
          "contourcarpet": [
           {
            "colorbar": {
             "outlinewidth": 0,
             "ticks": ""
            },
            "type": "contourcarpet"
           }
          ],
          "heatmap": [
           {
            "colorbar": {
             "outlinewidth": 0,
             "ticks": ""
            },
            "colorscale": [
             [
              0,
              "#0d0887"
             ],
             [
              0.1111111111111111,
              "#46039f"
             ],
             [
              0.2222222222222222,
              "#7201a8"
             ],
             [
              0.3333333333333333,
              "#9c179e"
             ],
             [
              0.4444444444444444,
              "#bd3786"
             ],
             [
              0.5555555555555556,
              "#d8576b"
             ],
             [
              0.6666666666666666,
              "#ed7953"
             ],
             [
              0.7777777777777778,
              "#fb9f3a"
             ],
             [
              0.8888888888888888,
              "#fdca26"
             ],
             [
              1,
              "#f0f921"
             ]
            ],
            "type": "heatmap"
           }
          ],
          "heatmapgl": [
           {
            "colorbar": {
             "outlinewidth": 0,
             "ticks": ""
            },
            "colorscale": [
             [
              0,
              "#0d0887"
             ],
             [
              0.1111111111111111,
              "#46039f"
             ],
             [
              0.2222222222222222,
              "#7201a8"
             ],
             [
              0.3333333333333333,
              "#9c179e"
             ],
             [
              0.4444444444444444,
              "#bd3786"
             ],
             [
              0.5555555555555556,
              "#d8576b"
             ],
             [
              0.6666666666666666,
              "#ed7953"
             ],
             [
              0.7777777777777778,
              "#fb9f3a"
             ],
             [
              0.8888888888888888,
              "#fdca26"
             ],
             [
              1,
              "#f0f921"
             ]
            ],
            "type": "heatmapgl"
           }
          ],
          "histogram": [
           {
            "marker": {
             "colorbar": {
              "outlinewidth": 0,
              "ticks": ""
             }
            },
            "type": "histogram"
           }
          ],
          "histogram2d": [
           {
            "colorbar": {
             "outlinewidth": 0,
             "ticks": ""
            },
            "colorscale": [
             [
              0,
              "#0d0887"
             ],
             [
              0.1111111111111111,
              "#46039f"
             ],
             [
              0.2222222222222222,
              "#7201a8"
             ],
             [
              0.3333333333333333,
              "#9c179e"
             ],
             [
              0.4444444444444444,
              "#bd3786"
             ],
             [
              0.5555555555555556,
              "#d8576b"
             ],
             [
              0.6666666666666666,
              "#ed7953"
             ],
             [
              0.7777777777777778,
              "#fb9f3a"
             ],
             [
              0.8888888888888888,
              "#fdca26"
             ],
             [
              1,
              "#f0f921"
             ]
            ],
            "type": "histogram2d"
           }
          ],
          "histogram2dcontour": [
           {
            "colorbar": {
             "outlinewidth": 0,
             "ticks": ""
            },
            "colorscale": [
             [
              0,
              "#0d0887"
             ],
             [
              0.1111111111111111,
              "#46039f"
             ],
             [
              0.2222222222222222,
              "#7201a8"
             ],
             [
              0.3333333333333333,
              "#9c179e"
             ],
             [
              0.4444444444444444,
              "#bd3786"
             ],
             [
              0.5555555555555556,
              "#d8576b"
             ],
             [
              0.6666666666666666,
              "#ed7953"
             ],
             [
              0.7777777777777778,
              "#fb9f3a"
             ],
             [
              0.8888888888888888,
              "#fdca26"
             ],
             [
              1,
              "#f0f921"
             ]
            ],
            "type": "histogram2dcontour"
           }
          ],
          "mesh3d": [
           {
            "colorbar": {
             "outlinewidth": 0,
             "ticks": ""
            },
            "type": "mesh3d"
           }
          ],
          "parcoords": [
           {
            "line": {
             "colorbar": {
              "outlinewidth": 0,
              "ticks": ""
             }
            },
            "type": "parcoords"
           }
          ],
          "pie": [
           {
            "automargin": true,
            "type": "pie"
           }
          ],
          "scatter": [
           {
            "marker": {
             "colorbar": {
              "outlinewidth": 0,
              "ticks": ""
             }
            },
            "type": "scatter"
           }
          ],
          "scatter3d": [
           {
            "line": {
             "colorbar": {
              "outlinewidth": 0,
              "ticks": ""
             }
            },
            "marker": {
             "colorbar": {
              "outlinewidth": 0,
              "ticks": ""
             }
            },
            "type": "scatter3d"
           }
          ],
          "scattercarpet": [
           {
            "marker": {
             "colorbar": {
              "outlinewidth": 0,
              "ticks": ""
             }
            },
            "type": "scattercarpet"
           }
          ],
          "scattergeo": [
           {
            "marker": {
             "colorbar": {
              "outlinewidth": 0,
              "ticks": ""
             }
            },
            "type": "scattergeo"
           }
          ],
          "scattergl": [
           {
            "marker": {
             "colorbar": {
              "outlinewidth": 0,
              "ticks": ""
             }
            },
            "type": "scattergl"
           }
          ],
          "scattermapbox": [
           {
            "marker": {
             "colorbar": {
              "outlinewidth": 0,
              "ticks": ""
             }
            },
            "type": "scattermapbox"
           }
          ],
          "scatterpolar": [
           {
            "marker": {
             "colorbar": {
              "outlinewidth": 0,
              "ticks": ""
             }
            },
            "type": "scatterpolar"
           }
          ],
          "scatterpolargl": [
           {
            "marker": {
             "colorbar": {
              "outlinewidth": 0,
              "ticks": ""
             }
            },
            "type": "scatterpolargl"
           }
          ],
          "scatterternary": [
           {
            "marker": {
             "colorbar": {
              "outlinewidth": 0,
              "ticks": ""
             }
            },
            "type": "scatterternary"
           }
          ],
          "surface": [
           {
            "colorbar": {
             "outlinewidth": 0,
             "ticks": ""
            },
            "colorscale": [
             [
              0,
              "#0d0887"
             ],
             [
              0.1111111111111111,
              "#46039f"
             ],
             [
              0.2222222222222222,
              "#7201a8"
             ],
             [
              0.3333333333333333,
              "#9c179e"
             ],
             [
              0.4444444444444444,
              "#bd3786"
             ],
             [
              0.5555555555555556,
              "#d8576b"
             ],
             [
              0.6666666666666666,
              "#ed7953"
             ],
             [
              0.7777777777777778,
              "#fb9f3a"
             ],
             [
              0.8888888888888888,
              "#fdca26"
             ],
             [
              1,
              "#f0f921"
             ]
            ],
            "type": "surface"
           }
          ],
          "table": [
           {
            "cells": {
             "fill": {
              "color": "#EBF0F8"
             },
             "line": {
              "color": "white"
             }
            },
            "header": {
             "fill": {
              "color": "#C8D4E3"
             },
             "line": {
              "color": "white"
             }
            },
            "type": "table"
           }
          ]
         },
         "layout": {
          "annotationdefaults": {
           "arrowcolor": "#2a3f5f",
           "arrowhead": 0,
           "arrowwidth": 1
          },
          "coloraxis": {
           "colorbar": {
            "outlinewidth": 0,
            "ticks": ""
           }
          },
          "colorscale": {
           "diverging": [
            [
             0,
             "#8e0152"
            ],
            [
             0.1,
             "#c51b7d"
            ],
            [
             0.2,
             "#de77ae"
            ],
            [
             0.3,
             "#f1b6da"
            ],
            [
             0.4,
             "#fde0ef"
            ],
            [
             0.5,
             "#f7f7f7"
            ],
            [
             0.6,
             "#e6f5d0"
            ],
            [
             0.7,
             "#b8e186"
            ],
            [
             0.8,
             "#7fbc41"
            ],
            [
             0.9,
             "#4d9221"
            ],
            [
             1,
             "#276419"
            ]
           ],
           "sequential": [
            [
             0,
             "#0d0887"
            ],
            [
             0.1111111111111111,
             "#46039f"
            ],
            [
             0.2222222222222222,
             "#7201a8"
            ],
            [
             0.3333333333333333,
             "#9c179e"
            ],
            [
             0.4444444444444444,
             "#bd3786"
            ],
            [
             0.5555555555555556,
             "#d8576b"
            ],
            [
             0.6666666666666666,
             "#ed7953"
            ],
            [
             0.7777777777777778,
             "#fb9f3a"
            ],
            [
             0.8888888888888888,
             "#fdca26"
            ],
            [
             1,
             "#f0f921"
            ]
           ],
           "sequentialminus": [
            [
             0,
             "#0d0887"
            ],
            [
             0.1111111111111111,
             "#46039f"
            ],
            [
             0.2222222222222222,
             "#7201a8"
            ],
            [
             0.3333333333333333,
             "#9c179e"
            ],
            [
             0.4444444444444444,
             "#bd3786"
            ],
            [
             0.5555555555555556,
             "#d8576b"
            ],
            [
             0.6666666666666666,
             "#ed7953"
            ],
            [
             0.7777777777777778,
             "#fb9f3a"
            ],
            [
             0.8888888888888888,
             "#fdca26"
            ],
            [
             1,
             "#f0f921"
            ]
           ]
          },
          "colorway": [
           "#636efa",
           "#EF553B",
           "#00cc96",
           "#ab63fa",
           "#FFA15A",
           "#19d3f3",
           "#FF6692",
           "#B6E880",
           "#FF97FF",
           "#FECB52"
          ],
          "font": {
           "color": "#2a3f5f"
          },
          "geo": {
           "bgcolor": "white",
           "lakecolor": "white",
           "landcolor": "#E5ECF6",
           "showlakes": true,
           "showland": true,
           "subunitcolor": "white"
          },
          "hoverlabel": {
           "align": "left"
          },
          "hovermode": "closest",
          "mapbox": {
           "style": "light"
          },
          "paper_bgcolor": "white",
          "plot_bgcolor": "#E5ECF6",
          "polar": {
           "angularaxis": {
            "gridcolor": "white",
            "linecolor": "white",
            "ticks": ""
           },
           "bgcolor": "#E5ECF6",
           "radialaxis": {
            "gridcolor": "white",
            "linecolor": "white",
            "ticks": ""
           }
          },
          "scene": {
           "xaxis": {
            "backgroundcolor": "#E5ECF6",
            "gridcolor": "white",
            "gridwidth": 2,
            "linecolor": "white",
            "showbackground": true,
            "ticks": "",
            "zerolinecolor": "white"
           },
           "yaxis": {
            "backgroundcolor": "#E5ECF6",
            "gridcolor": "white",
            "gridwidth": 2,
            "linecolor": "white",
            "showbackground": true,
            "ticks": "",
            "zerolinecolor": "white"
           },
           "zaxis": {
            "backgroundcolor": "#E5ECF6",
            "gridcolor": "white",
            "gridwidth": 2,
            "linecolor": "white",
            "showbackground": true,
            "ticks": "",
            "zerolinecolor": "white"
           }
          },
          "shapedefaults": {
           "line": {
            "color": "#2a3f5f"
           }
          },
          "ternary": {
           "aaxis": {
            "gridcolor": "white",
            "linecolor": "white",
            "ticks": ""
           },
           "baxis": {
            "gridcolor": "white",
            "linecolor": "white",
            "ticks": ""
           },
           "bgcolor": "#E5ECF6",
           "caxis": {
            "gridcolor": "white",
            "linecolor": "white",
            "ticks": ""
           }
          },
          "title": {
           "x": 0.05
          },
          "xaxis": {
           "automargin": true,
           "gridcolor": "white",
           "linecolor": "white",
           "ticks": "",
           "title": {
            "standoff": 15
           },
           "zerolinecolor": "white",
           "zerolinewidth": 2
          },
          "yaxis": {
           "automargin": true,
           "gridcolor": "white",
           "linecolor": "white",
           "ticks": "",
           "title": {
            "standoff": 15
           },
           "zerolinecolor": "white",
           "zerolinewidth": 2
          }
         }
        },
        "title": {
         "font": {
          "color": "#4D5663"
         },
         "text": "Percentage of missing value on the basic of city"
        },
        "xaxis": {
         "gridcolor": "#E1E5ED",
         "showgrid": true,
         "tickfont": {
          "color": "#4D5663"
         },
         "title": {
          "font": {
           "color": "#4D5663"
          },
          "text": ""
         },
         "zerolinecolor": "#E1E5ED"
        },
        "yaxis": {
         "gridcolor": "#E1E5ED",
         "showgrid": true,
         "tickfont": {
          "color": "#4D5663"
         },
         "title": {
          "font": {
           "color": "#4D5663"
          },
          "text": ""
         },
         "zerolinecolor": "#E1E5ED"
        }
       }
      },
      "text/html": [
       "<div>                            <div id=\"0d84056c-123c-4394-a8bd-d0a4d10c41b5\" class=\"plotly-graph-div\" style=\"height:525px; width:100%;\"></div>            <script type=\"text/javascript\">                require([\"plotly\"], function(Plotly) {                    window.PLOTLYENV=window.PLOTLYENV || {};\n",
       "                    window.PLOTLYENV.BASE_URL='https://plot.ly';                                    if (document.getElementById(\"0d84056c-123c-4394-a8bd-d0a4d10c41b5\")) {                    Plotly.newPlot(                        \"0d84056c-123c-4394-a8bd-d0a4d10c41b5\",                        [{\"marker\": {\"color\": \"rgba(255, 153, 51, 0.6)\", \"line\": {\"color\": \"rgba(255, 153, 51, 1.0)\", \"width\": 1}}, \"name\": \"None\", \"orientation\": \"v\", \"text\": \"\", \"type\": \"bar\", \"x\": [\"Helsinki\", \"Tampere\", \"Espoo\", \"Vantaa\", \"Turku\", \"Oulu\", \"other\"], \"y\": [35.32763532763533, 47.8021978021978, 47.61904761904762, 51.13636363636363, 51.80722891566265, 28.125, 66.3383852586521]}],                        {\"legend\": {\"bgcolor\": \"#F5F6F9\", \"font\": {\"color\": \"#4D5663\"}}, \"paper_bgcolor\": \"#F5F6F9\", \"plot_bgcolor\": \"#F5F6F9\", \"template\": {\"data\": {\"bar\": [{\"error_x\": {\"color\": \"#2a3f5f\"}, \"error_y\": {\"color\": \"#2a3f5f\"}, \"marker\": {\"line\": {\"color\": \"#E5ECF6\", \"width\": 0.5}}, \"type\": \"bar\"}], \"barpolar\": [{\"marker\": {\"line\": {\"color\": \"#E5ECF6\", \"width\": 0.5}}, \"type\": \"barpolar\"}], \"carpet\": [{\"aaxis\": {\"endlinecolor\": \"#2a3f5f\", \"gridcolor\": \"white\", \"linecolor\": \"white\", \"minorgridcolor\": \"white\", \"startlinecolor\": \"#2a3f5f\"}, \"baxis\": {\"endlinecolor\": \"#2a3f5f\", \"gridcolor\": \"white\", \"linecolor\": \"white\", \"minorgridcolor\": \"white\", \"startlinecolor\": \"#2a3f5f\"}, \"type\": \"carpet\"}], \"choropleth\": [{\"colorbar\": {\"outlinewidth\": 0, \"ticks\": \"\"}, \"type\": \"choropleth\"}], \"contour\": [{\"colorbar\": {\"outlinewidth\": 0, \"ticks\": \"\"}, \"colorscale\": [[0.0, \"#0d0887\"], [0.1111111111111111, \"#46039f\"], [0.2222222222222222, \"#7201a8\"], [0.3333333333333333, \"#9c179e\"], [0.4444444444444444, \"#bd3786\"], [0.5555555555555556, \"#d8576b\"], [0.6666666666666666, \"#ed7953\"], [0.7777777777777778, \"#fb9f3a\"], [0.8888888888888888, \"#fdca26\"], [1.0, \"#f0f921\"]], \"type\": \"contour\"}], \"contourcarpet\": [{\"colorbar\": {\"outlinewidth\": 0, \"ticks\": \"\"}, \"type\": \"contourcarpet\"}], \"heatmap\": [{\"colorbar\": {\"outlinewidth\": 0, \"ticks\": \"\"}, \"colorscale\": [[0.0, \"#0d0887\"], [0.1111111111111111, \"#46039f\"], [0.2222222222222222, \"#7201a8\"], [0.3333333333333333, \"#9c179e\"], [0.4444444444444444, \"#bd3786\"], [0.5555555555555556, \"#d8576b\"], [0.6666666666666666, \"#ed7953\"], [0.7777777777777778, \"#fb9f3a\"], [0.8888888888888888, \"#fdca26\"], [1.0, \"#f0f921\"]], \"type\": \"heatmap\"}], \"heatmapgl\": [{\"colorbar\": {\"outlinewidth\": 0, \"ticks\": \"\"}, \"colorscale\": [[0.0, \"#0d0887\"], [0.1111111111111111, \"#46039f\"], [0.2222222222222222, \"#7201a8\"], [0.3333333333333333, \"#9c179e\"], [0.4444444444444444, \"#bd3786\"], [0.5555555555555556, \"#d8576b\"], [0.6666666666666666, \"#ed7953\"], [0.7777777777777778, \"#fb9f3a\"], [0.8888888888888888, \"#fdca26\"], [1.0, \"#f0f921\"]], \"type\": \"heatmapgl\"}], \"histogram\": [{\"marker\": {\"colorbar\": {\"outlinewidth\": 0, \"ticks\": \"\"}}, \"type\": \"histogram\"}], \"histogram2d\": [{\"colorbar\": {\"outlinewidth\": 0, \"ticks\": \"\"}, \"colorscale\": [[0.0, \"#0d0887\"], [0.1111111111111111, \"#46039f\"], [0.2222222222222222, \"#7201a8\"], [0.3333333333333333, \"#9c179e\"], [0.4444444444444444, \"#bd3786\"], [0.5555555555555556, \"#d8576b\"], [0.6666666666666666, \"#ed7953\"], [0.7777777777777778, \"#fb9f3a\"], [0.8888888888888888, \"#fdca26\"], [1.0, \"#f0f921\"]], \"type\": \"histogram2d\"}], \"histogram2dcontour\": [{\"colorbar\": {\"outlinewidth\": 0, \"ticks\": \"\"}, \"colorscale\": [[0.0, \"#0d0887\"], [0.1111111111111111, \"#46039f\"], [0.2222222222222222, \"#7201a8\"], [0.3333333333333333, \"#9c179e\"], [0.4444444444444444, \"#bd3786\"], [0.5555555555555556, \"#d8576b\"], [0.6666666666666666, \"#ed7953\"], [0.7777777777777778, \"#fb9f3a\"], [0.8888888888888888, \"#fdca26\"], [1.0, \"#f0f921\"]], \"type\": \"histogram2dcontour\"}], \"mesh3d\": [{\"colorbar\": {\"outlinewidth\": 0, \"ticks\": \"\"}, \"type\": \"mesh3d\"}], \"parcoords\": [{\"line\": {\"colorbar\": {\"outlinewidth\": 0, \"ticks\": \"\"}}, \"type\": \"parcoords\"}], \"pie\": [{\"automargin\": true, \"type\": \"pie\"}], \"scatter\": [{\"marker\": {\"colorbar\": {\"outlinewidth\": 0, \"ticks\": \"\"}}, \"type\": \"scatter\"}], \"scatter3d\": [{\"line\": {\"colorbar\": {\"outlinewidth\": 0, \"ticks\": \"\"}}, \"marker\": {\"colorbar\": {\"outlinewidth\": 0, \"ticks\": \"\"}}, \"type\": \"scatter3d\"}], \"scattercarpet\": [{\"marker\": {\"colorbar\": {\"outlinewidth\": 0, \"ticks\": \"\"}}, \"type\": \"scattercarpet\"}], \"scattergeo\": [{\"marker\": {\"colorbar\": {\"outlinewidth\": 0, \"ticks\": \"\"}}, \"type\": \"scattergeo\"}], \"scattergl\": [{\"marker\": {\"colorbar\": {\"outlinewidth\": 0, \"ticks\": \"\"}}, \"type\": \"scattergl\"}], \"scattermapbox\": [{\"marker\": {\"colorbar\": {\"outlinewidth\": 0, \"ticks\": \"\"}}, \"type\": \"scattermapbox\"}], \"scatterpolar\": [{\"marker\": {\"colorbar\": {\"outlinewidth\": 0, \"ticks\": \"\"}}, \"type\": \"scatterpolar\"}], \"scatterpolargl\": [{\"marker\": {\"colorbar\": {\"outlinewidth\": 0, \"ticks\": \"\"}}, \"type\": \"scatterpolargl\"}], \"scatterternary\": [{\"marker\": {\"colorbar\": {\"outlinewidth\": 0, \"ticks\": \"\"}}, \"type\": \"scatterternary\"}], \"surface\": [{\"colorbar\": {\"outlinewidth\": 0, \"ticks\": \"\"}, \"colorscale\": [[0.0, \"#0d0887\"], [0.1111111111111111, \"#46039f\"], [0.2222222222222222, \"#7201a8\"], [0.3333333333333333, \"#9c179e\"], [0.4444444444444444, \"#bd3786\"], [0.5555555555555556, \"#d8576b\"], [0.6666666666666666, \"#ed7953\"], [0.7777777777777778, \"#fb9f3a\"], [0.8888888888888888, \"#fdca26\"], [1.0, \"#f0f921\"]], \"type\": \"surface\"}], \"table\": [{\"cells\": {\"fill\": {\"color\": \"#EBF0F8\"}, \"line\": {\"color\": \"white\"}}, \"header\": {\"fill\": {\"color\": \"#C8D4E3\"}, \"line\": {\"color\": \"white\"}}, \"type\": \"table\"}]}, \"layout\": {\"annotationdefaults\": {\"arrowcolor\": \"#2a3f5f\", \"arrowhead\": 0, \"arrowwidth\": 1}, \"coloraxis\": {\"colorbar\": {\"outlinewidth\": 0, \"ticks\": \"\"}}, \"colorscale\": {\"diverging\": [[0, \"#8e0152\"], [0.1, \"#c51b7d\"], [0.2, \"#de77ae\"], [0.3, \"#f1b6da\"], [0.4, \"#fde0ef\"], [0.5, \"#f7f7f7\"], [0.6, \"#e6f5d0\"], [0.7, \"#b8e186\"], [0.8, \"#7fbc41\"], [0.9, \"#4d9221\"], [1, \"#276419\"]], \"sequential\": [[0.0, \"#0d0887\"], [0.1111111111111111, \"#46039f\"], [0.2222222222222222, \"#7201a8\"], [0.3333333333333333, \"#9c179e\"], [0.4444444444444444, \"#bd3786\"], [0.5555555555555556, \"#d8576b\"], [0.6666666666666666, \"#ed7953\"], [0.7777777777777778, \"#fb9f3a\"], [0.8888888888888888, \"#fdca26\"], [1.0, \"#f0f921\"]], \"sequentialminus\": [[0.0, \"#0d0887\"], [0.1111111111111111, \"#46039f\"], [0.2222222222222222, \"#7201a8\"], [0.3333333333333333, \"#9c179e\"], [0.4444444444444444, \"#bd3786\"], [0.5555555555555556, \"#d8576b\"], [0.6666666666666666, \"#ed7953\"], [0.7777777777777778, \"#fb9f3a\"], [0.8888888888888888, \"#fdca26\"], [1.0, \"#f0f921\"]]}, \"colorway\": [\"#636efa\", \"#EF553B\", \"#00cc96\", \"#ab63fa\", \"#FFA15A\", \"#19d3f3\", \"#FF6692\", \"#B6E880\", \"#FF97FF\", \"#FECB52\"], \"font\": {\"color\": \"#2a3f5f\"}, \"geo\": {\"bgcolor\": \"white\", \"lakecolor\": \"white\", \"landcolor\": \"#E5ECF6\", \"showlakes\": true, \"showland\": true, \"subunitcolor\": \"white\"}, \"hoverlabel\": {\"align\": \"left\"}, \"hovermode\": \"closest\", \"mapbox\": {\"style\": \"light\"}, \"paper_bgcolor\": \"white\", \"plot_bgcolor\": \"#E5ECF6\", \"polar\": {\"angularaxis\": {\"gridcolor\": \"white\", \"linecolor\": \"white\", \"ticks\": \"\"}, \"bgcolor\": \"#E5ECF6\", \"radialaxis\": {\"gridcolor\": \"white\", \"linecolor\": \"white\", \"ticks\": \"\"}}, \"scene\": {\"xaxis\": {\"backgroundcolor\": \"#E5ECF6\", \"gridcolor\": \"white\", \"gridwidth\": 2, \"linecolor\": \"white\", \"showbackground\": true, \"ticks\": \"\", \"zerolinecolor\": \"white\"}, \"yaxis\": {\"backgroundcolor\": \"#E5ECF6\", \"gridcolor\": \"white\", \"gridwidth\": 2, \"linecolor\": \"white\", \"showbackground\": true, \"ticks\": \"\", \"zerolinecolor\": \"white\"}, \"zaxis\": {\"backgroundcolor\": \"#E5ECF6\", \"gridcolor\": \"white\", \"gridwidth\": 2, \"linecolor\": \"white\", \"showbackground\": true, \"ticks\": \"\", \"zerolinecolor\": \"white\"}}, \"shapedefaults\": {\"line\": {\"color\": \"#2a3f5f\"}}, \"ternary\": {\"aaxis\": {\"gridcolor\": \"white\", \"linecolor\": \"white\", \"ticks\": \"\"}, \"baxis\": {\"gridcolor\": \"white\", \"linecolor\": \"white\", \"ticks\": \"\"}, \"bgcolor\": \"#E5ECF6\", \"caxis\": {\"gridcolor\": \"white\", \"linecolor\": \"white\", \"ticks\": \"\"}}, \"title\": {\"x\": 0.05}, \"xaxis\": {\"automargin\": true, \"gridcolor\": \"white\", \"linecolor\": \"white\", \"ticks\": \"\", \"title\": {\"standoff\": 15}, \"zerolinecolor\": \"white\", \"zerolinewidth\": 2}, \"yaxis\": {\"automargin\": true, \"gridcolor\": \"white\", \"linecolor\": \"white\", \"ticks\": \"\", \"title\": {\"standoff\": 15}, \"zerolinecolor\": \"white\", \"zerolinewidth\": 2}}}, \"title\": {\"font\": {\"color\": \"#4D5663\"}, \"text\": \"Percentage of missing value on the basic of city\"}, \"xaxis\": {\"gridcolor\": \"#E1E5ED\", \"showgrid\": true, \"tickfont\": {\"color\": \"#4D5663\"}, \"title\": {\"font\": {\"color\": \"#4D5663\"}, \"text\": \"\"}, \"zerolinecolor\": \"#E1E5ED\"}, \"yaxis\": {\"gridcolor\": \"#E1E5ED\", \"showgrid\": true, \"tickfont\": {\"color\": \"#4D5663\"}, \"title\": {\"font\": {\"color\": \"#4D5663\"}, \"text\": \"\"}, \"zerolinecolor\": \"#E1E5ED\"}},                        {\"showLink\": true, \"linkText\": \"Export to plot.ly\", \"plotlyServerURL\": \"https://plot.ly\", \"responsive\": true}                    ).then(function(){\n",
       "                            \n",
       "var gd = document.getElementById('0d84056c-123c-4394-a8bd-d0a4d10c41b5');\n",
       "var x = new MutationObserver(function (mutations, observer) {{\n",
       "        var display = window.getComputedStyle(gd).display;\n",
       "        if (!display || display === 'none') {{\n",
       "            console.log([gd, 'removed!']);\n",
       "            Plotly.purge(gd);\n",
       "            observer.disconnect();\n",
       "        }}\n",
       "}});\n",
       "\n",
       "// Listen for the removal of the full notebook cells\n",
       "var notebookContainer = gd.closest('#notebook-container');\n",
       "if (notebookContainer) {{\n",
       "    x.observe(notebookContainer, {childList: true});\n",
       "}}\n",
       "\n",
       "// Listen for the clearing of the current output cell\n",
       "var outputEl = gd.closest('.output');\n",
       "if (outputEl) {{\n",
       "    x.observe(outputEl, {childList: true});\n",
       "}}\n",
       "\n",
       "                        })                };                });            </script>        </div>"
      ]
     },
     "metadata": {},
     "output_type": "display_data"
    }
   ],
   "source": [
    "e.iplot(kind=\"bar\", title=\"Percentage of missing value on the basic of city\")"
   ]
  },
  {
   "cell_type": "code",
   "execution_count": 33,
   "metadata": {
    "ExecuteTime": {
     "end_time": "2021-01-04T12:07:42.304085Z",
     "start_time": "2021-01-04T12:07:42.300800Z"
    },
    "scrolled": false
   },
   "outputs": [],
   "source": [
    "null_city = pd.concat([price,price_city], axis=1).rename({\"price\":\"number of missing value\", \"name\":\"number of restaurant\"}, axis=1).T\n",
    "null_city = null_city.reindex(sorted(null_city.columns), axis=1)"
   ]
  },
  {
   "cell_type": "code",
   "execution_count": 34,
   "metadata": {
    "ExecuteTime": {
     "end_time": "2021-01-04T12:07:42.307128Z",
     "start_time": "2021-01-04T12:07:42.305171Z"
    }
   },
   "outputs": [],
   "source": [
    "def null_of_city(city):\n",
    "    fig = null_city[city].iplot(kind = 'bar', layout = dict(title = f'Null value of {city}'))"
   ]
  },
  {
   "cell_type": "code",
   "execution_count": 35,
   "metadata": {
    "ExecuteTime": {
     "end_time": "2021-01-04T12:07:42.347865Z",
     "start_time": "2021-01-04T12:07:42.308409Z"
    }
   },
   "outputs": [
    {
     "data": {
      "application/vnd.jupyter.widget-view+json": {
       "model_id": "a5396ee3f80e49eda12b7804a6518b7f",
       "version_major": 2,
       "version_minor": 0
      },
      "text/plain": [
       "interactive(children=(Dropdown(description='city', options=('Alavus', 'Dalsbruk', 'Ekenäs', 'Eräjärvi', 'Espoo…"
      ]
     },
     "metadata": {},
     "output_type": "display_data"
    },
    {
     "data": {
      "text/plain": [
       "<function __main__.null_of_city(city)>"
      ]
     },
     "execution_count": 35,
     "metadata": {},
     "output_type": "execute_result"
    }
   ],
   "source": [
    "interact(null_of_city, city = null_city.columns)"
   ]
  },
  {
   "cell_type": "markdown",
   "metadata": {},
   "source": [
    "My first attempt is to fill the missing values for famous and well-known branches such as Mc Donald, Espresso House... if any of entry with that name miss the price level information. However, the Yelp API doesn't work as I expect or the database is not big enough, therefore, even for those famous branches, only few results were returned. For example:"
   ]
  },
  {
   "cell_type": "code",
   "execution_count": 36,
   "metadata": {
    "ExecuteTime": {
     "end_time": "2021-01-04T12:07:42.356881Z",
     "start_time": "2021-01-04T12:07:42.348891Z"
    }
   },
   "outputs": [
    {
     "data": {
      "text/html": [
       "<div>\n",
       "<style scoped>\n",
       "    .dataframe tbody tr th:only-of-type {\n",
       "        vertical-align: middle;\n",
       "    }\n",
       "\n",
       "    .dataframe tbody tr th {\n",
       "        vertical-align: top;\n",
       "    }\n",
       "\n",
       "    .dataframe thead th {\n",
       "        text-align: right;\n",
       "    }\n",
       "</style>\n",
       "<table border=\"1\" class=\"dataframe\">\n",
       "  <thead>\n",
       "    <tr style=\"text-align: right;\">\n",
       "      <th></th>\n",
       "      <th>name</th>\n",
       "      <th>review_count</th>\n",
       "      <th>categories</th>\n",
       "      <th>rating</th>\n",
       "      <th>price</th>\n",
       "      <th>distance</th>\n",
       "      <th>lat</th>\n",
       "      <th>long</th>\n",
       "      <th>address</th>\n",
       "      <th>city</th>\n",
       "      <th>zipcode</th>\n",
       "    </tr>\n",
       "  </thead>\n",
       "  <tbody>\n",
       "    <tr>\n",
       "      <th>389</th>\n",
       "      <td>Espresso House</td>\n",
       "      <td>1</td>\n",
       "      <td>[{'alias': 'cafeteria', 'title': 'Cafeteria'}]</td>\n",
       "      <td>4.0</td>\n",
       "      <td>NaN</td>\n",
       "      <td>7602.150327</td>\n",
       "      <td>60.21813</td>\n",
       "      <td>24.81281</td>\n",
       "      <td>Leppävaarankatu 3-9</td>\n",
       "      <td>Espoo</td>\n",
       "      <td>2600.0</td>\n",
       "    </tr>\n",
       "  </tbody>\n",
       "</table>\n",
       "</div>"
      ],
      "text/plain": [
       "               name  review_count  \\\n",
       "389  Espresso House             1   \n",
       "\n",
       "                                         categories  rating price  \\\n",
       "389  [{'alias': 'cafeteria', 'title': 'Cafeteria'}]     4.0   NaN   \n",
       "\n",
       "        distance       lat      long              address   city zipcode  \n",
       "389  7602.150327  60.21813  24.81281  Leppävaarankatu 3-9  Espoo  2600.0  "
      ]
     },
     "execution_count": 36,
     "metadata": {},
     "output_type": "execute_result"
    }
   ],
   "source": [
    "df[df.name==\"Espresso House\"]"
   ]
  },
  {
   "cell_type": "markdown",
   "metadata": {},
   "source": [
    "There is only one result of Espresso House for all city in Finland and it doesn't make sense.\n",
    "\n",
    "Since this columns is an important aspect to analyze, I decide to keep the columns instead of dropping it. Therefore, the row with NaN values will be removed.\n",
    "\n",
    "The remaining missing values amount in address and zipcode is small and insignificant to the dataset, therefore, they will be dropped too."
   ]
  },
  {
   "cell_type": "code",
   "execution_count": 37,
   "metadata": {
    "ExecuteTime": {
     "end_time": "2021-01-04T12:07:42.361980Z",
     "start_time": "2021-01-04T12:07:42.357941Z"
    }
   },
   "outputs": [],
   "source": [
    "df.dropna(inplace=True)"
   ]
  },
  {
   "cell_type": "markdown",
   "metadata": {},
   "source": [
    "After removing all the missing values, we can re-format the content of price column to numeric for later analyzing. "
   ]
  },
  {
   "cell_type": "code",
   "execution_count": 38,
   "metadata": {
    "ExecuteTime": {
     "end_time": "2021-01-04T12:07:42.365626Z",
     "start_time": "2021-01-04T12:07:42.362966Z"
    }
   },
   "outputs": [],
   "source": [
    "df.price = df.price.apply(lambda x: len(x))"
   ]
  },
  {
   "cell_type": "code",
   "execution_count": 39,
   "metadata": {
    "ExecuteTime": {
     "end_time": "2021-01-04T12:07:42.374601Z",
     "start_time": "2021-01-04T12:07:42.367056Z"
    }
   },
   "outputs": [
    {
     "data": {
      "text/html": [
       "<div>\n",
       "<style scoped>\n",
       "    .dataframe tbody tr th:only-of-type {\n",
       "        vertical-align: middle;\n",
       "    }\n",
       "\n",
       "    .dataframe tbody tr th {\n",
       "        vertical-align: top;\n",
       "    }\n",
       "\n",
       "    .dataframe thead th {\n",
       "        text-align: right;\n",
       "    }\n",
       "</style>\n",
       "<table border=\"1\" class=\"dataframe\">\n",
       "  <thead>\n",
       "    <tr style=\"text-align: right;\">\n",
       "      <th></th>\n",
       "      <th>name</th>\n",
       "      <th>review_count</th>\n",
       "      <th>categories</th>\n",
       "      <th>rating</th>\n",
       "      <th>price</th>\n",
       "      <th>distance</th>\n",
       "      <th>lat</th>\n",
       "      <th>long</th>\n",
       "      <th>address</th>\n",
       "      <th>city</th>\n",
       "      <th>zipcode</th>\n",
       "    </tr>\n",
       "  </thead>\n",
       "  <tbody>\n",
       "    <tr>\n",
       "      <th>0</th>\n",
       "      <td>Popino</td>\n",
       "      <td>4</td>\n",
       "      <td>[{'alias': 'restaurants', 'title': 'Restaurant...</td>\n",
       "      <td>4.5</td>\n",
       "      <td>2</td>\n",
       "      <td>37454.613324</td>\n",
       "      <td>60.996349</td>\n",
       "      <td>24.467030</td>\n",
       "      <td>Raatihuoneenkatu 11</td>\n",
       "      <td>Hämeenlinna</td>\n",
       "      <td>13100.0</td>\n",
       "    </tr>\n",
       "    <tr>\n",
       "      <th>1</th>\n",
       "      <td>Vaihmalan Hovi</td>\n",
       "      <td>1</td>\n",
       "      <td>[{'alias': 'restaurants', 'title': 'Restaurant...</td>\n",
       "      <td>4.0</td>\n",
       "      <td>3</td>\n",
       "      <td>15118.429192</td>\n",
       "      <td>61.297451</td>\n",
       "      <td>23.777439</td>\n",
       "      <td>Vaihmalantie 144</td>\n",
       "      <td>Lempäälä</td>\n",
       "      <td>37500.0</td>\n",
       "    </tr>\n",
       "    <tr>\n",
       "      <th>3</th>\n",
       "      <td>Sawaddee</td>\n",
       "      <td>3</td>\n",
       "      <td>[{'alias': 'thai', 'title': 'Thai'}]</td>\n",
       "      <td>4.0</td>\n",
       "      <td>2</td>\n",
       "      <td>37198.075417</td>\n",
       "      <td>60.997372</td>\n",
       "      <td>24.462761</td>\n",
       "      <td>Sibeliuksenkatu 13</td>\n",
       "      <td>Hämeenlinna</td>\n",
       "      <td>13100.0</td>\n",
       "    </tr>\n",
       "    <tr>\n",
       "      <th>4</th>\n",
       "      <td>Fresno</td>\n",
       "      <td>3</td>\n",
       "      <td>[{'alias': 'tradamerican', 'title': 'American ...</td>\n",
       "      <td>4.0</td>\n",
       "      <td>2</td>\n",
       "      <td>37256.582366</td>\n",
       "      <td>60.996840</td>\n",
       "      <td>24.463374</td>\n",
       "      <td>Hallituskatu 20</td>\n",
       "      <td>Hämeenlinna</td>\n",
       "      <td>13100.0</td>\n",
       "    </tr>\n",
       "    <tr>\n",
       "      <th>5</th>\n",
       "      <td>Tuulensuu</td>\n",
       "      <td>8</td>\n",
       "      <td>[{'alias': 'gastropubs', 'title': 'Gastropubs'}]</td>\n",
       "      <td>4.0</td>\n",
       "      <td>2</td>\n",
       "      <td>37347.573733</td>\n",
       "      <td>61.498600</td>\n",
       "      <td>23.753660</td>\n",
       "      <td>Hämeenpuisto 23</td>\n",
       "      <td>Tampere</td>\n",
       "      <td>33210.0</td>\n",
       "    </tr>\n",
       "  </tbody>\n",
       "</table>\n",
       "</div>"
      ],
      "text/plain": [
       "             name  review_count  \\\n",
       "0          Popino             4   \n",
       "1  Vaihmalan Hovi             1   \n",
       "3        Sawaddee             3   \n",
       "4          Fresno             3   \n",
       "5       Tuulensuu             8   \n",
       "\n",
       "                                          categories  rating  price  \\\n",
       "0  [{'alias': 'restaurants', 'title': 'Restaurant...     4.5      2   \n",
       "1  [{'alias': 'restaurants', 'title': 'Restaurant...     4.0      3   \n",
       "3               [{'alias': 'thai', 'title': 'Thai'}]     4.0      2   \n",
       "4  [{'alias': 'tradamerican', 'title': 'American ...     4.0      2   \n",
       "5   [{'alias': 'gastropubs', 'title': 'Gastropubs'}]     4.0      2   \n",
       "\n",
       "       distance        lat       long              address         city  \\\n",
       "0  37454.613324  60.996349  24.467030  Raatihuoneenkatu 11  Hämeenlinna   \n",
       "1  15118.429192  61.297451  23.777439     Vaihmalantie 144     Lempäälä   \n",
       "3  37198.075417  60.997372  24.462761   Sibeliuksenkatu 13  Hämeenlinna   \n",
       "4  37256.582366  60.996840  24.463374      Hallituskatu 20  Hämeenlinna   \n",
       "5  37347.573733  61.498600  23.753660      Hämeenpuisto 23      Tampere   \n",
       "\n",
       "   zipcode  \n",
       "0  13100.0  \n",
       "1  37500.0  \n",
       "3  13100.0  \n",
       "4  13100.0  \n",
       "5  33210.0  "
      ]
     },
     "execution_count": 39,
     "metadata": {},
     "output_type": "execute_result"
    }
   ],
   "source": [
    "df.head()"
   ]
  },
  {
   "cell_type": "code",
   "execution_count": 40,
   "metadata": {
    "ExecuteTime": {
     "end_time": "2021-01-04T12:07:42.377831Z",
     "start_time": "2021-01-04T12:07:42.375732Z"
    }
   },
   "outputs": [
    {
     "data": {
      "text/plain": [
       "(1203, 11)"
      ]
     },
     "execution_count": 40,
     "metadata": {},
     "output_type": "execute_result"
    }
   ],
   "source": [
    "df.shape"
   ]
  },
  {
   "cell_type": "markdown",
   "metadata": {},
   "source": [
    "The dataset now includes 1203 entries and 11 columns. And the price column is in numeric format.\n",
    "### Modify categories columns\n",
    "\n",
    "Currently, the data in categories column is in object type, therefore, we first have to convert them into list type before processing."
   ]
  },
  {
   "cell_type": "code",
   "execution_count": 41,
   "metadata": {
    "ExecuteTime": {
     "end_time": "2021-01-04T12:07:42.400137Z",
     "start_time": "2021-01-04T12:07:42.378940Z"
    }
   },
   "outputs": [
    {
     "data": {
      "text/plain": [
       "[{'alias': 'danceclubs', 'title': 'Dance Clubs'},\n",
       " {'alias': 'musicvenues', 'title': 'Music Venues'},\n",
       " {'alias': 'movietheaters', 'title': 'Cinema'},\n",
       " {'alias': 'restaurants', 'title': 'Restaurants'}]"
      ]
     },
     "execution_count": 41,
     "metadata": {},
     "output_type": "execute_result"
    }
   ],
   "source": [
    "df.categories = df.categories.apply(ast.literal_eval)\n",
    "df.categories[1442]"
   ]
  },
  {
   "cell_type": "markdown",
   "metadata": {},
   "source": [
    "To expand all the information in the categories column, first we have to check if there is any empty list among the values."
   ]
  },
  {
   "cell_type": "code",
   "execution_count": 42,
   "metadata": {
    "ExecuteTime": {
     "end_time": "2021-01-04T12:07:42.404898Z",
     "start_time": "2021-01-04T12:07:42.401177Z"
    }
   },
   "outputs": [
    {
     "data": {
      "text/plain": [
       "1    621\n",
       "2    457\n",
       "3    123\n",
       "4      1\n",
       "0      1\n",
       "Name: categories, dtype: int64"
      ]
     },
     "execution_count": 42,
     "metadata": {},
     "output_type": "execute_result"
    }
   ],
   "source": [
    "df.categories.apply(lambda x: len(x)).value_counts()"
   ]
  },
  {
   "cell_type": "code",
   "execution_count": 43,
   "metadata": {
    "ExecuteTime": {
     "end_time": "2021-01-04T12:07:42.410504Z",
     "start_time": "2021-01-04T12:07:42.406259Z"
    }
   },
   "outputs": [
    {
     "data": {
      "text/plain": [
       "name                             Inez\n",
       "review_count                        1\n",
       "categories                         []\n",
       "rating                              5\n",
       "price                               2\n",
       "distance                      37239.6\n",
       "lat                           61.4991\n",
       "long                          23.7669\n",
       "address         Pellavatehtaankatu 19\n",
       "city                          Tampere\n",
       "zipcode                       33100.0\n",
       "Name: 22, dtype: object"
      ]
     },
     "execution_count": 43,
     "metadata": {},
     "output_type": "execute_result"
    }
   ],
   "source": [
    "df.loc[df.categories.apply(lambda x: len(x)).idxmin()]"
   ]
  },
  {
   "cell_type": "markdown",
   "metadata": {},
   "source": [
    "Since all the result retrieved belongs to restaurant category, therefore, we can fill this missing data instead of removing the row."
   ]
  },
  {
   "cell_type": "code",
   "execution_count": 44,
   "metadata": {
    "ExecuteTime": {
     "end_time": "2021-01-04T12:07:42.413952Z",
     "start_time": "2021-01-04T12:07:42.411788Z"
    }
   },
   "outputs": [],
   "source": [
    "df.loc[22, \"categories\"] = [{'alias': 'restaurants', 'title': 'Restaurants'}]"
   ]
  },
  {
   "cell_type": "markdown",
   "metadata": {},
   "source": [
    "Now, with no missing value, we can construct a dataframe for the category."
   ]
  },
  {
   "cell_type": "code",
   "execution_count": 45,
   "metadata": {
    "ExecuteTime": {
     "end_time": "2021-01-04T12:07:43.245610Z",
     "start_time": "2021-01-04T12:07:42.415205Z"
    }
   },
   "outputs": [],
   "source": [
    "category = pd.DataFrame(columns=[0,1,2,3])\n",
    "for ind, value in zip(df.categories.index, df.categories.values):\n",
    "    val = pd.DataFrame(value, index=np.arange(len(value))).title.values\n",
    "    category.loc[ind, np.arange(len(val))] = val"
   ]
  },
  {
   "cell_type": "code",
   "execution_count": 46,
   "metadata": {
    "ExecuteTime": {
     "end_time": "2021-01-04T12:07:43.252227Z",
     "start_time": "2021-01-04T12:07:43.246679Z"
    }
   },
   "outputs": [
    {
     "data": {
      "text/html": [
       "<div>\n",
       "<style scoped>\n",
       "    .dataframe tbody tr th:only-of-type {\n",
       "        vertical-align: middle;\n",
       "    }\n",
       "\n",
       "    .dataframe tbody tr th {\n",
       "        vertical-align: top;\n",
       "    }\n",
       "\n",
       "    .dataframe thead th {\n",
       "        text-align: right;\n",
       "    }\n",
       "</style>\n",
       "<table border=\"1\" class=\"dataframe\">\n",
       "  <thead>\n",
       "    <tr style=\"text-align: right;\">\n",
       "      <th></th>\n",
       "      <th>0</th>\n",
       "      <th>1</th>\n",
       "      <th>2</th>\n",
       "      <th>3</th>\n",
       "    </tr>\n",
       "  </thead>\n",
       "  <tbody>\n",
       "    <tr>\n",
       "      <th>0</th>\n",
       "      <td>Restaurants</td>\n",
       "      <td>NaN</td>\n",
       "      <td>NaN</td>\n",
       "      <td>NaN</td>\n",
       "    </tr>\n",
       "    <tr>\n",
       "      <th>1</th>\n",
       "      <td>Restaurants</td>\n",
       "      <td>NaN</td>\n",
       "      <td>NaN</td>\n",
       "      <td>NaN</td>\n",
       "    </tr>\n",
       "    <tr>\n",
       "      <th>3</th>\n",
       "      <td>Thai</td>\n",
       "      <td>NaN</td>\n",
       "      <td>NaN</td>\n",
       "      <td>NaN</td>\n",
       "    </tr>\n",
       "    <tr>\n",
       "      <th>4</th>\n",
       "      <td>American (Traditional)</td>\n",
       "      <td>NaN</td>\n",
       "      <td>NaN</td>\n",
       "      <td>NaN</td>\n",
       "    </tr>\n",
       "    <tr>\n",
       "      <th>5</th>\n",
       "      <td>Gastropubs</td>\n",
       "      <td>NaN</td>\n",
       "      <td>NaN</td>\n",
       "      <td>NaN</td>\n",
       "    </tr>\n",
       "    <tr>\n",
       "      <th>6</th>\n",
       "      <td>Lebanese</td>\n",
       "      <td>Vegetarian</td>\n",
       "      <td>NaN</td>\n",
       "      <td>NaN</td>\n",
       "    </tr>\n",
       "    <tr>\n",
       "      <th>7</th>\n",
       "      <td>Scandinavian</td>\n",
       "      <td>Buffets</td>\n",
       "      <td>Comfort Food</td>\n",
       "      <td>NaN</td>\n",
       "    </tr>\n",
       "    <tr>\n",
       "      <th>8</th>\n",
       "      <td>Music Venues</td>\n",
       "      <td>Venues &amp; Event Spaces</td>\n",
       "      <td>Burgers</td>\n",
       "      <td>NaN</td>\n",
       "    </tr>\n",
       "    <tr>\n",
       "      <th>10</th>\n",
       "      <td>Malaysian</td>\n",
       "      <td>NaN</td>\n",
       "      <td>NaN</td>\n",
       "      <td>NaN</td>\n",
       "    </tr>\n",
       "    <tr>\n",
       "      <th>11</th>\n",
       "      <td>Scandinavian</td>\n",
       "      <td>NaN</td>\n",
       "      <td>NaN</td>\n",
       "      <td>NaN</td>\n",
       "    </tr>\n",
       "  </tbody>\n",
       "</table>\n",
       "</div>"
      ],
      "text/plain": [
       "                         0                      1             2    3\n",
       "0              Restaurants                    NaN           NaN  NaN\n",
       "1              Restaurants                    NaN           NaN  NaN\n",
       "3                     Thai                    NaN           NaN  NaN\n",
       "4   American (Traditional)                    NaN           NaN  NaN\n",
       "5               Gastropubs                    NaN           NaN  NaN\n",
       "6                 Lebanese             Vegetarian           NaN  NaN\n",
       "7             Scandinavian                Buffets  Comfort Food  NaN\n",
       "8             Music Venues  Venues & Event Spaces       Burgers  NaN\n",
       "10               Malaysian                    NaN           NaN  NaN\n",
       "11            Scandinavian                    NaN           NaN  NaN"
      ]
     },
     "execution_count": 46,
     "metadata": {},
     "output_type": "execute_result"
    }
   ],
   "source": [
    "category.head(10)"
   ]
  },
  {
   "cell_type": "markdown",
   "metadata": {},
   "source": [
    "My first idea of processing this data is to divide them into different categories:\n",
    "- Region: Asian, American, Scandinavian...\n",
    "- Type: Fast Food, Buffet...\n",
    "\n",
    "However the data in this dataframe is quite mixed up and my only solution for sorting out this kind of data is doing manually, therefore, I postpone this idea for now. Instead I will combine all the string of each entry together and replace the original column with this."
   ]
  },
  {
   "cell_type": "code",
   "execution_count": 47,
   "metadata": {
    "ExecuteTime": {
     "end_time": "2021-01-04T12:07:43.300139Z",
     "start_time": "2021-01-04T12:07:43.253319Z"
    }
   },
   "outputs": [],
   "source": [
    "df1 = pd.concat([df, category.fillna(\"\").apply(lambda x: x.str.cat(sep=\" \").strip(), axis=1)], axis=1)\n",
    "df = df1.drop(\"categories\", axis=1).rename({0:\"category\"}, axis =1)"
   ]
  },
  {
   "cell_type": "code",
   "execution_count": 48,
   "metadata": {
    "ExecuteTime": {
     "end_time": "2021-01-04T12:07:43.308658Z",
     "start_time": "2021-01-04T12:07:43.301039Z"
    }
   },
   "outputs": [
    {
     "data": {
      "text/html": [
       "<div>\n",
       "<style scoped>\n",
       "    .dataframe tbody tr th:only-of-type {\n",
       "        vertical-align: middle;\n",
       "    }\n",
       "\n",
       "    .dataframe tbody tr th {\n",
       "        vertical-align: top;\n",
       "    }\n",
       "\n",
       "    .dataframe thead th {\n",
       "        text-align: right;\n",
       "    }\n",
       "</style>\n",
       "<table border=\"1\" class=\"dataframe\">\n",
       "  <thead>\n",
       "    <tr style=\"text-align: right;\">\n",
       "      <th></th>\n",
       "      <th>name</th>\n",
       "      <th>review_count</th>\n",
       "      <th>rating</th>\n",
       "      <th>price</th>\n",
       "      <th>distance</th>\n",
       "      <th>lat</th>\n",
       "      <th>long</th>\n",
       "      <th>address</th>\n",
       "      <th>city</th>\n",
       "      <th>zipcode</th>\n",
       "      <th>category</th>\n",
       "    </tr>\n",
       "  </thead>\n",
       "  <tbody>\n",
       "    <tr>\n",
       "      <th>0</th>\n",
       "      <td>Popino</td>\n",
       "      <td>4</td>\n",
       "      <td>4.5</td>\n",
       "      <td>2</td>\n",
       "      <td>37454.613324</td>\n",
       "      <td>60.996349</td>\n",
       "      <td>24.467030</td>\n",
       "      <td>Raatihuoneenkatu 11</td>\n",
       "      <td>Hämeenlinna</td>\n",
       "      <td>13100.0</td>\n",
       "      <td>Restaurants</td>\n",
       "    </tr>\n",
       "    <tr>\n",
       "      <th>1</th>\n",
       "      <td>Vaihmalan Hovi</td>\n",
       "      <td>1</td>\n",
       "      <td>4.0</td>\n",
       "      <td>3</td>\n",
       "      <td>15118.429192</td>\n",
       "      <td>61.297451</td>\n",
       "      <td>23.777439</td>\n",
       "      <td>Vaihmalantie 144</td>\n",
       "      <td>Lempäälä</td>\n",
       "      <td>37500.0</td>\n",
       "      <td>Restaurants</td>\n",
       "    </tr>\n",
       "    <tr>\n",
       "      <th>3</th>\n",
       "      <td>Sawaddee</td>\n",
       "      <td>3</td>\n",
       "      <td>4.0</td>\n",
       "      <td>2</td>\n",
       "      <td>37198.075417</td>\n",
       "      <td>60.997372</td>\n",
       "      <td>24.462761</td>\n",
       "      <td>Sibeliuksenkatu 13</td>\n",
       "      <td>Hämeenlinna</td>\n",
       "      <td>13100.0</td>\n",
       "      <td>Thai</td>\n",
       "    </tr>\n",
       "    <tr>\n",
       "      <th>4</th>\n",
       "      <td>Fresno</td>\n",
       "      <td>3</td>\n",
       "      <td>4.0</td>\n",
       "      <td>2</td>\n",
       "      <td>37256.582366</td>\n",
       "      <td>60.996840</td>\n",
       "      <td>24.463374</td>\n",
       "      <td>Hallituskatu 20</td>\n",
       "      <td>Hämeenlinna</td>\n",
       "      <td>13100.0</td>\n",
       "      <td>American (Traditional)</td>\n",
       "    </tr>\n",
       "    <tr>\n",
       "      <th>5</th>\n",
       "      <td>Tuulensuu</td>\n",
       "      <td>8</td>\n",
       "      <td>4.0</td>\n",
       "      <td>2</td>\n",
       "      <td>37347.573733</td>\n",
       "      <td>61.498600</td>\n",
       "      <td>23.753660</td>\n",
       "      <td>Hämeenpuisto 23</td>\n",
       "      <td>Tampere</td>\n",
       "      <td>33210.0</td>\n",
       "      <td>Gastropubs</td>\n",
       "    </tr>\n",
       "  </tbody>\n",
       "</table>\n",
       "</div>"
      ],
      "text/plain": [
       "             name  review_count  rating  price      distance        lat  \\\n",
       "0          Popino             4     4.5      2  37454.613324  60.996349   \n",
       "1  Vaihmalan Hovi             1     4.0      3  15118.429192  61.297451   \n",
       "3        Sawaddee             3     4.0      2  37198.075417  60.997372   \n",
       "4          Fresno             3     4.0      2  37256.582366  60.996840   \n",
       "5       Tuulensuu             8     4.0      2  37347.573733  61.498600   \n",
       "\n",
       "        long              address         city  zipcode  \\\n",
       "0  24.467030  Raatihuoneenkatu 11  Hämeenlinna  13100.0   \n",
       "1  23.777439     Vaihmalantie 144     Lempäälä  37500.0   \n",
       "3  24.462761   Sibeliuksenkatu 13  Hämeenlinna  13100.0   \n",
       "4  24.463374      Hallituskatu 20  Hämeenlinna  13100.0   \n",
       "5  23.753660      Hämeenpuisto 23      Tampere  33210.0   \n",
       "\n",
       "                 category  \n",
       "0             Restaurants  \n",
       "1             Restaurants  \n",
       "3                    Thai  \n",
       "4  American (Traditional)  \n",
       "5              Gastropubs  "
      ]
     },
     "execution_count": 48,
     "metadata": {},
     "output_type": "execute_result"
    }
   ],
   "source": [
    "df.head()"
   ]
  },
  {
   "cell_type": "markdown",
   "metadata": {},
   "source": [
    "## Analyzing"
   ]
  },
  {
   "cell_type": "markdown",
   "metadata": {},
   "source": [
    "### Density of restaurant for each city"
   ]
  },
  {
   "cell_type": "code",
   "execution_count": 49,
   "metadata": {
    "ExecuteTime": {
     "end_time": "2021-01-04T12:07:43.312970Z",
     "start_time": "2021-01-04T12:07:43.309825Z"
    }
   },
   "outputs": [],
   "source": [
    "def restaurant_map(city):\n",
    "    if city in df[\"city\"].unique():\n",
    "        ci = df[df[\"city\"]==city]\n",
    "        pos = ci[ci.distance==ci.distance.min()][[\"lat\", \"long\"]]\n",
    "        a_map = folium.Map(location=[pos.lat.values[0], pos.long.values[0]],\n",
    "                         tiles='cartodbpositron',\n",
    "                          zoom_start=12,)\n",
    "        ci.apply(lambda row: folium.CircleMarker(location = [row.lat, row.long], radius=3).add_to(a_map), axis=1)\n",
    "    else:\n",
    "        a_map = folium.Map(location=[63.4500229, 25.464308],\n",
    "                         tiles='cartodbpositron',\n",
    "                          zoom_start=5,)\n",
    "        df.apply(lambda row: folium.CircleMarker(location = [row.lat, row.long], radius=3).add_to(a_map), axis=1)\n",
    "    return a_map"
   ]
  },
  {
   "cell_type": "code",
   "execution_count": 50,
   "metadata": {
    "ExecuteTime": {
     "end_time": "2021-01-04T12:07:43.727332Z",
     "start_time": "2021-01-04T12:07:43.314156Z"
    }
   },
   "outputs": [
    {
     "data": {
      "application/vnd.jupyter.widget-view+json": {
       "model_id": "0f208610c6064546b51473a957226dad",
       "version_major": 2,
       "version_minor": 0
      },
      "text/plain": [
       "interactive(children=(Dropdown(description='city', options=('All', 'Ekenäs', 'Espoo', 'Fiskari', 'Hanko', 'Hei…"
      ]
     },
     "metadata": {},
     "output_type": "display_data"
    },
    {
     "data": {
      "text/plain": [
       "<function __main__.restaurant_map(city)>"
      ]
     },
     "execution_count": 50,
     "metadata": {},
     "output_type": "execute_result"
    }
   ],
   "source": [
    "interact(restaurant_map, city=sorted(np.append(df.city.unique(),[\"All\"])))"
   ]
  },
  {
   "cell_type": "markdown",
   "metadata": {},
   "source": [
    "The density of restaurant is increasing toward the South, and since the population is different from city, this also affect the density too. For a city, the density of restaurant is high in the center and lower for adjacent areas. However, since the data is limited, this doesn't show the full picture of how restaurant spread all over Finland.\n",
    "### Average rating for every city"
   ]
  },
  {
   "cell_type": "code",
   "execution_count": 51,
   "metadata": {
    "ExecuteTime": {
     "end_time": "2021-01-04T12:07:43.742179Z",
     "start_time": "2021-01-04T12:07:43.728250Z"
    },
    "scrolled": false
   },
   "outputs": [
    {
     "data": {
      "application/vnd.plotly.v1+json": {
       "config": {
        "linkText": "Export to plot.ly",
        "plotlyServerURL": "https://plot.ly",
        "showLink": true
       },
       "data": [
        {
         "marker": {
          "color": "rgba(255, 153, 51, 0.6)",
          "line": {
           "color": "rgba(255, 153, 51, 1.0)",
           "width": 1
          }
         },
         "name": "rating",
         "orientation": "v",
         "text": "",
         "type": "bar",
         "x": [
          "Ekenäs",
          "Espoo",
          "Fiskari",
          "Hanko",
          "Heinävesi",
          "Helsinki",
          "Hyvinkää",
          "Hämeenkyrö",
          "Hämeenlinna",
          "Iisalmi",
          "Imatra",
          "Joensuu",
          "Juankoski",
          "Jyväskylä",
          "Jämsä",
          "Jämsänkoski",
          "Järvenpää",
          "Kajaani",
          "Kalkkiranta",
          "Kangasala",
          "Kankaanpaa",
          "Karjaa",
          "Kauhava",
          "Kauniainen",
          "Kerava",
          "Kerma",
          "Kirkkonummi",
          "Klaukkala",
          "Kokkola",
          "Korppoo",
          "Kotka",
          "Kouvola",
          "Kuopio",
          "Kuru",
          "Lahti",
          "Laitila",
          "Lappeenranta",
          "Lappfjärd",
          "Larsmo",
          "Lempäälä",
          "Lieto",
          "Lohja",
          "Loviisa",
          "Maarianhamina",
          "Mikkeli",
          "Naantali",
          "Nauvo",
          "Nokia",
          "Nummela",
          "Oulu",
          "Outokumpu",
          "Parainen",
          "Parkano",
          "Pentinmäki",
          "Pietarsaari",
          "Pohjaslahti",
          "Pori",
          "Porvoo",
          "Raahe",
          "Raasepori",
          "Raisio",
          "Rauma",
          "Riihimäki",
          "Rovaniemi",
          "Rukatunturi",
          "Röykkä",
          "Salo",
          "Sastamala",
          "Savonlinna",
          "Seinäjoki",
          "Tahkovuori",
          "Tammela",
          "Tammisaari",
          "Tampere",
          "Tuorila",
          "Turku",
          "Tuusula",
          "Uusikaupunki",
          "Vaasa",
          "Vantaa",
          "Varkaus",
          "Vierumaki",
          "Vihti",
          "Vääksy",
          "Ylöjärvi"
         ],
         "y": [
          3.5,
          3.526315789473684,
          4.5,
          4.25,
          4,
          3.7632743362831858,
          3,
          4,
          3.2777777777777777,
          4,
          4,
          3.6363636363636362,
          3,
          3.7222222222222223,
          3,
          5,
          3.5,
          3,
          4,
          4,
          5,
          1,
          4,
          4,
          4,
          3,
          3.5,
          4,
          4.25,
          4,
          3.625,
          2,
          3.0833333333333335,
          5,
          3.8125,
          3,
          3.5,
          4,
          4,
          3,
          2,
          4.25,
          3.8333333333333335,
          4.0625,
          3.5,
          2.5,
          4.5,
          4,
          3.5,
          3.9239130434782608,
          4,
          5,
          4,
          3,
          4,
          4,
          3.45,
          3.8636363636363638,
          3.5,
          3,
          3,
          3.9,
          4,
          3.6666666666666665,
          4,
          3,
          4.166666666666667,
          3,
          4,
          3,
          4,
          5,
          5,
          3.723404255319149,
          4,
          4.051282051282051,
          4.125,
          2.6666666666666665,
          4.3,
          3.4390243902439024,
          3,
          3,
          3.5,
          5,
          4.5
         ]
        }
       ],
       "layout": {
        "legend": {
         "bgcolor": "#F5F6F9",
         "font": {
          "color": "#4D5663"
         }
        },
        "paper_bgcolor": "#F5F6F9",
        "plot_bgcolor": "#F5F6F9",
        "shapes": [
         {
          "line": {
           "color": "#db4052",
           "dash": "solid",
           "width": 1
          },
          "type": "line",
          "x0": 0,
          "x1": 1,
          "xref": "paper",
          "y0": 3.738985868661679,
          "y1": 3.738985868661679,
          "yref": "y"
         }
        ],
        "titlefont": {
         "color": "#4D5663"
        },
        "xaxis": {
         "gridcolor": "#E1E5ED",
         "showgrid": true,
         "tickfont": {
          "color": "#4D5663"
         },
         "title": "",
         "titlefont": {
          "color": "#4D5663"
         },
         "zerolinecolor": "#E1E5ED"
        },
        "yaxis": {
         "gridcolor": "#E1E5ED",
         "showgrid": true,
         "tickfont": {
          "color": "#4D5663"
         },
         "title": "",
         "titlefont": {
          "color": "#4D5663"
         },
         "zerolinecolor": "#E1E5ED"
        }
       }
      },
      "text/html": [
       "<div>                            <div id=\"2826a6eb-6676-49b9-aa5a-e4b65cc07e68\" class=\"plotly-graph-div\" style=\"height:525px; width:100%;\"></div>            <script type=\"text/javascript\">                require([\"plotly\"], function(Plotly) {                    window.PLOTLYENV=window.PLOTLYENV || {};\n",
       "                    window.PLOTLYENV.BASE_URL='https://plot.ly';                                    if (document.getElementById(\"2826a6eb-6676-49b9-aa5a-e4b65cc07e68\")) {                    Plotly.newPlot(                        \"2826a6eb-6676-49b9-aa5a-e4b65cc07e68\",                        [{\"marker\": {\"color\": \"rgba(255, 153, 51, 0.6)\", \"line\": {\"color\": \"rgba(255, 153, 51, 1.0)\", \"width\": 1}}, \"name\": \"rating\", \"orientation\": \"v\", \"text\": \"\", \"type\": \"bar\", \"x\": [\"Eken\\u00e4s\", \"Espoo\", \"Fiskari\", \"Hanko\", \"Hein\\u00e4vesi\", \"Helsinki\", \"Hyvink\\u00e4\\u00e4\", \"H\\u00e4meenkyr\\u00f6\", \"H\\u00e4meenlinna\", \"Iisalmi\", \"Imatra\", \"Joensuu\", \"Juankoski\", \"Jyv\\u00e4skyl\\u00e4\", \"J\\u00e4ms\\u00e4\", \"J\\u00e4ms\\u00e4nkoski\", \"J\\u00e4rvenp\\u00e4\\u00e4\", \"Kajaani\", \"Kalkkiranta\", \"Kangasala\", \"Kankaanpaa\", \"Karjaa\", \"Kauhava\", \"Kauniainen\", \"Kerava\", \"Kerma\", \"Kirkkonummi\", \"Klaukkala\", \"Kokkola\", \"Korppoo\", \"Kotka\", \"Kouvola\", \"Kuopio\", \"Kuru\", \"Lahti\", \"Laitila\", \"Lappeenranta\", \"Lappfj\\u00e4rd\", \"Larsmo\", \"Lemp\\u00e4\\u00e4l\\u00e4\", \"Lieto\", \"Lohja\", \"Loviisa\", \"Maarianhamina\", \"Mikkeli\", \"Naantali\", \"Nauvo\", \"Nokia\", \"Nummela\", \"Oulu\", \"Outokumpu\", \"Parainen\", \"Parkano\", \"Pentinm\\u00e4ki\", \"Pietarsaari\", \"Pohjaslahti\", \"Pori\", \"Porvoo\", \"Raahe\", \"Raasepori\", \"Raisio\", \"Rauma\", \"Riihim\\u00e4ki\", \"Rovaniemi\", \"Rukatunturi\", \"R\\u00f6ykk\\u00e4\", \"Salo\", \"Sastamala\", \"Savonlinna\", \"Sein\\u00e4joki\", \"Tahkovuori\", \"Tammela\", \"Tammisaari\", \"Tampere\", \"Tuorila\", \"Turku\", \"Tuusula\", \"Uusikaupunki\", \"Vaasa\", \"Vantaa\", \"Varkaus\", \"Vierumaki\", \"Vihti\", \"V\\u00e4\\u00e4ksy\", \"Yl\\u00f6j\\u00e4rvi\"], \"y\": [3.5, 3.526315789473684, 4.5, 4.25, 4.0, 3.7632743362831858, 3.0, 4.0, 3.2777777777777777, 4.0, 4.0, 3.6363636363636362, 3.0, 3.7222222222222223, 3.0, 5.0, 3.5, 3.0, 4.0, 4.0, 5.0, 1.0, 4.0, 4.0, 4.0, 3.0, 3.5, 4.0, 4.25, 4.0, 3.625, 2.0, 3.0833333333333335, 5.0, 3.8125, 3.0, 3.5, 4.0, 4.0, 3.0, 2.0, 4.25, 3.8333333333333335, 4.0625, 3.5, 2.5, 4.5, 4.0, 3.5, 3.9239130434782608, 4.0, 5.0, 4.0, 3.0, 4.0, 4.0, 3.45, 3.8636363636363638, 3.5, 3.0, 3.0, 3.9, 4.0, 3.6666666666666665, 4.0, 3.0, 4.166666666666667, 3.0, 4.0, 3.0, 4.0, 5.0, 5.0, 3.723404255319149, 4.0, 4.051282051282051, 4.125, 2.6666666666666665, 4.3, 3.4390243902439024, 3.0, 3.0, 3.5, 5.0, 4.5]}],                        {\"legend\": {\"bgcolor\": \"#F5F6F9\", \"font\": {\"color\": \"#4D5663\"}}, \"paper_bgcolor\": \"#F5F6F9\", \"plot_bgcolor\": \"#F5F6F9\", \"shapes\": [{\"line\": {\"color\": \"#db4052\", \"dash\": \"solid\", \"width\": 1}, \"type\": \"line\", \"x0\": 0, \"x1\": 1, \"xref\": \"paper\", \"y0\": 3.738985868661679, \"y1\": 3.738985868661679, \"yref\": \"y\"}], \"titlefont\": {\"color\": \"#4D5663\"}, \"xaxis\": {\"gridcolor\": \"#E1E5ED\", \"showgrid\": true, \"tickfont\": {\"color\": \"#4D5663\"}, \"title\": \"\", \"titlefont\": {\"color\": \"#4D5663\"}, \"zerolinecolor\": \"#E1E5ED\"}, \"yaxis\": {\"gridcolor\": \"#E1E5ED\", \"showgrid\": true, \"tickfont\": {\"color\": \"#4D5663\"}, \"title\": \"\", \"titlefont\": {\"color\": \"#4D5663\"}, \"zerolinecolor\": \"#E1E5ED\"}},                        {\"showLink\": true, \"linkText\": \"Export to plot.ly\", \"plotlyServerURL\": \"https://plot.ly\", \"responsive\": true}                    ).then(function(){\n",
       "                            \n",
       "var gd = document.getElementById('2826a6eb-6676-49b9-aa5a-e4b65cc07e68');\n",
       "var x = new MutationObserver(function (mutations, observer) {{\n",
       "        var display = window.getComputedStyle(gd).display;\n",
       "        if (!display || display === 'none') {{\n",
       "            console.log([gd, 'removed!']);\n",
       "            Plotly.purge(gd);\n",
       "            observer.disconnect();\n",
       "        }}\n",
       "}});\n",
       "\n",
       "// Listen for the removal of the full notebook cells\n",
       "var notebookContainer = gd.closest('#notebook-container');\n",
       "if (notebookContainer) {{\n",
       "    x.observe(notebookContainer, {childList: true});\n",
       "}}\n",
       "\n",
       "// Listen for the clearing of the current output cell\n",
       "var outputEl = gd.closest('.output');\n",
       "if (outputEl) {{\n",
       "    x.observe(outputEl, {childList: true});\n",
       "}}\n",
       "\n",
       "                        })                };                });            </script>        </div>"
      ]
     },
     "metadata": {},
     "output_type": "display_data"
    }
   ],
   "source": [
    "a = df.groupby(\"city\")[\"rating\"].mean()\n",
    "a.iplot(kind='bar', hline=df.rating.mean())"
   ]
  },
  {
   "cell_type": "markdown",
   "metadata": {},
   "source": [
    "The average rating for the restaurant is nearly 4, except 3 cities: Kauhava, Kouvola, and Lieto which have rating under 3, all other cities have the rating of nearly 3 and above. However, as mentioned before, since the data is short and a lot of information is not included, this average doesn't show the real picture of restaurant rating in Finland.\n",
    "### Price level\n",
    "#### Percentage of restaurant grouped by price level"
   ]
  },
  {
   "cell_type": "code",
   "execution_count": 52,
   "metadata": {
    "ExecuteTime": {
     "end_time": "2021-01-04T12:07:43.772790Z",
     "start_time": "2021-01-04T12:07:43.743058Z"
    }
   },
   "outputs": [
    {
     "data": {
      "application/vnd.plotly.v1+json": {
       "config": {
        "plotlyServerURL": "https://plot.ly"
       },
       "data": [
        {
         "domain": {
          "x": [
           0,
           1
          ],
          "y": [
           0,
           1
          ]
         },
         "hovertemplate": "price=%{label}<br>value=%{value}<extra></extra>",
         "labels": [
          1,
          2,
          3,
          4
         ],
         "legendgroup": "",
         "name": "",
         "showlegend": true,
         "type": "pie",
         "values": [
          33.000831255195344,
          46.467165419783875,
          16.708229426433917,
          3.8237738985868663
         ]
        }
       ],
       "layout": {
        "legend": {
         "tracegroupgap": 0
        },
        "margin": {
         "t": 60
        },
        "template": {
         "data": {
          "bar": [
           {
            "error_x": {
             "color": "#2a3f5f"
            },
            "error_y": {
             "color": "#2a3f5f"
            },
            "marker": {
             "line": {
              "color": "#E5ECF6",
              "width": 0.5
             }
            },
            "type": "bar"
           }
          ],
          "barpolar": [
           {
            "marker": {
             "line": {
              "color": "#E5ECF6",
              "width": 0.5
             }
            },
            "type": "barpolar"
           }
          ],
          "carpet": [
           {
            "aaxis": {
             "endlinecolor": "#2a3f5f",
             "gridcolor": "white",
             "linecolor": "white",
             "minorgridcolor": "white",
             "startlinecolor": "#2a3f5f"
            },
            "baxis": {
             "endlinecolor": "#2a3f5f",
             "gridcolor": "white",
             "linecolor": "white",
             "minorgridcolor": "white",
             "startlinecolor": "#2a3f5f"
            },
            "type": "carpet"
           }
          ],
          "choropleth": [
           {
            "colorbar": {
             "outlinewidth": 0,
             "ticks": ""
            },
            "type": "choropleth"
           }
          ],
          "contour": [
           {
            "colorbar": {
             "outlinewidth": 0,
             "ticks": ""
            },
            "colorscale": [
             [
              0,
              "#0d0887"
             ],
             [
              0.1111111111111111,
              "#46039f"
             ],
             [
              0.2222222222222222,
              "#7201a8"
             ],
             [
              0.3333333333333333,
              "#9c179e"
             ],
             [
              0.4444444444444444,
              "#bd3786"
             ],
             [
              0.5555555555555556,
              "#d8576b"
             ],
             [
              0.6666666666666666,
              "#ed7953"
             ],
             [
              0.7777777777777778,
              "#fb9f3a"
             ],
             [
              0.8888888888888888,
              "#fdca26"
             ],
             [
              1,
              "#f0f921"
             ]
            ],
            "type": "contour"
           }
          ],
          "contourcarpet": [
           {
            "colorbar": {
             "outlinewidth": 0,
             "ticks": ""
            },
            "type": "contourcarpet"
           }
          ],
          "heatmap": [
           {
            "colorbar": {
             "outlinewidth": 0,
             "ticks": ""
            },
            "colorscale": [
             [
              0,
              "#0d0887"
             ],
             [
              0.1111111111111111,
              "#46039f"
             ],
             [
              0.2222222222222222,
              "#7201a8"
             ],
             [
              0.3333333333333333,
              "#9c179e"
             ],
             [
              0.4444444444444444,
              "#bd3786"
             ],
             [
              0.5555555555555556,
              "#d8576b"
             ],
             [
              0.6666666666666666,
              "#ed7953"
             ],
             [
              0.7777777777777778,
              "#fb9f3a"
             ],
             [
              0.8888888888888888,
              "#fdca26"
             ],
             [
              1,
              "#f0f921"
             ]
            ],
            "type": "heatmap"
           }
          ],
          "heatmapgl": [
           {
            "colorbar": {
             "outlinewidth": 0,
             "ticks": ""
            },
            "colorscale": [
             [
              0,
              "#0d0887"
             ],
             [
              0.1111111111111111,
              "#46039f"
             ],
             [
              0.2222222222222222,
              "#7201a8"
             ],
             [
              0.3333333333333333,
              "#9c179e"
             ],
             [
              0.4444444444444444,
              "#bd3786"
             ],
             [
              0.5555555555555556,
              "#d8576b"
             ],
             [
              0.6666666666666666,
              "#ed7953"
             ],
             [
              0.7777777777777778,
              "#fb9f3a"
             ],
             [
              0.8888888888888888,
              "#fdca26"
             ],
             [
              1,
              "#f0f921"
             ]
            ],
            "type": "heatmapgl"
           }
          ],
          "histogram": [
           {
            "marker": {
             "colorbar": {
              "outlinewidth": 0,
              "ticks": ""
             }
            },
            "type": "histogram"
           }
          ],
          "histogram2d": [
           {
            "colorbar": {
             "outlinewidth": 0,
             "ticks": ""
            },
            "colorscale": [
             [
              0,
              "#0d0887"
             ],
             [
              0.1111111111111111,
              "#46039f"
             ],
             [
              0.2222222222222222,
              "#7201a8"
             ],
             [
              0.3333333333333333,
              "#9c179e"
             ],
             [
              0.4444444444444444,
              "#bd3786"
             ],
             [
              0.5555555555555556,
              "#d8576b"
             ],
             [
              0.6666666666666666,
              "#ed7953"
             ],
             [
              0.7777777777777778,
              "#fb9f3a"
             ],
             [
              0.8888888888888888,
              "#fdca26"
             ],
             [
              1,
              "#f0f921"
             ]
            ],
            "type": "histogram2d"
           }
          ],
          "histogram2dcontour": [
           {
            "colorbar": {
             "outlinewidth": 0,
             "ticks": ""
            },
            "colorscale": [
             [
              0,
              "#0d0887"
             ],
             [
              0.1111111111111111,
              "#46039f"
             ],
             [
              0.2222222222222222,
              "#7201a8"
             ],
             [
              0.3333333333333333,
              "#9c179e"
             ],
             [
              0.4444444444444444,
              "#bd3786"
             ],
             [
              0.5555555555555556,
              "#d8576b"
             ],
             [
              0.6666666666666666,
              "#ed7953"
             ],
             [
              0.7777777777777778,
              "#fb9f3a"
             ],
             [
              0.8888888888888888,
              "#fdca26"
             ],
             [
              1,
              "#f0f921"
             ]
            ],
            "type": "histogram2dcontour"
           }
          ],
          "mesh3d": [
           {
            "colorbar": {
             "outlinewidth": 0,
             "ticks": ""
            },
            "type": "mesh3d"
           }
          ],
          "parcoords": [
           {
            "line": {
             "colorbar": {
              "outlinewidth": 0,
              "ticks": ""
             }
            },
            "type": "parcoords"
           }
          ],
          "pie": [
           {
            "automargin": true,
            "type": "pie"
           }
          ],
          "scatter": [
           {
            "marker": {
             "colorbar": {
              "outlinewidth": 0,
              "ticks": ""
             }
            },
            "type": "scatter"
           }
          ],
          "scatter3d": [
           {
            "line": {
             "colorbar": {
              "outlinewidth": 0,
              "ticks": ""
             }
            },
            "marker": {
             "colorbar": {
              "outlinewidth": 0,
              "ticks": ""
             }
            },
            "type": "scatter3d"
           }
          ],
          "scattercarpet": [
           {
            "marker": {
             "colorbar": {
              "outlinewidth": 0,
              "ticks": ""
             }
            },
            "type": "scattercarpet"
           }
          ],
          "scattergeo": [
           {
            "marker": {
             "colorbar": {
              "outlinewidth": 0,
              "ticks": ""
             }
            },
            "type": "scattergeo"
           }
          ],
          "scattergl": [
           {
            "marker": {
             "colorbar": {
              "outlinewidth": 0,
              "ticks": ""
             }
            },
            "type": "scattergl"
           }
          ],
          "scattermapbox": [
           {
            "marker": {
             "colorbar": {
              "outlinewidth": 0,
              "ticks": ""
             }
            },
            "type": "scattermapbox"
           }
          ],
          "scatterpolar": [
           {
            "marker": {
             "colorbar": {
              "outlinewidth": 0,
              "ticks": ""
             }
            },
            "type": "scatterpolar"
           }
          ],
          "scatterpolargl": [
           {
            "marker": {
             "colorbar": {
              "outlinewidth": 0,
              "ticks": ""
             }
            },
            "type": "scatterpolargl"
           }
          ],
          "scatterternary": [
           {
            "marker": {
             "colorbar": {
              "outlinewidth": 0,
              "ticks": ""
             }
            },
            "type": "scatterternary"
           }
          ],
          "surface": [
           {
            "colorbar": {
             "outlinewidth": 0,
             "ticks": ""
            },
            "colorscale": [
             [
              0,
              "#0d0887"
             ],
             [
              0.1111111111111111,
              "#46039f"
             ],
             [
              0.2222222222222222,
              "#7201a8"
             ],
             [
              0.3333333333333333,
              "#9c179e"
             ],
             [
              0.4444444444444444,
              "#bd3786"
             ],
             [
              0.5555555555555556,
              "#d8576b"
             ],
             [
              0.6666666666666666,
              "#ed7953"
             ],
             [
              0.7777777777777778,
              "#fb9f3a"
             ],
             [
              0.8888888888888888,
              "#fdca26"
             ],
             [
              1,
              "#f0f921"
             ]
            ],
            "type": "surface"
           }
          ],
          "table": [
           {
            "cells": {
             "fill": {
              "color": "#EBF0F8"
             },
             "line": {
              "color": "white"
             }
            },
            "header": {
             "fill": {
              "color": "#C8D4E3"
             },
             "line": {
              "color": "white"
             }
            },
            "type": "table"
           }
          ]
         },
         "layout": {
          "annotationdefaults": {
           "arrowcolor": "#2a3f5f",
           "arrowhead": 0,
           "arrowwidth": 1
          },
          "coloraxis": {
           "colorbar": {
            "outlinewidth": 0,
            "ticks": ""
           }
          },
          "colorscale": {
           "diverging": [
            [
             0,
             "#8e0152"
            ],
            [
             0.1,
             "#c51b7d"
            ],
            [
             0.2,
             "#de77ae"
            ],
            [
             0.3,
             "#f1b6da"
            ],
            [
             0.4,
             "#fde0ef"
            ],
            [
             0.5,
             "#f7f7f7"
            ],
            [
             0.6,
             "#e6f5d0"
            ],
            [
             0.7,
             "#b8e186"
            ],
            [
             0.8,
             "#7fbc41"
            ],
            [
             0.9,
             "#4d9221"
            ],
            [
             1,
             "#276419"
            ]
           ],
           "sequential": [
            [
             0,
             "#0d0887"
            ],
            [
             0.1111111111111111,
             "#46039f"
            ],
            [
             0.2222222222222222,
             "#7201a8"
            ],
            [
             0.3333333333333333,
             "#9c179e"
            ],
            [
             0.4444444444444444,
             "#bd3786"
            ],
            [
             0.5555555555555556,
             "#d8576b"
            ],
            [
             0.6666666666666666,
             "#ed7953"
            ],
            [
             0.7777777777777778,
             "#fb9f3a"
            ],
            [
             0.8888888888888888,
             "#fdca26"
            ],
            [
             1,
             "#f0f921"
            ]
           ],
           "sequentialminus": [
            [
             0,
             "#0d0887"
            ],
            [
             0.1111111111111111,
             "#46039f"
            ],
            [
             0.2222222222222222,
             "#7201a8"
            ],
            [
             0.3333333333333333,
             "#9c179e"
            ],
            [
             0.4444444444444444,
             "#bd3786"
            ],
            [
             0.5555555555555556,
             "#d8576b"
            ],
            [
             0.6666666666666666,
             "#ed7953"
            ],
            [
             0.7777777777777778,
             "#fb9f3a"
            ],
            [
             0.8888888888888888,
             "#fdca26"
            ],
            [
             1,
             "#f0f921"
            ]
           ]
          },
          "colorway": [
           "#636efa",
           "#EF553B",
           "#00cc96",
           "#ab63fa",
           "#FFA15A",
           "#19d3f3",
           "#FF6692",
           "#B6E880",
           "#FF97FF",
           "#FECB52"
          ],
          "font": {
           "color": "#2a3f5f"
          },
          "geo": {
           "bgcolor": "white",
           "lakecolor": "white",
           "landcolor": "#E5ECF6",
           "showlakes": true,
           "showland": true,
           "subunitcolor": "white"
          },
          "hoverlabel": {
           "align": "left"
          },
          "hovermode": "closest",
          "mapbox": {
           "style": "light"
          },
          "paper_bgcolor": "white",
          "plot_bgcolor": "#E5ECF6",
          "polar": {
           "angularaxis": {
            "gridcolor": "white",
            "linecolor": "white",
            "ticks": ""
           },
           "bgcolor": "#E5ECF6",
           "radialaxis": {
            "gridcolor": "white",
            "linecolor": "white",
            "ticks": ""
           }
          },
          "scene": {
           "xaxis": {
            "backgroundcolor": "#E5ECF6",
            "gridcolor": "white",
            "gridwidth": 2,
            "linecolor": "white",
            "showbackground": true,
            "ticks": "",
            "zerolinecolor": "white"
           },
           "yaxis": {
            "backgroundcolor": "#E5ECF6",
            "gridcolor": "white",
            "gridwidth": 2,
            "linecolor": "white",
            "showbackground": true,
            "ticks": "",
            "zerolinecolor": "white"
           },
           "zaxis": {
            "backgroundcolor": "#E5ECF6",
            "gridcolor": "white",
            "gridwidth": 2,
            "linecolor": "white",
            "showbackground": true,
            "ticks": "",
            "zerolinecolor": "white"
           }
          },
          "shapedefaults": {
           "line": {
            "color": "#2a3f5f"
           }
          },
          "ternary": {
           "aaxis": {
            "gridcolor": "white",
            "linecolor": "white",
            "ticks": ""
           },
           "baxis": {
            "gridcolor": "white",
            "linecolor": "white",
            "ticks": ""
           },
           "bgcolor": "#E5ECF6",
           "caxis": {
            "gridcolor": "white",
            "linecolor": "white",
            "ticks": ""
           }
          },
          "title": {
           "x": 0.05
          },
          "xaxis": {
           "automargin": true,
           "gridcolor": "white",
           "linecolor": "white",
           "ticks": "",
           "title": {
            "standoff": 15
           },
           "zerolinecolor": "white",
           "zerolinewidth": 2
          },
          "yaxis": {
           "automargin": true,
           "gridcolor": "white",
           "linecolor": "white",
           "ticks": "",
           "title": {
            "standoff": 15
           },
           "zerolinecolor": "white",
           "zerolinewidth": 2
          }
         }
        },
        "title": {
         "text": "proportion of restaurant on the basic of price level"
        }
       }
      },
      "text/html": [
       "<div>                            <div id=\"1c1dcf36-5324-4b6f-99ae-5fbd76c01499\" class=\"plotly-graph-div\" style=\"height:525px; width:100%;\"></div>            <script type=\"text/javascript\">                require([\"plotly\"], function(Plotly) {                    window.PLOTLYENV=window.PLOTLYENV || {};                                    if (document.getElementById(\"1c1dcf36-5324-4b6f-99ae-5fbd76c01499\")) {                    Plotly.newPlot(                        \"1c1dcf36-5324-4b6f-99ae-5fbd76c01499\",                        [{\"domain\": {\"x\": [0.0, 1.0], \"y\": [0.0, 1.0]}, \"hovertemplate\": \"price=%{label}<br>value=%{value}<extra></extra>\", \"labels\": [1, 2, 3, 4], \"legendgroup\": \"\", \"name\": \"\", \"showlegend\": true, \"type\": \"pie\", \"values\": [33.000831255195344, 46.467165419783875, 16.708229426433917, 3.8237738985868663]}],                        {\"legend\": {\"tracegroupgap\": 0}, \"margin\": {\"t\": 60}, \"template\": {\"data\": {\"bar\": [{\"error_x\": {\"color\": \"#2a3f5f\"}, \"error_y\": {\"color\": \"#2a3f5f\"}, \"marker\": {\"line\": {\"color\": \"#E5ECF6\", \"width\": 0.5}}, \"type\": \"bar\"}], \"barpolar\": [{\"marker\": {\"line\": {\"color\": \"#E5ECF6\", \"width\": 0.5}}, \"type\": \"barpolar\"}], \"carpet\": [{\"aaxis\": {\"endlinecolor\": \"#2a3f5f\", \"gridcolor\": \"white\", \"linecolor\": \"white\", \"minorgridcolor\": \"white\", \"startlinecolor\": \"#2a3f5f\"}, \"baxis\": {\"endlinecolor\": \"#2a3f5f\", \"gridcolor\": \"white\", \"linecolor\": \"white\", \"minorgridcolor\": \"white\", \"startlinecolor\": \"#2a3f5f\"}, \"type\": \"carpet\"}], \"choropleth\": [{\"colorbar\": {\"outlinewidth\": 0, \"ticks\": \"\"}, \"type\": \"choropleth\"}], \"contour\": [{\"colorbar\": {\"outlinewidth\": 0, \"ticks\": \"\"}, \"colorscale\": [[0.0, \"#0d0887\"], [0.1111111111111111, \"#46039f\"], [0.2222222222222222, \"#7201a8\"], [0.3333333333333333, \"#9c179e\"], [0.4444444444444444, \"#bd3786\"], [0.5555555555555556, \"#d8576b\"], [0.6666666666666666, \"#ed7953\"], [0.7777777777777778, \"#fb9f3a\"], [0.8888888888888888, \"#fdca26\"], [1.0, \"#f0f921\"]], \"type\": \"contour\"}], \"contourcarpet\": [{\"colorbar\": {\"outlinewidth\": 0, \"ticks\": \"\"}, \"type\": \"contourcarpet\"}], \"heatmap\": [{\"colorbar\": {\"outlinewidth\": 0, \"ticks\": \"\"}, \"colorscale\": [[0.0, \"#0d0887\"], [0.1111111111111111, \"#46039f\"], [0.2222222222222222, \"#7201a8\"], [0.3333333333333333, \"#9c179e\"], [0.4444444444444444, \"#bd3786\"], [0.5555555555555556, \"#d8576b\"], [0.6666666666666666, \"#ed7953\"], [0.7777777777777778, \"#fb9f3a\"], [0.8888888888888888, \"#fdca26\"], [1.0, \"#f0f921\"]], \"type\": \"heatmap\"}], \"heatmapgl\": [{\"colorbar\": {\"outlinewidth\": 0, \"ticks\": \"\"}, \"colorscale\": [[0.0, \"#0d0887\"], [0.1111111111111111, \"#46039f\"], [0.2222222222222222, \"#7201a8\"], [0.3333333333333333, \"#9c179e\"], [0.4444444444444444, \"#bd3786\"], [0.5555555555555556, \"#d8576b\"], [0.6666666666666666, \"#ed7953\"], [0.7777777777777778, \"#fb9f3a\"], [0.8888888888888888, \"#fdca26\"], [1.0, \"#f0f921\"]], \"type\": \"heatmapgl\"}], \"histogram\": [{\"marker\": {\"colorbar\": {\"outlinewidth\": 0, \"ticks\": \"\"}}, \"type\": \"histogram\"}], \"histogram2d\": [{\"colorbar\": {\"outlinewidth\": 0, \"ticks\": \"\"}, \"colorscale\": [[0.0, \"#0d0887\"], [0.1111111111111111, \"#46039f\"], [0.2222222222222222, \"#7201a8\"], [0.3333333333333333, \"#9c179e\"], [0.4444444444444444, \"#bd3786\"], [0.5555555555555556, \"#d8576b\"], [0.6666666666666666, \"#ed7953\"], [0.7777777777777778, \"#fb9f3a\"], [0.8888888888888888, \"#fdca26\"], [1.0, \"#f0f921\"]], \"type\": \"histogram2d\"}], \"histogram2dcontour\": [{\"colorbar\": {\"outlinewidth\": 0, \"ticks\": \"\"}, \"colorscale\": [[0.0, \"#0d0887\"], [0.1111111111111111, \"#46039f\"], [0.2222222222222222, \"#7201a8\"], [0.3333333333333333, \"#9c179e\"], [0.4444444444444444, \"#bd3786\"], [0.5555555555555556, \"#d8576b\"], [0.6666666666666666, \"#ed7953\"], [0.7777777777777778, \"#fb9f3a\"], [0.8888888888888888, \"#fdca26\"], [1.0, \"#f0f921\"]], \"type\": \"histogram2dcontour\"}], \"mesh3d\": [{\"colorbar\": {\"outlinewidth\": 0, \"ticks\": \"\"}, \"type\": \"mesh3d\"}], \"parcoords\": [{\"line\": {\"colorbar\": {\"outlinewidth\": 0, \"ticks\": \"\"}}, \"type\": \"parcoords\"}], \"pie\": [{\"automargin\": true, \"type\": \"pie\"}], \"scatter\": [{\"marker\": {\"colorbar\": {\"outlinewidth\": 0, \"ticks\": \"\"}}, \"type\": \"scatter\"}], \"scatter3d\": [{\"line\": {\"colorbar\": {\"outlinewidth\": 0, \"ticks\": \"\"}}, \"marker\": {\"colorbar\": {\"outlinewidth\": 0, \"ticks\": \"\"}}, \"type\": \"scatter3d\"}], \"scattercarpet\": [{\"marker\": {\"colorbar\": {\"outlinewidth\": 0, \"ticks\": \"\"}}, \"type\": \"scattercarpet\"}], \"scattergeo\": [{\"marker\": {\"colorbar\": {\"outlinewidth\": 0, \"ticks\": \"\"}}, \"type\": \"scattergeo\"}], \"scattergl\": [{\"marker\": {\"colorbar\": {\"outlinewidth\": 0, \"ticks\": \"\"}}, \"type\": \"scattergl\"}], \"scattermapbox\": [{\"marker\": {\"colorbar\": {\"outlinewidth\": 0, \"ticks\": \"\"}}, \"type\": \"scattermapbox\"}], \"scatterpolar\": [{\"marker\": {\"colorbar\": {\"outlinewidth\": 0, \"ticks\": \"\"}}, \"type\": \"scatterpolar\"}], \"scatterpolargl\": [{\"marker\": {\"colorbar\": {\"outlinewidth\": 0, \"ticks\": \"\"}}, \"type\": \"scatterpolargl\"}], \"scatterternary\": [{\"marker\": {\"colorbar\": {\"outlinewidth\": 0, \"ticks\": \"\"}}, \"type\": \"scatterternary\"}], \"surface\": [{\"colorbar\": {\"outlinewidth\": 0, \"ticks\": \"\"}, \"colorscale\": [[0.0, \"#0d0887\"], [0.1111111111111111, \"#46039f\"], [0.2222222222222222, \"#7201a8\"], [0.3333333333333333, \"#9c179e\"], [0.4444444444444444, \"#bd3786\"], [0.5555555555555556, \"#d8576b\"], [0.6666666666666666, \"#ed7953\"], [0.7777777777777778, \"#fb9f3a\"], [0.8888888888888888, \"#fdca26\"], [1.0, \"#f0f921\"]], \"type\": \"surface\"}], \"table\": [{\"cells\": {\"fill\": {\"color\": \"#EBF0F8\"}, \"line\": {\"color\": \"white\"}}, \"header\": {\"fill\": {\"color\": \"#C8D4E3\"}, \"line\": {\"color\": \"white\"}}, \"type\": \"table\"}]}, \"layout\": {\"annotationdefaults\": {\"arrowcolor\": \"#2a3f5f\", \"arrowhead\": 0, \"arrowwidth\": 1}, \"coloraxis\": {\"colorbar\": {\"outlinewidth\": 0, \"ticks\": \"\"}}, \"colorscale\": {\"diverging\": [[0, \"#8e0152\"], [0.1, \"#c51b7d\"], [0.2, \"#de77ae\"], [0.3, \"#f1b6da\"], [0.4, \"#fde0ef\"], [0.5, \"#f7f7f7\"], [0.6, \"#e6f5d0\"], [0.7, \"#b8e186\"], [0.8, \"#7fbc41\"], [0.9, \"#4d9221\"], [1, \"#276419\"]], \"sequential\": [[0.0, \"#0d0887\"], [0.1111111111111111, \"#46039f\"], [0.2222222222222222, \"#7201a8\"], [0.3333333333333333, \"#9c179e\"], [0.4444444444444444, \"#bd3786\"], [0.5555555555555556, \"#d8576b\"], [0.6666666666666666, \"#ed7953\"], [0.7777777777777778, \"#fb9f3a\"], [0.8888888888888888, \"#fdca26\"], [1.0, \"#f0f921\"]], \"sequentialminus\": [[0.0, \"#0d0887\"], [0.1111111111111111, \"#46039f\"], [0.2222222222222222, \"#7201a8\"], [0.3333333333333333, \"#9c179e\"], [0.4444444444444444, \"#bd3786\"], [0.5555555555555556, \"#d8576b\"], [0.6666666666666666, \"#ed7953\"], [0.7777777777777778, \"#fb9f3a\"], [0.8888888888888888, \"#fdca26\"], [1.0, \"#f0f921\"]]}, \"colorway\": [\"#636efa\", \"#EF553B\", \"#00cc96\", \"#ab63fa\", \"#FFA15A\", \"#19d3f3\", \"#FF6692\", \"#B6E880\", \"#FF97FF\", \"#FECB52\"], \"font\": {\"color\": \"#2a3f5f\"}, \"geo\": {\"bgcolor\": \"white\", \"lakecolor\": \"white\", \"landcolor\": \"#E5ECF6\", \"showlakes\": true, \"showland\": true, \"subunitcolor\": \"white\"}, \"hoverlabel\": {\"align\": \"left\"}, \"hovermode\": \"closest\", \"mapbox\": {\"style\": \"light\"}, \"paper_bgcolor\": \"white\", \"plot_bgcolor\": \"#E5ECF6\", \"polar\": {\"angularaxis\": {\"gridcolor\": \"white\", \"linecolor\": \"white\", \"ticks\": \"\"}, \"bgcolor\": \"#E5ECF6\", \"radialaxis\": {\"gridcolor\": \"white\", \"linecolor\": \"white\", \"ticks\": \"\"}}, \"scene\": {\"xaxis\": {\"backgroundcolor\": \"#E5ECF6\", \"gridcolor\": \"white\", \"gridwidth\": 2, \"linecolor\": \"white\", \"showbackground\": true, \"ticks\": \"\", \"zerolinecolor\": \"white\"}, \"yaxis\": {\"backgroundcolor\": \"#E5ECF6\", \"gridcolor\": \"white\", \"gridwidth\": 2, \"linecolor\": \"white\", \"showbackground\": true, \"ticks\": \"\", \"zerolinecolor\": \"white\"}, \"zaxis\": {\"backgroundcolor\": \"#E5ECF6\", \"gridcolor\": \"white\", \"gridwidth\": 2, \"linecolor\": \"white\", \"showbackground\": true, \"ticks\": \"\", \"zerolinecolor\": \"white\"}}, \"shapedefaults\": {\"line\": {\"color\": \"#2a3f5f\"}}, \"ternary\": {\"aaxis\": {\"gridcolor\": \"white\", \"linecolor\": \"white\", \"ticks\": \"\"}, \"baxis\": {\"gridcolor\": \"white\", \"linecolor\": \"white\", \"ticks\": \"\"}, \"bgcolor\": \"#E5ECF6\", \"caxis\": {\"gridcolor\": \"white\", \"linecolor\": \"white\", \"ticks\": \"\"}}, \"title\": {\"x\": 0.05}, \"xaxis\": {\"automargin\": true, \"gridcolor\": \"white\", \"linecolor\": \"white\", \"ticks\": \"\", \"title\": {\"standoff\": 15}, \"zerolinecolor\": \"white\", \"zerolinewidth\": 2}, \"yaxis\": {\"automargin\": true, \"gridcolor\": \"white\", \"linecolor\": \"white\", \"ticks\": \"\", \"title\": {\"standoff\": 15}, \"zerolinecolor\": \"white\", \"zerolinewidth\": 2}}}, \"title\": {\"text\": \"proportion of restaurant on the basic of price level\"}},                        {\"responsive\": true}                    ).then(function(){\n",
       "                            \n",
       "var gd = document.getElementById('1c1dcf36-5324-4b6f-99ae-5fbd76c01499');\n",
       "var x = new MutationObserver(function (mutations, observer) {{\n",
       "        var display = window.getComputedStyle(gd).display;\n",
       "        if (!display || display === 'none') {{\n",
       "            console.log([gd, 'removed!']);\n",
       "            Plotly.purge(gd);\n",
       "            observer.disconnect();\n",
       "        }}\n",
       "}});\n",
       "\n",
       "// Listen for the removal of the full notebook cells\n",
       "var notebookContainer = gd.closest('#notebook-container');\n",
       "if (notebookContainer) {{\n",
       "    x.observe(notebookContainer, {childList: true});\n",
       "}}\n",
       "\n",
       "// Listen for the clearing of the current output cell\n",
       "var outputEl = gd.closest('.output');\n",
       "if (outputEl) {{\n",
       "    x.observe(outputEl, {childList: true});\n",
       "}}\n",
       "\n",
       "                        })                };                });            </script>        </div>"
      ]
     },
     "metadata": {},
     "output_type": "display_data"
    }
   ],
   "source": [
    "a = df.groupby(\"price\").count().name*100/df.price.count()\n",
    "fig = px.pie(a, names = a.index, values=a.values)\n",
    "fig.update_layout(title='proportion of restaurant on the basic of price level')\n",
    "fig.show()"
   ]
  },
  {
   "cell_type": "markdown",
   "metadata": {},
   "source": [
    "The majority of price level is 1 and 2, which take nearly 80% while high price level and luxury restaurant only take 20% in total number of restaurant.\n",
    "#### Percentage of price level of each city"
   ]
  },
  {
   "cell_type": "code",
   "execution_count": 53,
   "metadata": {
    "ExecuteTime": {
     "end_time": "2021-01-04T12:07:43.781929Z",
     "start_time": "2021-01-04T12:07:43.773820Z"
    }
   },
   "outputs": [],
   "source": [
    "a = df.groupby([\"city\",\"price\"]).name.count().to_frame().reset_index()\n",
    "b = df.groupby(\"city\").name.count()\n",
    "c = (a.set_index(\"city\").name*100/b).to_frame(name=\"percentage\")\n",
    "d = a.set_index('city').price.to_frame()\n",
    "e = pd.concat([c,d], axis=1)\n",
    "e.price = e.price.apply(lambda x: str(x))\n",
    "#f = pd.pivot_table(e, values=\"percentage\", index=e.index, columns=\"price\").fillna(0)"
   ]
  },
  {
   "cell_type": "code",
   "execution_count": 54,
   "metadata": {
    "ExecuteTime": {
     "end_time": "2021-01-04T12:07:43.837835Z",
     "start_time": "2021-01-04T12:07:43.783001Z"
    }
   },
   "outputs": [
    {
     "data": {
      "application/vnd.plotly.v1+json": {
       "config": {
        "plotlyServerURL": "https://plot.ly"
       },
       "data": [
        {
         "hovertemplate": "<b>%{hovertext}</b><br><br>price=2<br>percentage=%{marker.size}<br>city=%{y}<extra></extra>",
         "hovertext": [
          "2",
          "2",
          "2",
          "2",
          "2",
          "2",
          "2",
          "2",
          "2",
          "2",
          "2",
          "2",
          "2",
          "2",
          "2",
          "2",
          "2",
          "2",
          "2",
          "2",
          "2",
          "2",
          "2",
          "2",
          "2",
          "2",
          "2",
          "2",
          "2",
          "2",
          "2",
          "2",
          "2",
          "2",
          "2",
          "2",
          "2",
          "2",
          "2",
          "2",
          "2",
          "2",
          "2",
          "2",
          "2",
          "2",
          "2",
          "2",
          "2",
          "2",
          "2",
          "2",
          "2",
          "2",
          "2"
         ],
         "legendgroup": "2",
         "marker": {
          "color": "#636efa",
          "size": [
           100,
           44.73684210526316,
           100,
           25,
           100,
           49.26253687315634,
           44.44444444444444,
           100,
           27.272727272727273,
           22.22222222222222,
           100,
           33.333333333333336,
           100,
           50,
           100,
           100,
           100,
           100,
           50,
           100,
           50,
           100,
           12.5,
           57.142857142857146,
           100,
           25,
           33.333333333333336,
           50,
           71.42857142857143,
           50,
           66.66666666666667,
           47.82608695652174,
           100,
           100,
           100,
           40,
           36.36363636363637,
           50,
           100,
           60,
           50,
           50,
           100,
           66.66666666666667,
           66.66666666666667,
           100,
           41.48936170212766,
           41.02564102564103,
           25,
           33.333333333333336,
           40,
           46.34146341463415,
           100,
           50,
           100
          ],
          "sizemode": "area",
          "sizeref": 0.027777777777777776,
          "symbol": "circle"
         },
         "mode": "markers",
         "name": "2",
         "orientation": "h",
         "showlegend": true,
         "type": "scatter",
         "x": [
          100,
          44.73684210526316,
          100,
          25,
          100,
          49.26253687315634,
          44.44444444444444,
          100,
          27.272727272727273,
          22.22222222222222,
          100,
          33.333333333333336,
          100,
          50,
          100,
          100,
          100,
          100,
          50,
          100,
          50,
          100,
          12.5,
          57.142857142857146,
          100,
          25,
          33.333333333333336,
          50,
          71.42857142857143,
          50,
          66.66666666666667,
          47.82608695652174,
          100,
          100,
          100,
          40,
          36.36363636363637,
          50,
          100,
          60,
          50,
          50,
          100,
          66.66666666666667,
          66.66666666666667,
          100,
          41.48936170212766,
          41.02564102564103,
          25,
          33.333333333333336,
          40,
          46.34146341463415,
          100,
          50,
          100
         ],
         "xaxis": "x",
         "y": [
          "Ekenäs",
          "Espoo",
          "Fiskari",
          "Hanko",
          "Heinävesi",
          "Helsinki",
          "Hämeenlinna",
          "Imatra",
          "Joensuu",
          "Jyväskylä",
          "Jämsänkoski",
          "Järvenpää",
          "Kankaanpaa",
          "Kauhava",
          "Kauniainen",
          "Kerma",
          "Kokkola",
          "Korppoo",
          "Kotka",
          "Kouvola",
          "Kuopio",
          "Kuru",
          "Lahti",
          "Lappeenranta",
          "Larsmo",
          "Lohja",
          "Loviisa",
          "Maarianhamina",
          "Mikkeli",
          "Nauvo",
          "Nummela",
          "Oulu",
          "Outokumpu",
          "Parainen",
          "Pietarsaari",
          "Pori",
          "Porvoo",
          "Raahe",
          "Raasepori",
          "Rauma",
          "Riihimäki",
          "Rovaniemi",
          "Rukatunturi",
          "Salo",
          "Savonlinna",
          "Tahkovuori",
          "Tampere",
          "Turku",
          "Tuusula",
          "Uusikaupunki",
          "Vaasa",
          "Vantaa",
          "Vihti",
          "Vääksy",
          "Ylöjärvi"
         ],
         "yaxis": "y"
        },
        {
         "hovertemplate": "<b>%{hovertext}</b><br><br>price=1<br>percentage=%{marker.size}<br>city=%{y}<extra></extra>",
         "hovertext": [
          "1",
          "1",
          "1",
          "1",
          "1",
          "1",
          "1",
          "1",
          "1",
          "1",
          "1",
          "1",
          "1",
          "1",
          "1",
          "1",
          "1",
          "1",
          "1",
          "1",
          "1",
          "1",
          "1",
          "1",
          "1",
          "1",
          "1",
          "1",
          "1",
          "1",
          "1",
          "1",
          "1",
          "1",
          "1",
          "1",
          "1",
          "1",
          "1",
          "1",
          "1",
          "1",
          "1",
          "1",
          "1",
          "1",
          "1",
          "1",
          "1",
          "1",
          "1",
          "1",
          "1",
          "1",
          "1",
          "1"
         ],
         "legendgroup": "1",
         "marker": {
          "color": "#EF553B",
          "size": [
           50,
           25,
           28.466076696165192,
           100,
           100,
           44.44444444444444,
           45.45454545454545,
           100,
           38.888888888888886,
           100,
           55.55555555555556,
           100,
           100,
           50,
           100,
           50,
           100,
           50,
           33.333333333333336,
           50,
           100,
           14.285714285714286,
           100,
           50,
           100,
           75,
           66.66666666666667,
           25,
           100,
           33.333333333333336,
           39.130434782608695,
           100,
           100,
           100,
           30,
           18.181818181818183,
           50,
           100,
           40,
           50,
           8.333333333333334,
           100,
           33.333333333333336,
           100,
           33.333333333333336,
           100,
           41.48936170212766,
           100,
           33.333333333333336,
           25,
           33.333333333333336,
           40,
           29.26829268292683,
           100,
           100,
           50
          ],
          "sizemode": "area",
          "sizeref": 0.027777777777777776,
          "symbol": "circle"
         },
         "mode": "markers",
         "name": "1",
         "orientation": "h",
         "showlegend": true,
         "type": "scatter",
         "x": [
          50,
          25,
          28.466076696165192,
          100,
          100,
          44.44444444444444,
          45.45454545454545,
          100,
          38.888888888888886,
          100,
          55.55555555555556,
          100,
          100,
          50,
          100,
          50,
          100,
          50,
          33.333333333333336,
          50,
          100,
          14.285714285714286,
          100,
          50,
          100,
          75,
          66.66666666666667,
          25,
          100,
          33.333333333333336,
          39.130434782608695,
          100,
          100,
          100,
          30,
          18.181818181818183,
          50,
          100,
          40,
          50,
          8.333333333333334,
          100,
          33.333333333333336,
          100,
          33.333333333333336,
          100,
          41.48936170212766,
          100,
          33.333333333333336,
          25,
          33.333333333333336,
          40,
          29.26829268292683,
          100,
          100,
          50
         ],
         "xaxis": "x",
         "y": [
          "Espoo",
          "Hanko",
          "Helsinki",
          "Hyvinkää",
          "Hämeenkyrö",
          "Hämeenlinna",
          "Joensuu",
          "Juankoski",
          "Jyväskylä",
          "Jämsä",
          "Järvenpää",
          "Kalkkiranta",
          "Kangasala",
          "Kauhava",
          "Kerava",
          "Kirkkonummi",
          "Klaukkala",
          "Kotka",
          "Kuopio",
          "Lahti",
          "Laitila",
          "Lappeenranta",
          "Lappfjärd",
          "Lempäälä",
          "Lieto",
          "Lohja",
          "Loviisa",
          "Maarianhamina",
          "Nokia",
          "Nummela",
          "Oulu",
          "Parkano",
          "Pentinmäki",
          "Pohjaslahti",
          "Pori",
          "Porvoo",
          "Raahe",
          "Raisio",
          "Rauma",
          "Riihimäki",
          "Rovaniemi",
          "Röykkä",
          "Salo",
          "Sastamala",
          "Savonlinna",
          "Tammela",
          "Tampere",
          "Tuorila",
          "Turku",
          "Tuusula",
          "Uusikaupunki",
          "Vaasa",
          "Vantaa",
          "Varkaus",
          "Vierumaki",
          "Vääksy"
         ],
         "yaxis": "y"
        },
        {
         "hovertemplate": "<b>%{hovertext}</b><br><br>price=3<br>percentage=%{marker.size}<br>city=%{y}<extra></extra>",
         "hovertext": [
          "3",
          "3",
          "3",
          "3",
          "3",
          "3",
          "3",
          "3",
          "3",
          "3",
          "3",
          "3",
          "3",
          "3",
          "3",
          "3",
          "3",
          "3",
          "3",
          "3",
          "3",
          "3",
          "3",
          "3",
          "3",
          "3",
          "3",
          "3",
          "3"
         ],
         "legendgroup": "3",
         "marker": {
          "color": "#00cc96",
          "size": [
           5.2631578947368425,
           25,
           17.551622418879056,
           11.11111111111111,
           100,
           27.272727272727273,
           27.77777777777778,
           11.11111111111111,
           50,
           16.666666666666668,
           37.5,
           28.571428571428573,
           50,
           25,
           28.571428571428573,
           100,
           50,
           10.869565217391305,
           30,
           36.36363636363637,
           33.333333333333336,
           100,
           100,
           13.829787234042554,
           25.641025641025642,
           25,
           33.333333333333336,
           20,
           19.51219512195122
          ],
          "sizemode": "area",
          "sizeref": 0.027777777777777776,
          "symbol": "circle"
         },
         "mode": "markers",
         "name": "3",
         "orientation": "h",
         "showlegend": true,
         "type": "scatter",
         "x": [
          5.2631578947368425,
          25,
          17.551622418879056,
          11.11111111111111,
          100,
          27.272727272727273,
          27.77777777777778,
          11.11111111111111,
          50,
          16.666666666666668,
          37.5,
          28.571428571428573,
          50,
          25,
          28.571428571428573,
          100,
          50,
          10.869565217391305,
          30,
          36.36363636363637,
          33.333333333333336,
          100,
          100,
          13.829787234042554,
          25.641025641025642,
          25,
          33.333333333333336,
          20,
          19.51219512195122
         ],
         "xaxis": "x",
         "y": [
          "Espoo",
          "Hanko",
          "Helsinki",
          "Hämeenlinna",
          "Iisalmi",
          "Joensuu",
          "Jyväskylä",
          "Järvenpää",
          "Kirkkonummi",
          "Kuopio",
          "Lahti",
          "Lappeenranta",
          "Lempäälä",
          "Maarianhamina",
          "Mikkeli",
          "Naantali",
          "Nauvo",
          "Oulu",
          "Pori",
          "Porvoo",
          "Rovaniemi",
          "Seinäjoki",
          "Tammisaari",
          "Tampere",
          "Turku",
          "Tuusula",
          "Uusikaupunki",
          "Vaasa",
          "Vantaa"
         ],
         "yaxis": "y"
        },
        {
         "hovertemplate": "<b>%{hovertext}</b><br><br>price=4<br>percentage=%{marker.size}<br>city=%{y}<extra></extra>",
         "hovertext": [
          "4",
          "4",
          "4",
          "4",
          "4",
          "4",
          "4",
          "4",
          "4",
          "4",
          "4"
         ],
         "legendgroup": "4",
         "marker": {
          "color": "#ab63fa",
          "size": [
           25,
           4.71976401179941,
           11.11111111111111,
           100,
           100,
           2.1739130434782608,
           9.090909090909092,
           8.333333333333334,
           3.1914893617021276,
           25,
           4.878048780487805
          ],
          "sizemode": "area",
          "sizeref": 0.027777777777777776,
          "symbol": "circle"
         },
         "mode": "markers",
         "name": "4",
         "orientation": "h",
         "showlegend": true,
         "type": "scatter",
         "x": [
          25,
          4.71976401179941,
          11.11111111111111,
          100,
          100,
          2.1739130434782608,
          9.090909090909092,
          8.333333333333334,
          3.1914893617021276,
          25,
          4.878048780487805
         ],
         "xaxis": "x",
         "y": [
          "Hanko",
          "Helsinki",
          "Jyväskylä",
          "Kajaani",
          "Karjaa",
          "Oulu",
          "Porvoo",
          "Rovaniemi",
          "Tampere",
          "Tuusula",
          "Vantaa"
         ],
         "yaxis": "y"
        }
       ],
       "layout": {
        "legend": {
         "itemsizing": "constant",
         "title": {
          "text": "price"
         },
         "tracegroupgap": 0
        },
        "template": {
         "data": {
          "bar": [
           {
            "error_x": {
             "color": "#2a3f5f"
            },
            "error_y": {
             "color": "#2a3f5f"
            },
            "marker": {
             "line": {
              "color": "#E5ECF6",
              "width": 0.5
             }
            },
            "type": "bar"
           }
          ],
          "barpolar": [
           {
            "marker": {
             "line": {
              "color": "#E5ECF6",
              "width": 0.5
             }
            },
            "type": "barpolar"
           }
          ],
          "carpet": [
           {
            "aaxis": {
             "endlinecolor": "#2a3f5f",
             "gridcolor": "white",
             "linecolor": "white",
             "minorgridcolor": "white",
             "startlinecolor": "#2a3f5f"
            },
            "baxis": {
             "endlinecolor": "#2a3f5f",
             "gridcolor": "white",
             "linecolor": "white",
             "minorgridcolor": "white",
             "startlinecolor": "#2a3f5f"
            },
            "type": "carpet"
           }
          ],
          "choropleth": [
           {
            "colorbar": {
             "outlinewidth": 0,
             "ticks": ""
            },
            "type": "choropleth"
           }
          ],
          "contour": [
           {
            "colorbar": {
             "outlinewidth": 0,
             "ticks": ""
            },
            "colorscale": [
             [
              0,
              "#0d0887"
             ],
             [
              0.1111111111111111,
              "#46039f"
             ],
             [
              0.2222222222222222,
              "#7201a8"
             ],
             [
              0.3333333333333333,
              "#9c179e"
             ],
             [
              0.4444444444444444,
              "#bd3786"
             ],
             [
              0.5555555555555556,
              "#d8576b"
             ],
             [
              0.6666666666666666,
              "#ed7953"
             ],
             [
              0.7777777777777778,
              "#fb9f3a"
             ],
             [
              0.8888888888888888,
              "#fdca26"
             ],
             [
              1,
              "#f0f921"
             ]
            ],
            "type": "contour"
           }
          ],
          "contourcarpet": [
           {
            "colorbar": {
             "outlinewidth": 0,
             "ticks": ""
            },
            "type": "contourcarpet"
           }
          ],
          "heatmap": [
           {
            "colorbar": {
             "outlinewidth": 0,
             "ticks": ""
            },
            "colorscale": [
             [
              0,
              "#0d0887"
             ],
             [
              0.1111111111111111,
              "#46039f"
             ],
             [
              0.2222222222222222,
              "#7201a8"
             ],
             [
              0.3333333333333333,
              "#9c179e"
             ],
             [
              0.4444444444444444,
              "#bd3786"
             ],
             [
              0.5555555555555556,
              "#d8576b"
             ],
             [
              0.6666666666666666,
              "#ed7953"
             ],
             [
              0.7777777777777778,
              "#fb9f3a"
             ],
             [
              0.8888888888888888,
              "#fdca26"
             ],
             [
              1,
              "#f0f921"
             ]
            ],
            "type": "heatmap"
           }
          ],
          "heatmapgl": [
           {
            "colorbar": {
             "outlinewidth": 0,
             "ticks": ""
            },
            "colorscale": [
             [
              0,
              "#0d0887"
             ],
             [
              0.1111111111111111,
              "#46039f"
             ],
             [
              0.2222222222222222,
              "#7201a8"
             ],
             [
              0.3333333333333333,
              "#9c179e"
             ],
             [
              0.4444444444444444,
              "#bd3786"
             ],
             [
              0.5555555555555556,
              "#d8576b"
             ],
             [
              0.6666666666666666,
              "#ed7953"
             ],
             [
              0.7777777777777778,
              "#fb9f3a"
             ],
             [
              0.8888888888888888,
              "#fdca26"
             ],
             [
              1,
              "#f0f921"
             ]
            ],
            "type": "heatmapgl"
           }
          ],
          "histogram": [
           {
            "marker": {
             "colorbar": {
              "outlinewidth": 0,
              "ticks": ""
             }
            },
            "type": "histogram"
           }
          ],
          "histogram2d": [
           {
            "colorbar": {
             "outlinewidth": 0,
             "ticks": ""
            },
            "colorscale": [
             [
              0,
              "#0d0887"
             ],
             [
              0.1111111111111111,
              "#46039f"
             ],
             [
              0.2222222222222222,
              "#7201a8"
             ],
             [
              0.3333333333333333,
              "#9c179e"
             ],
             [
              0.4444444444444444,
              "#bd3786"
             ],
             [
              0.5555555555555556,
              "#d8576b"
             ],
             [
              0.6666666666666666,
              "#ed7953"
             ],
             [
              0.7777777777777778,
              "#fb9f3a"
             ],
             [
              0.8888888888888888,
              "#fdca26"
             ],
             [
              1,
              "#f0f921"
             ]
            ],
            "type": "histogram2d"
           }
          ],
          "histogram2dcontour": [
           {
            "colorbar": {
             "outlinewidth": 0,
             "ticks": ""
            },
            "colorscale": [
             [
              0,
              "#0d0887"
             ],
             [
              0.1111111111111111,
              "#46039f"
             ],
             [
              0.2222222222222222,
              "#7201a8"
             ],
             [
              0.3333333333333333,
              "#9c179e"
             ],
             [
              0.4444444444444444,
              "#bd3786"
             ],
             [
              0.5555555555555556,
              "#d8576b"
             ],
             [
              0.6666666666666666,
              "#ed7953"
             ],
             [
              0.7777777777777778,
              "#fb9f3a"
             ],
             [
              0.8888888888888888,
              "#fdca26"
             ],
             [
              1,
              "#f0f921"
             ]
            ],
            "type": "histogram2dcontour"
           }
          ],
          "mesh3d": [
           {
            "colorbar": {
             "outlinewidth": 0,
             "ticks": ""
            },
            "type": "mesh3d"
           }
          ],
          "parcoords": [
           {
            "line": {
             "colorbar": {
              "outlinewidth": 0,
              "ticks": ""
             }
            },
            "type": "parcoords"
           }
          ],
          "pie": [
           {
            "automargin": true,
            "type": "pie"
           }
          ],
          "scatter": [
           {
            "marker": {
             "colorbar": {
              "outlinewidth": 0,
              "ticks": ""
             }
            },
            "type": "scatter"
           }
          ],
          "scatter3d": [
           {
            "line": {
             "colorbar": {
              "outlinewidth": 0,
              "ticks": ""
             }
            },
            "marker": {
             "colorbar": {
              "outlinewidth": 0,
              "ticks": ""
             }
            },
            "type": "scatter3d"
           }
          ],
          "scattercarpet": [
           {
            "marker": {
             "colorbar": {
              "outlinewidth": 0,
              "ticks": ""
             }
            },
            "type": "scattercarpet"
           }
          ],
          "scattergeo": [
           {
            "marker": {
             "colorbar": {
              "outlinewidth": 0,
              "ticks": ""
             }
            },
            "type": "scattergeo"
           }
          ],
          "scattergl": [
           {
            "marker": {
             "colorbar": {
              "outlinewidth": 0,
              "ticks": ""
             }
            },
            "type": "scattergl"
           }
          ],
          "scattermapbox": [
           {
            "marker": {
             "colorbar": {
              "outlinewidth": 0,
              "ticks": ""
             }
            },
            "type": "scattermapbox"
           }
          ],
          "scatterpolar": [
           {
            "marker": {
             "colorbar": {
              "outlinewidth": 0,
              "ticks": ""
             }
            },
            "type": "scatterpolar"
           }
          ],
          "scatterpolargl": [
           {
            "marker": {
             "colorbar": {
              "outlinewidth": 0,
              "ticks": ""
             }
            },
            "type": "scatterpolargl"
           }
          ],
          "scatterternary": [
           {
            "marker": {
             "colorbar": {
              "outlinewidth": 0,
              "ticks": ""
             }
            },
            "type": "scatterternary"
           }
          ],
          "surface": [
           {
            "colorbar": {
             "outlinewidth": 0,
             "ticks": ""
            },
            "colorscale": [
             [
              0,
              "#0d0887"
             ],
             [
              0.1111111111111111,
              "#46039f"
             ],
             [
              0.2222222222222222,
              "#7201a8"
             ],
             [
              0.3333333333333333,
              "#9c179e"
             ],
             [
              0.4444444444444444,
              "#bd3786"
             ],
             [
              0.5555555555555556,
              "#d8576b"
             ],
             [
              0.6666666666666666,
              "#ed7953"
             ],
             [
              0.7777777777777778,
              "#fb9f3a"
             ],
             [
              0.8888888888888888,
              "#fdca26"
             ],
             [
              1,
              "#f0f921"
             ]
            ],
            "type": "surface"
           }
          ],
          "table": [
           {
            "cells": {
             "fill": {
              "color": "#EBF0F8"
             },
             "line": {
              "color": "white"
             }
            },
            "header": {
             "fill": {
              "color": "#C8D4E3"
             },
             "line": {
              "color": "white"
             }
            },
            "type": "table"
           }
          ]
         },
         "layout": {
          "annotationdefaults": {
           "arrowcolor": "#2a3f5f",
           "arrowhead": 0,
           "arrowwidth": 1
          },
          "coloraxis": {
           "colorbar": {
            "outlinewidth": 0,
            "ticks": ""
           }
          },
          "colorscale": {
           "diverging": [
            [
             0,
             "#8e0152"
            ],
            [
             0.1,
             "#c51b7d"
            ],
            [
             0.2,
             "#de77ae"
            ],
            [
             0.3,
             "#f1b6da"
            ],
            [
             0.4,
             "#fde0ef"
            ],
            [
             0.5,
             "#f7f7f7"
            ],
            [
             0.6,
             "#e6f5d0"
            ],
            [
             0.7,
             "#b8e186"
            ],
            [
             0.8,
             "#7fbc41"
            ],
            [
             0.9,
             "#4d9221"
            ],
            [
             1,
             "#276419"
            ]
           ],
           "sequential": [
            [
             0,
             "#0d0887"
            ],
            [
             0.1111111111111111,
             "#46039f"
            ],
            [
             0.2222222222222222,
             "#7201a8"
            ],
            [
             0.3333333333333333,
             "#9c179e"
            ],
            [
             0.4444444444444444,
             "#bd3786"
            ],
            [
             0.5555555555555556,
             "#d8576b"
            ],
            [
             0.6666666666666666,
             "#ed7953"
            ],
            [
             0.7777777777777778,
             "#fb9f3a"
            ],
            [
             0.8888888888888888,
             "#fdca26"
            ],
            [
             1,
             "#f0f921"
            ]
           ],
           "sequentialminus": [
            [
             0,
             "#0d0887"
            ],
            [
             0.1111111111111111,
             "#46039f"
            ],
            [
             0.2222222222222222,
             "#7201a8"
            ],
            [
             0.3333333333333333,
             "#9c179e"
            ],
            [
             0.4444444444444444,
             "#bd3786"
            ],
            [
             0.5555555555555556,
             "#d8576b"
            ],
            [
             0.6666666666666666,
             "#ed7953"
            ],
            [
             0.7777777777777778,
             "#fb9f3a"
            ],
            [
             0.8888888888888888,
             "#fdca26"
            ],
            [
             1,
             "#f0f921"
            ]
           ]
          },
          "colorway": [
           "#636efa",
           "#EF553B",
           "#00cc96",
           "#ab63fa",
           "#FFA15A",
           "#19d3f3",
           "#FF6692",
           "#B6E880",
           "#FF97FF",
           "#FECB52"
          ],
          "font": {
           "color": "#2a3f5f"
          },
          "geo": {
           "bgcolor": "white",
           "lakecolor": "white",
           "landcolor": "#E5ECF6",
           "showlakes": true,
           "showland": true,
           "subunitcolor": "white"
          },
          "hoverlabel": {
           "align": "left"
          },
          "hovermode": "closest",
          "mapbox": {
           "style": "light"
          },
          "paper_bgcolor": "white",
          "plot_bgcolor": "#E5ECF6",
          "polar": {
           "angularaxis": {
            "gridcolor": "white",
            "linecolor": "white",
            "ticks": ""
           },
           "bgcolor": "#E5ECF6",
           "radialaxis": {
            "gridcolor": "white",
            "linecolor": "white",
            "ticks": ""
           }
          },
          "scene": {
           "xaxis": {
            "backgroundcolor": "#E5ECF6",
            "gridcolor": "white",
            "gridwidth": 2,
            "linecolor": "white",
            "showbackground": true,
            "ticks": "",
            "zerolinecolor": "white"
           },
           "yaxis": {
            "backgroundcolor": "#E5ECF6",
            "gridcolor": "white",
            "gridwidth": 2,
            "linecolor": "white",
            "showbackground": true,
            "ticks": "",
            "zerolinecolor": "white"
           },
           "zaxis": {
            "backgroundcolor": "#E5ECF6",
            "gridcolor": "white",
            "gridwidth": 2,
            "linecolor": "white",
            "showbackground": true,
            "ticks": "",
            "zerolinecolor": "white"
           }
          },
          "shapedefaults": {
           "line": {
            "color": "#2a3f5f"
           }
          },
          "ternary": {
           "aaxis": {
            "gridcolor": "white",
            "linecolor": "white",
            "ticks": ""
           },
           "baxis": {
            "gridcolor": "white",
            "linecolor": "white",
            "ticks": ""
           },
           "bgcolor": "#E5ECF6",
           "caxis": {
            "gridcolor": "white",
            "linecolor": "white",
            "ticks": ""
           }
          },
          "title": {
           "x": 0.05
          },
          "xaxis": {
           "automargin": true,
           "gridcolor": "white",
           "linecolor": "white",
           "ticks": "",
           "title": {
            "standoff": 15
           },
           "zerolinecolor": "white",
           "zerolinewidth": 2
          },
          "yaxis": {
           "automargin": true,
           "gridcolor": "white",
           "linecolor": "white",
           "ticks": "",
           "title": {
            "standoff": 15
           },
           "zerolinecolor": "white",
           "zerolinewidth": 2
          }
         }
        },
        "title": {
         "text": "price level percentage for each city"
        },
        "xaxis": {
         "anchor": "y",
         "domain": [
          0,
          1
         ],
         "title": {
          "text": "percentage"
         },
         "type": "log"
        },
        "yaxis": {
         "anchor": "x",
         "domain": [
          0,
          1
         ],
         "showticklabels": false,
         "title": {
          "text": "city"
         }
        }
       }
      },
      "text/html": [
       "<div>                            <div id=\"059be519-f83e-41b0-8829-7c05d91690e7\" class=\"plotly-graph-div\" style=\"height:525px; width:100%;\"></div>            <script type=\"text/javascript\">                require([\"plotly\"], function(Plotly) {                    window.PLOTLYENV=window.PLOTLYENV || {};                                    if (document.getElementById(\"059be519-f83e-41b0-8829-7c05d91690e7\")) {                    Plotly.newPlot(                        \"059be519-f83e-41b0-8829-7c05d91690e7\",                        [{\"hovertemplate\": \"<b>%{hovertext}</b><br><br>price=2<br>percentage=%{marker.size}<br>city=%{y}<extra></extra>\", \"hovertext\": [\"2\", \"2\", \"2\", \"2\", \"2\", \"2\", \"2\", \"2\", \"2\", \"2\", \"2\", \"2\", \"2\", \"2\", \"2\", \"2\", \"2\", \"2\", \"2\", \"2\", \"2\", \"2\", \"2\", \"2\", \"2\", \"2\", \"2\", \"2\", \"2\", \"2\", \"2\", \"2\", \"2\", \"2\", \"2\", \"2\", \"2\", \"2\", \"2\", \"2\", \"2\", \"2\", \"2\", \"2\", \"2\", \"2\", \"2\", \"2\", \"2\", \"2\", \"2\", \"2\", \"2\", \"2\", \"2\"], \"legendgroup\": \"2\", \"marker\": {\"color\": \"#636efa\", \"size\": [100.0, 44.73684210526316, 100.0, 25.0, 100.0, 49.26253687315634, 44.44444444444444, 100.0, 27.272727272727273, 22.22222222222222, 100.0, 33.333333333333336, 100.0, 50.0, 100.0, 100.0, 100.0, 100.0, 50.0, 100.0, 50.0, 100.0, 12.5, 57.142857142857146, 100.0, 25.0, 33.333333333333336, 50.0, 71.42857142857143, 50.0, 66.66666666666667, 47.82608695652174, 100.0, 100.0, 100.0, 40.0, 36.36363636363637, 50.0, 100.0, 60.0, 50.0, 50.0, 100.0, 66.66666666666667, 66.66666666666667, 100.0, 41.48936170212766, 41.02564102564103, 25.0, 33.333333333333336, 40.0, 46.34146341463415, 100.0, 50.0, 100.0], \"sizemode\": \"area\", \"sizeref\": 0.027777777777777776, \"symbol\": \"circle\"}, \"mode\": \"markers\", \"name\": \"2\", \"orientation\": \"h\", \"showlegend\": true, \"type\": \"scatter\", \"x\": [100.0, 44.73684210526316, 100.0, 25.0, 100.0, 49.26253687315634, 44.44444444444444, 100.0, 27.272727272727273, 22.22222222222222, 100.0, 33.333333333333336, 100.0, 50.0, 100.0, 100.0, 100.0, 100.0, 50.0, 100.0, 50.0, 100.0, 12.5, 57.142857142857146, 100.0, 25.0, 33.333333333333336, 50.0, 71.42857142857143, 50.0, 66.66666666666667, 47.82608695652174, 100.0, 100.0, 100.0, 40.0, 36.36363636363637, 50.0, 100.0, 60.0, 50.0, 50.0, 100.0, 66.66666666666667, 66.66666666666667, 100.0, 41.48936170212766, 41.02564102564103, 25.0, 33.333333333333336, 40.0, 46.34146341463415, 100.0, 50.0, 100.0], \"xaxis\": \"x\", \"y\": [\"Eken\\u00e4s\", \"Espoo\", \"Fiskari\", \"Hanko\", \"Hein\\u00e4vesi\", \"Helsinki\", \"H\\u00e4meenlinna\", \"Imatra\", \"Joensuu\", \"Jyv\\u00e4skyl\\u00e4\", \"J\\u00e4ms\\u00e4nkoski\", \"J\\u00e4rvenp\\u00e4\\u00e4\", \"Kankaanpaa\", \"Kauhava\", \"Kauniainen\", \"Kerma\", \"Kokkola\", \"Korppoo\", \"Kotka\", \"Kouvola\", \"Kuopio\", \"Kuru\", \"Lahti\", \"Lappeenranta\", \"Larsmo\", \"Lohja\", \"Loviisa\", \"Maarianhamina\", \"Mikkeli\", \"Nauvo\", \"Nummela\", \"Oulu\", \"Outokumpu\", \"Parainen\", \"Pietarsaari\", \"Pori\", \"Porvoo\", \"Raahe\", \"Raasepori\", \"Rauma\", \"Riihim\\u00e4ki\", \"Rovaniemi\", \"Rukatunturi\", \"Salo\", \"Savonlinna\", \"Tahkovuori\", \"Tampere\", \"Turku\", \"Tuusula\", \"Uusikaupunki\", \"Vaasa\", \"Vantaa\", \"Vihti\", \"V\\u00e4\\u00e4ksy\", \"Yl\\u00f6j\\u00e4rvi\"], \"yaxis\": \"y\"}, {\"hovertemplate\": \"<b>%{hovertext}</b><br><br>price=1<br>percentage=%{marker.size}<br>city=%{y}<extra></extra>\", \"hovertext\": [\"1\", \"1\", \"1\", \"1\", \"1\", \"1\", \"1\", \"1\", \"1\", \"1\", \"1\", \"1\", \"1\", \"1\", \"1\", \"1\", \"1\", \"1\", \"1\", \"1\", \"1\", \"1\", \"1\", \"1\", \"1\", \"1\", \"1\", \"1\", \"1\", \"1\", \"1\", \"1\", \"1\", \"1\", \"1\", \"1\", \"1\", \"1\", \"1\", \"1\", \"1\", \"1\", \"1\", \"1\", \"1\", \"1\", \"1\", \"1\", \"1\", \"1\", \"1\", \"1\", \"1\", \"1\", \"1\", \"1\"], \"legendgroup\": \"1\", \"marker\": {\"color\": \"#EF553B\", \"size\": [50.0, 25.0, 28.466076696165192, 100.0, 100.0, 44.44444444444444, 45.45454545454545, 100.0, 38.888888888888886, 100.0, 55.55555555555556, 100.0, 100.0, 50.0, 100.0, 50.0, 100.0, 50.0, 33.333333333333336, 50.0, 100.0, 14.285714285714286, 100.0, 50.0, 100.0, 75.0, 66.66666666666667, 25.0, 100.0, 33.333333333333336, 39.130434782608695, 100.0, 100.0, 100.0, 30.0, 18.181818181818183, 50.0, 100.0, 40.0, 50.0, 8.333333333333334, 100.0, 33.333333333333336, 100.0, 33.333333333333336, 100.0, 41.48936170212766, 100.0, 33.333333333333336, 25.0, 33.333333333333336, 40.0, 29.26829268292683, 100.0, 100.0, 50.0], \"sizemode\": \"area\", \"sizeref\": 0.027777777777777776, \"symbol\": \"circle\"}, \"mode\": \"markers\", \"name\": \"1\", \"orientation\": \"h\", \"showlegend\": true, \"type\": \"scatter\", \"x\": [50.0, 25.0, 28.466076696165192, 100.0, 100.0, 44.44444444444444, 45.45454545454545, 100.0, 38.888888888888886, 100.0, 55.55555555555556, 100.0, 100.0, 50.0, 100.0, 50.0, 100.0, 50.0, 33.333333333333336, 50.0, 100.0, 14.285714285714286, 100.0, 50.0, 100.0, 75.0, 66.66666666666667, 25.0, 100.0, 33.333333333333336, 39.130434782608695, 100.0, 100.0, 100.0, 30.0, 18.181818181818183, 50.0, 100.0, 40.0, 50.0, 8.333333333333334, 100.0, 33.333333333333336, 100.0, 33.333333333333336, 100.0, 41.48936170212766, 100.0, 33.333333333333336, 25.0, 33.333333333333336, 40.0, 29.26829268292683, 100.0, 100.0, 50.0], \"xaxis\": \"x\", \"y\": [\"Espoo\", \"Hanko\", \"Helsinki\", \"Hyvink\\u00e4\\u00e4\", \"H\\u00e4meenkyr\\u00f6\", \"H\\u00e4meenlinna\", \"Joensuu\", \"Juankoski\", \"Jyv\\u00e4skyl\\u00e4\", \"J\\u00e4ms\\u00e4\", \"J\\u00e4rvenp\\u00e4\\u00e4\", \"Kalkkiranta\", \"Kangasala\", \"Kauhava\", \"Kerava\", \"Kirkkonummi\", \"Klaukkala\", \"Kotka\", \"Kuopio\", \"Lahti\", \"Laitila\", \"Lappeenranta\", \"Lappfj\\u00e4rd\", \"Lemp\\u00e4\\u00e4l\\u00e4\", \"Lieto\", \"Lohja\", \"Loviisa\", \"Maarianhamina\", \"Nokia\", \"Nummela\", \"Oulu\", \"Parkano\", \"Pentinm\\u00e4ki\", \"Pohjaslahti\", \"Pori\", \"Porvoo\", \"Raahe\", \"Raisio\", \"Rauma\", \"Riihim\\u00e4ki\", \"Rovaniemi\", \"R\\u00f6ykk\\u00e4\", \"Salo\", \"Sastamala\", \"Savonlinna\", \"Tammela\", \"Tampere\", \"Tuorila\", \"Turku\", \"Tuusula\", \"Uusikaupunki\", \"Vaasa\", \"Vantaa\", \"Varkaus\", \"Vierumaki\", \"V\\u00e4\\u00e4ksy\"], \"yaxis\": \"y\"}, {\"hovertemplate\": \"<b>%{hovertext}</b><br><br>price=3<br>percentage=%{marker.size}<br>city=%{y}<extra></extra>\", \"hovertext\": [\"3\", \"3\", \"3\", \"3\", \"3\", \"3\", \"3\", \"3\", \"3\", \"3\", \"3\", \"3\", \"3\", \"3\", \"3\", \"3\", \"3\", \"3\", \"3\", \"3\", \"3\", \"3\", \"3\", \"3\", \"3\", \"3\", \"3\", \"3\", \"3\"], \"legendgroup\": \"3\", \"marker\": {\"color\": \"#00cc96\", \"size\": [5.2631578947368425, 25.0, 17.551622418879056, 11.11111111111111, 100.0, 27.272727272727273, 27.77777777777778, 11.11111111111111, 50.0, 16.666666666666668, 37.5, 28.571428571428573, 50.0, 25.0, 28.571428571428573, 100.0, 50.0, 10.869565217391305, 30.0, 36.36363636363637, 33.333333333333336, 100.0, 100.0, 13.829787234042554, 25.641025641025642, 25.0, 33.333333333333336, 20.0, 19.51219512195122], \"sizemode\": \"area\", \"sizeref\": 0.027777777777777776, \"symbol\": \"circle\"}, \"mode\": \"markers\", \"name\": \"3\", \"orientation\": \"h\", \"showlegend\": true, \"type\": \"scatter\", \"x\": [5.2631578947368425, 25.0, 17.551622418879056, 11.11111111111111, 100.0, 27.272727272727273, 27.77777777777778, 11.11111111111111, 50.0, 16.666666666666668, 37.5, 28.571428571428573, 50.0, 25.0, 28.571428571428573, 100.0, 50.0, 10.869565217391305, 30.0, 36.36363636363637, 33.333333333333336, 100.0, 100.0, 13.829787234042554, 25.641025641025642, 25.0, 33.333333333333336, 20.0, 19.51219512195122], \"xaxis\": \"x\", \"y\": [\"Espoo\", \"Hanko\", \"Helsinki\", \"H\\u00e4meenlinna\", \"Iisalmi\", \"Joensuu\", \"Jyv\\u00e4skyl\\u00e4\", \"J\\u00e4rvenp\\u00e4\\u00e4\", \"Kirkkonummi\", \"Kuopio\", \"Lahti\", \"Lappeenranta\", \"Lemp\\u00e4\\u00e4l\\u00e4\", \"Maarianhamina\", \"Mikkeli\", \"Naantali\", \"Nauvo\", \"Oulu\", \"Pori\", \"Porvoo\", \"Rovaniemi\", \"Sein\\u00e4joki\", \"Tammisaari\", \"Tampere\", \"Turku\", \"Tuusula\", \"Uusikaupunki\", \"Vaasa\", \"Vantaa\"], \"yaxis\": \"y\"}, {\"hovertemplate\": \"<b>%{hovertext}</b><br><br>price=4<br>percentage=%{marker.size}<br>city=%{y}<extra></extra>\", \"hovertext\": [\"4\", \"4\", \"4\", \"4\", \"4\", \"4\", \"4\", \"4\", \"4\", \"4\", \"4\"], \"legendgroup\": \"4\", \"marker\": {\"color\": \"#ab63fa\", \"size\": [25.0, 4.71976401179941, 11.11111111111111, 100.0, 100.0, 2.1739130434782608, 9.090909090909092, 8.333333333333334, 3.1914893617021276, 25.0, 4.878048780487805], \"sizemode\": \"area\", \"sizeref\": 0.027777777777777776, \"symbol\": \"circle\"}, \"mode\": \"markers\", \"name\": \"4\", \"orientation\": \"h\", \"showlegend\": true, \"type\": \"scatter\", \"x\": [25.0, 4.71976401179941, 11.11111111111111, 100.0, 100.0, 2.1739130434782608, 9.090909090909092, 8.333333333333334, 3.1914893617021276, 25.0, 4.878048780487805], \"xaxis\": \"x\", \"y\": [\"Hanko\", \"Helsinki\", \"Jyv\\u00e4skyl\\u00e4\", \"Kajaani\", \"Karjaa\", \"Oulu\", \"Porvoo\", \"Rovaniemi\", \"Tampere\", \"Tuusula\", \"Vantaa\"], \"yaxis\": \"y\"}],                        {\"legend\": {\"itemsizing\": \"constant\", \"title\": {\"text\": \"price\"}, \"tracegroupgap\": 0}, \"template\": {\"data\": {\"bar\": [{\"error_x\": {\"color\": \"#2a3f5f\"}, \"error_y\": {\"color\": \"#2a3f5f\"}, \"marker\": {\"line\": {\"color\": \"#E5ECF6\", \"width\": 0.5}}, \"type\": \"bar\"}], \"barpolar\": [{\"marker\": {\"line\": {\"color\": \"#E5ECF6\", \"width\": 0.5}}, \"type\": \"barpolar\"}], \"carpet\": [{\"aaxis\": {\"endlinecolor\": \"#2a3f5f\", \"gridcolor\": \"white\", \"linecolor\": \"white\", \"minorgridcolor\": \"white\", \"startlinecolor\": \"#2a3f5f\"}, \"baxis\": {\"endlinecolor\": \"#2a3f5f\", \"gridcolor\": \"white\", \"linecolor\": \"white\", \"minorgridcolor\": \"white\", \"startlinecolor\": \"#2a3f5f\"}, \"type\": \"carpet\"}], \"choropleth\": [{\"colorbar\": {\"outlinewidth\": 0, \"ticks\": \"\"}, \"type\": \"choropleth\"}], \"contour\": [{\"colorbar\": {\"outlinewidth\": 0, \"ticks\": \"\"}, \"colorscale\": [[0.0, \"#0d0887\"], [0.1111111111111111, \"#46039f\"], [0.2222222222222222, \"#7201a8\"], [0.3333333333333333, \"#9c179e\"], [0.4444444444444444, \"#bd3786\"], [0.5555555555555556, \"#d8576b\"], [0.6666666666666666, \"#ed7953\"], [0.7777777777777778, \"#fb9f3a\"], [0.8888888888888888, \"#fdca26\"], [1.0, \"#f0f921\"]], \"type\": \"contour\"}], \"contourcarpet\": [{\"colorbar\": {\"outlinewidth\": 0, \"ticks\": \"\"}, \"type\": \"contourcarpet\"}], \"heatmap\": [{\"colorbar\": {\"outlinewidth\": 0, \"ticks\": \"\"}, \"colorscale\": [[0.0, \"#0d0887\"], [0.1111111111111111, \"#46039f\"], [0.2222222222222222, \"#7201a8\"], [0.3333333333333333, \"#9c179e\"], [0.4444444444444444, \"#bd3786\"], [0.5555555555555556, \"#d8576b\"], [0.6666666666666666, \"#ed7953\"], [0.7777777777777778, \"#fb9f3a\"], [0.8888888888888888, \"#fdca26\"], [1.0, \"#f0f921\"]], \"type\": \"heatmap\"}], \"heatmapgl\": [{\"colorbar\": {\"outlinewidth\": 0, \"ticks\": \"\"}, \"colorscale\": [[0.0, \"#0d0887\"], [0.1111111111111111, \"#46039f\"], [0.2222222222222222, \"#7201a8\"], [0.3333333333333333, \"#9c179e\"], [0.4444444444444444, \"#bd3786\"], [0.5555555555555556, \"#d8576b\"], [0.6666666666666666, \"#ed7953\"], [0.7777777777777778, \"#fb9f3a\"], [0.8888888888888888, \"#fdca26\"], [1.0, \"#f0f921\"]], \"type\": \"heatmapgl\"}], \"histogram\": [{\"marker\": {\"colorbar\": {\"outlinewidth\": 0, \"ticks\": \"\"}}, \"type\": \"histogram\"}], \"histogram2d\": [{\"colorbar\": {\"outlinewidth\": 0, \"ticks\": \"\"}, \"colorscale\": [[0.0, \"#0d0887\"], [0.1111111111111111, \"#46039f\"], [0.2222222222222222, \"#7201a8\"], [0.3333333333333333, \"#9c179e\"], [0.4444444444444444, \"#bd3786\"], [0.5555555555555556, \"#d8576b\"], [0.6666666666666666, \"#ed7953\"], [0.7777777777777778, \"#fb9f3a\"], [0.8888888888888888, \"#fdca26\"], [1.0, \"#f0f921\"]], \"type\": \"histogram2d\"}], \"histogram2dcontour\": [{\"colorbar\": {\"outlinewidth\": 0, \"ticks\": \"\"}, \"colorscale\": [[0.0, \"#0d0887\"], [0.1111111111111111, \"#46039f\"], [0.2222222222222222, \"#7201a8\"], [0.3333333333333333, \"#9c179e\"], [0.4444444444444444, \"#bd3786\"], [0.5555555555555556, \"#d8576b\"], [0.6666666666666666, \"#ed7953\"], [0.7777777777777778, \"#fb9f3a\"], [0.8888888888888888, \"#fdca26\"], [1.0, \"#f0f921\"]], \"type\": \"histogram2dcontour\"}], \"mesh3d\": [{\"colorbar\": {\"outlinewidth\": 0, \"ticks\": \"\"}, \"type\": \"mesh3d\"}], \"parcoords\": [{\"line\": {\"colorbar\": {\"outlinewidth\": 0, \"ticks\": \"\"}}, \"type\": \"parcoords\"}], \"pie\": [{\"automargin\": true, \"type\": \"pie\"}], \"scatter\": [{\"marker\": {\"colorbar\": {\"outlinewidth\": 0, \"ticks\": \"\"}}, \"type\": \"scatter\"}], \"scatter3d\": [{\"line\": {\"colorbar\": {\"outlinewidth\": 0, \"ticks\": \"\"}}, \"marker\": {\"colorbar\": {\"outlinewidth\": 0, \"ticks\": \"\"}}, \"type\": \"scatter3d\"}], \"scattercarpet\": [{\"marker\": {\"colorbar\": {\"outlinewidth\": 0, \"ticks\": \"\"}}, \"type\": \"scattercarpet\"}], \"scattergeo\": [{\"marker\": {\"colorbar\": {\"outlinewidth\": 0, \"ticks\": \"\"}}, \"type\": \"scattergeo\"}], \"scattergl\": [{\"marker\": {\"colorbar\": {\"outlinewidth\": 0, \"ticks\": \"\"}}, \"type\": \"scattergl\"}], \"scattermapbox\": [{\"marker\": {\"colorbar\": {\"outlinewidth\": 0, \"ticks\": \"\"}}, \"type\": \"scattermapbox\"}], \"scatterpolar\": [{\"marker\": {\"colorbar\": {\"outlinewidth\": 0, \"ticks\": \"\"}}, \"type\": \"scatterpolar\"}], \"scatterpolargl\": [{\"marker\": {\"colorbar\": {\"outlinewidth\": 0, \"ticks\": \"\"}}, \"type\": \"scatterpolargl\"}], \"scatterternary\": [{\"marker\": {\"colorbar\": {\"outlinewidth\": 0, \"ticks\": \"\"}}, \"type\": \"scatterternary\"}], \"surface\": [{\"colorbar\": {\"outlinewidth\": 0, \"ticks\": \"\"}, \"colorscale\": [[0.0, \"#0d0887\"], [0.1111111111111111, \"#46039f\"], [0.2222222222222222, \"#7201a8\"], [0.3333333333333333, \"#9c179e\"], [0.4444444444444444, \"#bd3786\"], [0.5555555555555556, \"#d8576b\"], [0.6666666666666666, \"#ed7953\"], [0.7777777777777778, \"#fb9f3a\"], [0.8888888888888888, \"#fdca26\"], [1.0, \"#f0f921\"]], \"type\": \"surface\"}], \"table\": [{\"cells\": {\"fill\": {\"color\": \"#EBF0F8\"}, \"line\": {\"color\": \"white\"}}, \"header\": {\"fill\": {\"color\": \"#C8D4E3\"}, \"line\": {\"color\": \"white\"}}, \"type\": \"table\"}]}, \"layout\": {\"annotationdefaults\": {\"arrowcolor\": \"#2a3f5f\", \"arrowhead\": 0, \"arrowwidth\": 1}, \"coloraxis\": {\"colorbar\": {\"outlinewidth\": 0, \"ticks\": \"\"}}, \"colorscale\": {\"diverging\": [[0, \"#8e0152\"], [0.1, \"#c51b7d\"], [0.2, \"#de77ae\"], [0.3, \"#f1b6da\"], [0.4, \"#fde0ef\"], [0.5, \"#f7f7f7\"], [0.6, \"#e6f5d0\"], [0.7, \"#b8e186\"], [0.8, \"#7fbc41\"], [0.9, \"#4d9221\"], [1, \"#276419\"]], \"sequential\": [[0.0, \"#0d0887\"], [0.1111111111111111, \"#46039f\"], [0.2222222222222222, \"#7201a8\"], [0.3333333333333333, \"#9c179e\"], [0.4444444444444444, \"#bd3786\"], [0.5555555555555556, \"#d8576b\"], [0.6666666666666666, \"#ed7953\"], [0.7777777777777778, \"#fb9f3a\"], [0.8888888888888888, \"#fdca26\"], [1.0, \"#f0f921\"]], \"sequentialminus\": [[0.0, \"#0d0887\"], [0.1111111111111111, \"#46039f\"], [0.2222222222222222, \"#7201a8\"], [0.3333333333333333, \"#9c179e\"], [0.4444444444444444, \"#bd3786\"], [0.5555555555555556, \"#d8576b\"], [0.6666666666666666, \"#ed7953\"], [0.7777777777777778, \"#fb9f3a\"], [0.8888888888888888, \"#fdca26\"], [1.0, \"#f0f921\"]]}, \"colorway\": [\"#636efa\", \"#EF553B\", \"#00cc96\", \"#ab63fa\", \"#FFA15A\", \"#19d3f3\", \"#FF6692\", \"#B6E880\", \"#FF97FF\", \"#FECB52\"], \"font\": {\"color\": \"#2a3f5f\"}, \"geo\": {\"bgcolor\": \"white\", \"lakecolor\": \"white\", \"landcolor\": \"#E5ECF6\", \"showlakes\": true, \"showland\": true, \"subunitcolor\": \"white\"}, \"hoverlabel\": {\"align\": \"left\"}, \"hovermode\": \"closest\", \"mapbox\": {\"style\": \"light\"}, \"paper_bgcolor\": \"white\", \"plot_bgcolor\": \"#E5ECF6\", \"polar\": {\"angularaxis\": {\"gridcolor\": \"white\", \"linecolor\": \"white\", \"ticks\": \"\"}, \"bgcolor\": \"#E5ECF6\", \"radialaxis\": {\"gridcolor\": \"white\", \"linecolor\": \"white\", \"ticks\": \"\"}}, \"scene\": {\"xaxis\": {\"backgroundcolor\": \"#E5ECF6\", \"gridcolor\": \"white\", \"gridwidth\": 2, \"linecolor\": \"white\", \"showbackground\": true, \"ticks\": \"\", \"zerolinecolor\": \"white\"}, \"yaxis\": {\"backgroundcolor\": \"#E5ECF6\", \"gridcolor\": \"white\", \"gridwidth\": 2, \"linecolor\": \"white\", \"showbackground\": true, \"ticks\": \"\", \"zerolinecolor\": \"white\"}, \"zaxis\": {\"backgroundcolor\": \"#E5ECF6\", \"gridcolor\": \"white\", \"gridwidth\": 2, \"linecolor\": \"white\", \"showbackground\": true, \"ticks\": \"\", \"zerolinecolor\": \"white\"}}, \"shapedefaults\": {\"line\": {\"color\": \"#2a3f5f\"}}, \"ternary\": {\"aaxis\": {\"gridcolor\": \"white\", \"linecolor\": \"white\", \"ticks\": \"\"}, \"baxis\": {\"gridcolor\": \"white\", \"linecolor\": \"white\", \"ticks\": \"\"}, \"bgcolor\": \"#E5ECF6\", \"caxis\": {\"gridcolor\": \"white\", \"linecolor\": \"white\", \"ticks\": \"\"}}, \"title\": {\"x\": 0.05}, \"xaxis\": {\"automargin\": true, \"gridcolor\": \"white\", \"linecolor\": \"white\", \"ticks\": \"\", \"title\": {\"standoff\": 15}, \"zerolinecolor\": \"white\", \"zerolinewidth\": 2}, \"yaxis\": {\"automargin\": true, \"gridcolor\": \"white\", \"linecolor\": \"white\", \"ticks\": \"\", \"title\": {\"standoff\": 15}, \"zerolinecolor\": \"white\", \"zerolinewidth\": 2}}}, \"title\": {\"text\": \"price level percentage for each city\"}, \"xaxis\": {\"anchor\": \"y\", \"domain\": [0.0, 1.0], \"title\": {\"text\": \"percentage\"}, \"type\": \"log\"}, \"yaxis\": {\"anchor\": \"x\", \"domain\": [0.0, 1.0], \"showticklabels\": false, \"title\": {\"text\": \"city\"}}},                        {\"responsive\": true}                    ).then(function(){\n",
       "                            \n",
       "var gd = document.getElementById('059be519-f83e-41b0-8829-7c05d91690e7');\n",
       "var x = new MutationObserver(function (mutations, observer) {{\n",
       "        var display = window.getComputedStyle(gd).display;\n",
       "        if (!display || display === 'none') {{\n",
       "            console.log([gd, 'removed!']);\n",
       "            Plotly.purge(gd);\n",
       "            observer.disconnect();\n",
       "        }}\n",
       "}});\n",
       "\n",
       "// Listen for the removal of the full notebook cells\n",
       "var notebookContainer = gd.closest('#notebook-container');\n",
       "if (notebookContainer) {{\n",
       "    x.observe(notebookContainer, {childList: true});\n",
       "}}\n",
       "\n",
       "// Listen for the clearing of the current output cell\n",
       "var outputEl = gd.closest('.output');\n",
       "if (outputEl) {{\n",
       "    x.observe(outputEl, {childList: true});\n",
       "}}\n",
       "\n",
       "                        })                };                });            </script>        </div>"
      ]
     },
     "metadata": {},
     "output_type": "display_data"
    }
   ],
   "source": [
    "fig = px.scatter(e, x=\"percentage\", y=e.index, size=\"percentage\", color=\"price\",\n",
    "                 hover_name=\"price\", log_x=True, size_max=60, title=\"price level percentage for each city\")\n",
    "\n",
    "fig.update_yaxes(showticklabels=False)\n",
    "fig.show()"
   ]
  },
  {
   "cell_type": "code",
   "execution_count": 55,
   "metadata": {
    "ExecuteTime": {
     "end_time": "2021-01-04T12:07:43.840440Z",
     "start_time": "2021-01-04T12:07:43.838997Z"
    }
   },
   "outputs": [],
   "source": [
    "# fig = go.Figure(go.Bar(x=f.index, y=f[1], name=r\"1\", marker_color='#ED543B'))\n",
    "# fig.add_trace(go.Bar(x=f.index, y=f[2], name=r\"2\", marker_color='#02CC94'))\n",
    "# fig.add_trace(go.Bar(x=f.index, y=f[3], name=r\"3\", marker_color='#626DFA'))\n",
    "# fig.add_trace(go.Bar(x=f.index, y=f[4], name=r\"4\", marker_color='#AA64FB'))\n",
    "\n",
    "# fig.update_layout(barmode=\"stack\", xaxis={'categoryorder':'category ascending'}, title=\"Stacked bar of price level percentage\")\n",
    "# fig.show()"
   ]
  },
  {
   "cell_type": "markdown",
   "metadata": {},
   "source": [
    "#### Keywords for each price level"
   ]
  },
  {
   "cell_type": "code",
   "execution_count": 56,
   "metadata": {
    "ExecuteTime": {
     "end_time": "2021-01-04T12:07:43.843468Z",
     "start_time": "2021-01-04T12:07:43.841805Z"
    }
   },
   "outputs": [],
   "source": [
    "def transform_format(val):\n",
    "    if val == 0:\n",
    "        return 255\n",
    "    else:\n",
    "        return 0"
   ]
  },
  {
   "cell_type": "code",
   "execution_count": 57,
   "metadata": {
    "ExecuteTime": {
     "end_time": "2021-01-04T12:07:44.317436Z",
     "start_time": "2021-01-04T12:07:43.844678Z"
    }
   },
   "outputs": [],
   "source": [
    "mask = np.array(Image.open(\"512x512.png\"))\n",
    "transformed_mask = np.ndarray((mask.shape[0],mask.shape[1]), np.int32)\n",
    "for i in range(len(mask)):\n",
    "    transformed_mask[i] = list(map(transform_format, mask[:,:,3][i]))"
   ]
  },
  {
   "cell_type": "code",
   "execution_count": 58,
   "metadata": {
    "ExecuteTime": {
     "end_time": "2021-01-04T12:07:44.321129Z",
     "start_time": "2021-01-04T12:07:44.318640Z"
    }
   },
   "outputs": [],
   "source": [
    "def keyword_level(level):\n",
    "    word_list = \" \".join(df[df.price==level].category)\n",
    "    wordcloud = WordCloud(background_color=\"white\",stopwords={'Restaurants'}, mask=transformed_mask).generate(word_list)\n",
    "    \n",
    "    image_colors = ImageColorGenerator(mask)\n",
    "    plt.figure(figsize=[15,15])\n",
    "    plt.imshow(wordcloud, interpolation=\"bilinear\")\n",
    "    plt.axis(\"off\")\n",
    "    plt.show()"
   ]
  },
  {
   "cell_type": "code",
   "execution_count": 59,
   "metadata": {
    "ExecuteTime": {
     "end_time": "2021-01-04T12:07:44.617446Z",
     "start_time": "2021-01-04T12:07:44.322372Z"
    }
   },
   "outputs": [
    {
     "data": {
      "application/vnd.jupyter.widget-view+json": {
       "model_id": "2f5b5cb913f14506ad8dcb16e568885c",
       "version_major": 2,
       "version_minor": 0
      },
      "text/plain": [
       "interactive(children=(Dropdown(description='level', options=(1, 2, 3, 4), value=1), Output()), _dom_classes=('…"
      ]
     },
     "metadata": {},
     "output_type": "display_data"
    },
    {
     "data": {
      "text/plain": [
       "<function __main__.keyword_level(level)>"
      ]
     },
     "execution_count": 59,
     "metadata": {},
     "output_type": "execute_result"
    }
   ],
   "source": [
    "interact(keyword_level, level=[1,2,3,4])"
   ]
  },
  {
   "cell_type": "markdown",
   "metadata": {},
   "source": [
    "As we can see that the signature keywords, types for low-cost level of restaurant include fast food, coffee, tea, and simple dishes such as sandwiches or soup. While for other price level, the majority of keywords or types are quite similar since for each type of food, we can have different scale of a restaurant. For the luxury restaurants, we can notice some special keywords that represent the scale of the restaurant such as Hotel, Lounges...\n",
    "### Rating & review count on the basic of price level"
   ]
  },
  {
   "cell_type": "code",
   "execution_count": 60,
   "metadata": {
    "ExecuteTime": {
     "end_time": "2021-01-04T12:07:44.650327Z",
     "start_time": "2021-01-04T12:07:44.618634Z"
    }
   },
   "outputs": [
    {
     "data": {
      "application/vnd.plotly.v1+json": {
       "config": {
        "linkText": "Export to plot.ly",
        "plotlyServerURL": "https://plot.ly",
        "showLink": true
       },
       "data": [
        {
         "marker": {
          "color": "rgba(255, 153, 51, 0.6)",
          "line": {
           "color": "rgba(255, 153, 51, 1.0)",
           "width": 1
          }
         },
         "name": "rating",
         "orientation": "v",
         "text": "",
         "type": "bar",
         "x": [
          1,
          2,
          3,
          4
         ],
         "y": [
          3.6448362720403025,
          3.7432915921288012,
          3.810945273631841,
          4.184782608695652
         ]
        },
        {
         "marker": {
          "color": "rgba(55, 128, 191, 0.6)",
          "line": {
           "color": "rgba(55, 128, 191, 1.0)",
           "width": 1
          }
         },
         "name": "review_count",
         "orientation": "v",
         "text": "",
         "type": "bar",
         "x": [
          1,
          2,
          3,
          4
         ],
         "y": [
          3.8690176322418135,
          7.76386404293381,
          8.323383084577115,
          12.543478260869565
         ]
        }
       ],
       "layout": {
        "legend": {
         "bgcolor": "#F5F6F9",
         "font": {
          "color": "#4D5663"
         }
        },
        "paper_bgcolor": "#F5F6F9",
        "plot_bgcolor": "#F5F6F9",
        "template": {
         "data": {
          "bar": [
           {
            "error_x": {
             "color": "#2a3f5f"
            },
            "error_y": {
             "color": "#2a3f5f"
            },
            "marker": {
             "line": {
              "color": "#E5ECF6",
              "width": 0.5
             }
            },
            "type": "bar"
           }
          ],
          "barpolar": [
           {
            "marker": {
             "line": {
              "color": "#E5ECF6",
              "width": 0.5
             }
            },
            "type": "barpolar"
           }
          ],
          "carpet": [
           {
            "aaxis": {
             "endlinecolor": "#2a3f5f",
             "gridcolor": "white",
             "linecolor": "white",
             "minorgridcolor": "white",
             "startlinecolor": "#2a3f5f"
            },
            "baxis": {
             "endlinecolor": "#2a3f5f",
             "gridcolor": "white",
             "linecolor": "white",
             "minorgridcolor": "white",
             "startlinecolor": "#2a3f5f"
            },
            "type": "carpet"
           }
          ],
          "choropleth": [
           {
            "colorbar": {
             "outlinewidth": 0,
             "ticks": ""
            },
            "type": "choropleth"
           }
          ],
          "contour": [
           {
            "colorbar": {
             "outlinewidth": 0,
             "ticks": ""
            },
            "colorscale": [
             [
              0,
              "#0d0887"
             ],
             [
              0.1111111111111111,
              "#46039f"
             ],
             [
              0.2222222222222222,
              "#7201a8"
             ],
             [
              0.3333333333333333,
              "#9c179e"
             ],
             [
              0.4444444444444444,
              "#bd3786"
             ],
             [
              0.5555555555555556,
              "#d8576b"
             ],
             [
              0.6666666666666666,
              "#ed7953"
             ],
             [
              0.7777777777777778,
              "#fb9f3a"
             ],
             [
              0.8888888888888888,
              "#fdca26"
             ],
             [
              1,
              "#f0f921"
             ]
            ],
            "type": "contour"
           }
          ],
          "contourcarpet": [
           {
            "colorbar": {
             "outlinewidth": 0,
             "ticks": ""
            },
            "type": "contourcarpet"
           }
          ],
          "heatmap": [
           {
            "colorbar": {
             "outlinewidth": 0,
             "ticks": ""
            },
            "colorscale": [
             [
              0,
              "#0d0887"
             ],
             [
              0.1111111111111111,
              "#46039f"
             ],
             [
              0.2222222222222222,
              "#7201a8"
             ],
             [
              0.3333333333333333,
              "#9c179e"
             ],
             [
              0.4444444444444444,
              "#bd3786"
             ],
             [
              0.5555555555555556,
              "#d8576b"
             ],
             [
              0.6666666666666666,
              "#ed7953"
             ],
             [
              0.7777777777777778,
              "#fb9f3a"
             ],
             [
              0.8888888888888888,
              "#fdca26"
             ],
             [
              1,
              "#f0f921"
             ]
            ],
            "type": "heatmap"
           }
          ],
          "heatmapgl": [
           {
            "colorbar": {
             "outlinewidth": 0,
             "ticks": ""
            },
            "colorscale": [
             [
              0,
              "#0d0887"
             ],
             [
              0.1111111111111111,
              "#46039f"
             ],
             [
              0.2222222222222222,
              "#7201a8"
             ],
             [
              0.3333333333333333,
              "#9c179e"
             ],
             [
              0.4444444444444444,
              "#bd3786"
             ],
             [
              0.5555555555555556,
              "#d8576b"
             ],
             [
              0.6666666666666666,
              "#ed7953"
             ],
             [
              0.7777777777777778,
              "#fb9f3a"
             ],
             [
              0.8888888888888888,
              "#fdca26"
             ],
             [
              1,
              "#f0f921"
             ]
            ],
            "type": "heatmapgl"
           }
          ],
          "histogram": [
           {
            "marker": {
             "colorbar": {
              "outlinewidth": 0,
              "ticks": ""
             }
            },
            "type": "histogram"
           }
          ],
          "histogram2d": [
           {
            "colorbar": {
             "outlinewidth": 0,
             "ticks": ""
            },
            "colorscale": [
             [
              0,
              "#0d0887"
             ],
             [
              0.1111111111111111,
              "#46039f"
             ],
             [
              0.2222222222222222,
              "#7201a8"
             ],
             [
              0.3333333333333333,
              "#9c179e"
             ],
             [
              0.4444444444444444,
              "#bd3786"
             ],
             [
              0.5555555555555556,
              "#d8576b"
             ],
             [
              0.6666666666666666,
              "#ed7953"
             ],
             [
              0.7777777777777778,
              "#fb9f3a"
             ],
             [
              0.8888888888888888,
              "#fdca26"
             ],
             [
              1,
              "#f0f921"
             ]
            ],
            "type": "histogram2d"
           }
          ],
          "histogram2dcontour": [
           {
            "colorbar": {
             "outlinewidth": 0,
             "ticks": ""
            },
            "colorscale": [
             [
              0,
              "#0d0887"
             ],
             [
              0.1111111111111111,
              "#46039f"
             ],
             [
              0.2222222222222222,
              "#7201a8"
             ],
             [
              0.3333333333333333,
              "#9c179e"
             ],
             [
              0.4444444444444444,
              "#bd3786"
             ],
             [
              0.5555555555555556,
              "#d8576b"
             ],
             [
              0.6666666666666666,
              "#ed7953"
             ],
             [
              0.7777777777777778,
              "#fb9f3a"
             ],
             [
              0.8888888888888888,
              "#fdca26"
             ],
             [
              1,
              "#f0f921"
             ]
            ],
            "type": "histogram2dcontour"
           }
          ],
          "mesh3d": [
           {
            "colorbar": {
             "outlinewidth": 0,
             "ticks": ""
            },
            "type": "mesh3d"
           }
          ],
          "parcoords": [
           {
            "line": {
             "colorbar": {
              "outlinewidth": 0,
              "ticks": ""
             }
            },
            "type": "parcoords"
           }
          ],
          "pie": [
           {
            "automargin": true,
            "type": "pie"
           }
          ],
          "scatter": [
           {
            "marker": {
             "colorbar": {
              "outlinewidth": 0,
              "ticks": ""
             }
            },
            "type": "scatter"
           }
          ],
          "scatter3d": [
           {
            "line": {
             "colorbar": {
              "outlinewidth": 0,
              "ticks": ""
             }
            },
            "marker": {
             "colorbar": {
              "outlinewidth": 0,
              "ticks": ""
             }
            },
            "type": "scatter3d"
           }
          ],
          "scattercarpet": [
           {
            "marker": {
             "colorbar": {
              "outlinewidth": 0,
              "ticks": ""
             }
            },
            "type": "scattercarpet"
           }
          ],
          "scattergeo": [
           {
            "marker": {
             "colorbar": {
              "outlinewidth": 0,
              "ticks": ""
             }
            },
            "type": "scattergeo"
           }
          ],
          "scattergl": [
           {
            "marker": {
             "colorbar": {
              "outlinewidth": 0,
              "ticks": ""
             }
            },
            "type": "scattergl"
           }
          ],
          "scattermapbox": [
           {
            "marker": {
             "colorbar": {
              "outlinewidth": 0,
              "ticks": ""
             }
            },
            "type": "scattermapbox"
           }
          ],
          "scatterpolar": [
           {
            "marker": {
             "colorbar": {
              "outlinewidth": 0,
              "ticks": ""
             }
            },
            "type": "scatterpolar"
           }
          ],
          "scatterpolargl": [
           {
            "marker": {
             "colorbar": {
              "outlinewidth": 0,
              "ticks": ""
             }
            },
            "type": "scatterpolargl"
           }
          ],
          "scatterternary": [
           {
            "marker": {
             "colorbar": {
              "outlinewidth": 0,
              "ticks": ""
             }
            },
            "type": "scatterternary"
           }
          ],
          "surface": [
           {
            "colorbar": {
             "outlinewidth": 0,
             "ticks": ""
            },
            "colorscale": [
             [
              0,
              "#0d0887"
             ],
             [
              0.1111111111111111,
              "#46039f"
             ],
             [
              0.2222222222222222,
              "#7201a8"
             ],
             [
              0.3333333333333333,
              "#9c179e"
             ],
             [
              0.4444444444444444,
              "#bd3786"
             ],
             [
              0.5555555555555556,
              "#d8576b"
             ],
             [
              0.6666666666666666,
              "#ed7953"
             ],
             [
              0.7777777777777778,
              "#fb9f3a"
             ],
             [
              0.8888888888888888,
              "#fdca26"
             ],
             [
              1,
              "#f0f921"
             ]
            ],
            "type": "surface"
           }
          ],
          "table": [
           {
            "cells": {
             "fill": {
              "color": "#EBF0F8"
             },
             "line": {
              "color": "white"
             }
            },
            "header": {
             "fill": {
              "color": "#C8D4E3"
             },
             "line": {
              "color": "white"
             }
            },
            "type": "table"
           }
          ]
         },
         "layout": {
          "annotationdefaults": {
           "arrowcolor": "#2a3f5f",
           "arrowhead": 0,
           "arrowwidth": 1
          },
          "coloraxis": {
           "colorbar": {
            "outlinewidth": 0,
            "ticks": ""
           }
          },
          "colorscale": {
           "diverging": [
            [
             0,
             "#8e0152"
            ],
            [
             0.1,
             "#c51b7d"
            ],
            [
             0.2,
             "#de77ae"
            ],
            [
             0.3,
             "#f1b6da"
            ],
            [
             0.4,
             "#fde0ef"
            ],
            [
             0.5,
             "#f7f7f7"
            ],
            [
             0.6,
             "#e6f5d0"
            ],
            [
             0.7,
             "#b8e186"
            ],
            [
             0.8,
             "#7fbc41"
            ],
            [
             0.9,
             "#4d9221"
            ],
            [
             1,
             "#276419"
            ]
           ],
           "sequential": [
            [
             0,
             "#0d0887"
            ],
            [
             0.1111111111111111,
             "#46039f"
            ],
            [
             0.2222222222222222,
             "#7201a8"
            ],
            [
             0.3333333333333333,
             "#9c179e"
            ],
            [
             0.4444444444444444,
             "#bd3786"
            ],
            [
             0.5555555555555556,
             "#d8576b"
            ],
            [
             0.6666666666666666,
             "#ed7953"
            ],
            [
             0.7777777777777778,
             "#fb9f3a"
            ],
            [
             0.8888888888888888,
             "#fdca26"
            ],
            [
             1,
             "#f0f921"
            ]
           ],
           "sequentialminus": [
            [
             0,
             "#0d0887"
            ],
            [
             0.1111111111111111,
             "#46039f"
            ],
            [
             0.2222222222222222,
             "#7201a8"
            ],
            [
             0.3333333333333333,
             "#9c179e"
            ],
            [
             0.4444444444444444,
             "#bd3786"
            ],
            [
             0.5555555555555556,
             "#d8576b"
            ],
            [
             0.6666666666666666,
             "#ed7953"
            ],
            [
             0.7777777777777778,
             "#fb9f3a"
            ],
            [
             0.8888888888888888,
             "#fdca26"
            ],
            [
             1,
             "#f0f921"
            ]
           ]
          },
          "colorway": [
           "#636efa",
           "#EF553B",
           "#00cc96",
           "#ab63fa",
           "#FFA15A",
           "#19d3f3",
           "#FF6692",
           "#B6E880",
           "#FF97FF",
           "#FECB52"
          ],
          "font": {
           "color": "#2a3f5f"
          },
          "geo": {
           "bgcolor": "white",
           "lakecolor": "white",
           "landcolor": "#E5ECF6",
           "showlakes": true,
           "showland": true,
           "subunitcolor": "white"
          },
          "hoverlabel": {
           "align": "left"
          },
          "hovermode": "closest",
          "mapbox": {
           "style": "light"
          },
          "paper_bgcolor": "white",
          "plot_bgcolor": "#E5ECF6",
          "polar": {
           "angularaxis": {
            "gridcolor": "white",
            "linecolor": "white",
            "ticks": ""
           },
           "bgcolor": "#E5ECF6",
           "radialaxis": {
            "gridcolor": "white",
            "linecolor": "white",
            "ticks": ""
           }
          },
          "scene": {
           "xaxis": {
            "backgroundcolor": "#E5ECF6",
            "gridcolor": "white",
            "gridwidth": 2,
            "linecolor": "white",
            "showbackground": true,
            "ticks": "",
            "zerolinecolor": "white"
           },
           "yaxis": {
            "backgroundcolor": "#E5ECF6",
            "gridcolor": "white",
            "gridwidth": 2,
            "linecolor": "white",
            "showbackground": true,
            "ticks": "",
            "zerolinecolor": "white"
           },
           "zaxis": {
            "backgroundcolor": "#E5ECF6",
            "gridcolor": "white",
            "gridwidth": 2,
            "linecolor": "white",
            "showbackground": true,
            "ticks": "",
            "zerolinecolor": "white"
           }
          },
          "shapedefaults": {
           "line": {
            "color": "#2a3f5f"
           }
          },
          "ternary": {
           "aaxis": {
            "gridcolor": "white",
            "linecolor": "white",
            "ticks": ""
           },
           "baxis": {
            "gridcolor": "white",
            "linecolor": "white",
            "ticks": ""
           },
           "bgcolor": "#E5ECF6",
           "caxis": {
            "gridcolor": "white",
            "linecolor": "white",
            "ticks": ""
           }
          },
          "title": {
           "x": 0.05
          },
          "xaxis": {
           "automargin": true,
           "gridcolor": "white",
           "linecolor": "white",
           "ticks": "",
           "title": {
            "standoff": 15
           },
           "zerolinecolor": "white",
           "zerolinewidth": 2
          },
          "yaxis": {
           "automargin": true,
           "gridcolor": "white",
           "linecolor": "white",
           "ticks": "",
           "title": {
            "standoff": 15
           },
           "zerolinecolor": "white",
           "zerolinewidth": 2
          }
         }
        },
        "title": {
         "font": {
          "color": "#4D5663"
         },
         "text": "Average rating and review count for each price level"
        },
        "xaxis": {
         "gridcolor": "#E1E5ED",
         "showgrid": true,
         "tickfont": {
          "color": "#4D5663"
         },
         "title": {
          "font": {
           "color": "#4D5663"
          },
          "text": ""
         },
         "zerolinecolor": "#E1E5ED"
        },
        "yaxis": {
         "gridcolor": "#E1E5ED",
         "showgrid": true,
         "tickfont": {
          "color": "#4D5663"
         },
         "title": {
          "font": {
           "color": "#4D5663"
          },
          "text": ""
         },
         "zerolinecolor": "#E1E5ED"
        }
       }
      },
      "text/html": [
       "<div>                            <div id=\"b32bfb7f-2e2e-4b0e-9f20-2f3701b09caa\" class=\"plotly-graph-div\" style=\"height:525px; width:100%;\"></div>            <script type=\"text/javascript\">                require([\"plotly\"], function(Plotly) {                    window.PLOTLYENV=window.PLOTLYENV || {};\n",
       "                    window.PLOTLYENV.BASE_URL='https://plot.ly';                                    if (document.getElementById(\"b32bfb7f-2e2e-4b0e-9f20-2f3701b09caa\")) {                    Plotly.newPlot(                        \"b32bfb7f-2e2e-4b0e-9f20-2f3701b09caa\",                        [{\"marker\": {\"color\": \"rgba(255, 153, 51, 0.6)\", \"line\": {\"color\": \"rgba(255, 153, 51, 1.0)\", \"width\": 1}}, \"name\": \"rating\", \"orientation\": \"v\", \"text\": \"\", \"type\": \"bar\", \"x\": [1, 2, 3, 4], \"y\": [3.6448362720403025, 3.7432915921288012, 3.810945273631841, 4.184782608695652]}, {\"marker\": {\"color\": \"rgba(55, 128, 191, 0.6)\", \"line\": {\"color\": \"rgba(55, 128, 191, 1.0)\", \"width\": 1}}, \"name\": \"review_count\", \"orientation\": \"v\", \"text\": \"\", \"type\": \"bar\", \"x\": [1, 2, 3, 4], \"y\": [3.8690176322418135, 7.76386404293381, 8.323383084577115, 12.543478260869565]}],                        {\"legend\": {\"bgcolor\": \"#F5F6F9\", \"font\": {\"color\": \"#4D5663\"}}, \"paper_bgcolor\": \"#F5F6F9\", \"plot_bgcolor\": \"#F5F6F9\", \"template\": {\"data\": {\"bar\": [{\"error_x\": {\"color\": \"#2a3f5f\"}, \"error_y\": {\"color\": \"#2a3f5f\"}, \"marker\": {\"line\": {\"color\": \"#E5ECF6\", \"width\": 0.5}}, \"type\": \"bar\"}], \"barpolar\": [{\"marker\": {\"line\": {\"color\": \"#E5ECF6\", \"width\": 0.5}}, \"type\": \"barpolar\"}], \"carpet\": [{\"aaxis\": {\"endlinecolor\": \"#2a3f5f\", \"gridcolor\": \"white\", \"linecolor\": \"white\", \"minorgridcolor\": \"white\", \"startlinecolor\": \"#2a3f5f\"}, \"baxis\": {\"endlinecolor\": \"#2a3f5f\", \"gridcolor\": \"white\", \"linecolor\": \"white\", \"minorgridcolor\": \"white\", \"startlinecolor\": \"#2a3f5f\"}, \"type\": \"carpet\"}], \"choropleth\": [{\"colorbar\": {\"outlinewidth\": 0, \"ticks\": \"\"}, \"type\": \"choropleth\"}], \"contour\": [{\"colorbar\": {\"outlinewidth\": 0, \"ticks\": \"\"}, \"colorscale\": [[0.0, \"#0d0887\"], [0.1111111111111111, \"#46039f\"], [0.2222222222222222, \"#7201a8\"], [0.3333333333333333, \"#9c179e\"], [0.4444444444444444, \"#bd3786\"], [0.5555555555555556, \"#d8576b\"], [0.6666666666666666, \"#ed7953\"], [0.7777777777777778, \"#fb9f3a\"], [0.8888888888888888, \"#fdca26\"], [1.0, \"#f0f921\"]], \"type\": \"contour\"}], \"contourcarpet\": [{\"colorbar\": {\"outlinewidth\": 0, \"ticks\": \"\"}, \"type\": \"contourcarpet\"}], \"heatmap\": [{\"colorbar\": {\"outlinewidth\": 0, \"ticks\": \"\"}, \"colorscale\": [[0.0, \"#0d0887\"], [0.1111111111111111, \"#46039f\"], [0.2222222222222222, \"#7201a8\"], [0.3333333333333333, \"#9c179e\"], [0.4444444444444444, \"#bd3786\"], [0.5555555555555556, \"#d8576b\"], [0.6666666666666666, \"#ed7953\"], [0.7777777777777778, \"#fb9f3a\"], [0.8888888888888888, \"#fdca26\"], [1.0, \"#f0f921\"]], \"type\": \"heatmap\"}], \"heatmapgl\": [{\"colorbar\": {\"outlinewidth\": 0, \"ticks\": \"\"}, \"colorscale\": [[0.0, \"#0d0887\"], [0.1111111111111111, \"#46039f\"], [0.2222222222222222, \"#7201a8\"], [0.3333333333333333, \"#9c179e\"], [0.4444444444444444, \"#bd3786\"], [0.5555555555555556, \"#d8576b\"], [0.6666666666666666, \"#ed7953\"], [0.7777777777777778, \"#fb9f3a\"], [0.8888888888888888, \"#fdca26\"], [1.0, \"#f0f921\"]], \"type\": \"heatmapgl\"}], \"histogram\": [{\"marker\": {\"colorbar\": {\"outlinewidth\": 0, \"ticks\": \"\"}}, \"type\": \"histogram\"}], \"histogram2d\": [{\"colorbar\": {\"outlinewidth\": 0, \"ticks\": \"\"}, \"colorscale\": [[0.0, \"#0d0887\"], [0.1111111111111111, \"#46039f\"], [0.2222222222222222, \"#7201a8\"], [0.3333333333333333, \"#9c179e\"], [0.4444444444444444, \"#bd3786\"], [0.5555555555555556, \"#d8576b\"], [0.6666666666666666, \"#ed7953\"], [0.7777777777777778, \"#fb9f3a\"], [0.8888888888888888, \"#fdca26\"], [1.0, \"#f0f921\"]], \"type\": \"histogram2d\"}], \"histogram2dcontour\": [{\"colorbar\": {\"outlinewidth\": 0, \"ticks\": \"\"}, \"colorscale\": [[0.0, \"#0d0887\"], [0.1111111111111111, \"#46039f\"], [0.2222222222222222, \"#7201a8\"], [0.3333333333333333, \"#9c179e\"], [0.4444444444444444, \"#bd3786\"], [0.5555555555555556, \"#d8576b\"], [0.6666666666666666, \"#ed7953\"], [0.7777777777777778, \"#fb9f3a\"], [0.8888888888888888, \"#fdca26\"], [1.0, \"#f0f921\"]], \"type\": \"histogram2dcontour\"}], \"mesh3d\": [{\"colorbar\": {\"outlinewidth\": 0, \"ticks\": \"\"}, \"type\": \"mesh3d\"}], \"parcoords\": [{\"line\": {\"colorbar\": {\"outlinewidth\": 0, \"ticks\": \"\"}}, \"type\": \"parcoords\"}], \"pie\": [{\"automargin\": true, \"type\": \"pie\"}], \"scatter\": [{\"marker\": {\"colorbar\": {\"outlinewidth\": 0, \"ticks\": \"\"}}, \"type\": \"scatter\"}], \"scatter3d\": [{\"line\": {\"colorbar\": {\"outlinewidth\": 0, \"ticks\": \"\"}}, \"marker\": {\"colorbar\": {\"outlinewidth\": 0, \"ticks\": \"\"}}, \"type\": \"scatter3d\"}], \"scattercarpet\": [{\"marker\": {\"colorbar\": {\"outlinewidth\": 0, \"ticks\": \"\"}}, \"type\": \"scattercarpet\"}], \"scattergeo\": [{\"marker\": {\"colorbar\": {\"outlinewidth\": 0, \"ticks\": \"\"}}, \"type\": \"scattergeo\"}], \"scattergl\": [{\"marker\": {\"colorbar\": {\"outlinewidth\": 0, \"ticks\": \"\"}}, \"type\": \"scattergl\"}], \"scattermapbox\": [{\"marker\": {\"colorbar\": {\"outlinewidth\": 0, \"ticks\": \"\"}}, \"type\": \"scattermapbox\"}], \"scatterpolar\": [{\"marker\": {\"colorbar\": {\"outlinewidth\": 0, \"ticks\": \"\"}}, \"type\": \"scatterpolar\"}], \"scatterpolargl\": [{\"marker\": {\"colorbar\": {\"outlinewidth\": 0, \"ticks\": \"\"}}, \"type\": \"scatterpolargl\"}], \"scatterternary\": [{\"marker\": {\"colorbar\": {\"outlinewidth\": 0, \"ticks\": \"\"}}, \"type\": \"scatterternary\"}], \"surface\": [{\"colorbar\": {\"outlinewidth\": 0, \"ticks\": \"\"}, \"colorscale\": [[0.0, \"#0d0887\"], [0.1111111111111111, \"#46039f\"], [0.2222222222222222, \"#7201a8\"], [0.3333333333333333, \"#9c179e\"], [0.4444444444444444, \"#bd3786\"], [0.5555555555555556, \"#d8576b\"], [0.6666666666666666, \"#ed7953\"], [0.7777777777777778, \"#fb9f3a\"], [0.8888888888888888, \"#fdca26\"], [1.0, \"#f0f921\"]], \"type\": \"surface\"}], \"table\": [{\"cells\": {\"fill\": {\"color\": \"#EBF0F8\"}, \"line\": {\"color\": \"white\"}}, \"header\": {\"fill\": {\"color\": \"#C8D4E3\"}, \"line\": {\"color\": \"white\"}}, \"type\": \"table\"}]}, \"layout\": {\"annotationdefaults\": {\"arrowcolor\": \"#2a3f5f\", \"arrowhead\": 0, \"arrowwidth\": 1}, \"coloraxis\": {\"colorbar\": {\"outlinewidth\": 0, \"ticks\": \"\"}}, \"colorscale\": {\"diverging\": [[0, \"#8e0152\"], [0.1, \"#c51b7d\"], [0.2, \"#de77ae\"], [0.3, \"#f1b6da\"], [0.4, \"#fde0ef\"], [0.5, \"#f7f7f7\"], [0.6, \"#e6f5d0\"], [0.7, \"#b8e186\"], [0.8, \"#7fbc41\"], [0.9, \"#4d9221\"], [1, \"#276419\"]], \"sequential\": [[0.0, \"#0d0887\"], [0.1111111111111111, \"#46039f\"], [0.2222222222222222, \"#7201a8\"], [0.3333333333333333, \"#9c179e\"], [0.4444444444444444, \"#bd3786\"], [0.5555555555555556, \"#d8576b\"], [0.6666666666666666, \"#ed7953\"], [0.7777777777777778, \"#fb9f3a\"], [0.8888888888888888, \"#fdca26\"], [1.0, \"#f0f921\"]], \"sequentialminus\": [[0.0, \"#0d0887\"], [0.1111111111111111, \"#46039f\"], [0.2222222222222222, \"#7201a8\"], [0.3333333333333333, \"#9c179e\"], [0.4444444444444444, \"#bd3786\"], [0.5555555555555556, \"#d8576b\"], [0.6666666666666666, \"#ed7953\"], [0.7777777777777778, \"#fb9f3a\"], [0.8888888888888888, \"#fdca26\"], [1.0, \"#f0f921\"]]}, \"colorway\": [\"#636efa\", \"#EF553B\", \"#00cc96\", \"#ab63fa\", \"#FFA15A\", \"#19d3f3\", \"#FF6692\", \"#B6E880\", \"#FF97FF\", \"#FECB52\"], \"font\": {\"color\": \"#2a3f5f\"}, \"geo\": {\"bgcolor\": \"white\", \"lakecolor\": \"white\", \"landcolor\": \"#E5ECF6\", \"showlakes\": true, \"showland\": true, \"subunitcolor\": \"white\"}, \"hoverlabel\": {\"align\": \"left\"}, \"hovermode\": \"closest\", \"mapbox\": {\"style\": \"light\"}, \"paper_bgcolor\": \"white\", \"plot_bgcolor\": \"#E5ECF6\", \"polar\": {\"angularaxis\": {\"gridcolor\": \"white\", \"linecolor\": \"white\", \"ticks\": \"\"}, \"bgcolor\": \"#E5ECF6\", \"radialaxis\": {\"gridcolor\": \"white\", \"linecolor\": \"white\", \"ticks\": \"\"}}, \"scene\": {\"xaxis\": {\"backgroundcolor\": \"#E5ECF6\", \"gridcolor\": \"white\", \"gridwidth\": 2, \"linecolor\": \"white\", \"showbackground\": true, \"ticks\": \"\", \"zerolinecolor\": \"white\"}, \"yaxis\": {\"backgroundcolor\": \"#E5ECF6\", \"gridcolor\": \"white\", \"gridwidth\": 2, \"linecolor\": \"white\", \"showbackground\": true, \"ticks\": \"\", \"zerolinecolor\": \"white\"}, \"zaxis\": {\"backgroundcolor\": \"#E5ECF6\", \"gridcolor\": \"white\", \"gridwidth\": 2, \"linecolor\": \"white\", \"showbackground\": true, \"ticks\": \"\", \"zerolinecolor\": \"white\"}}, \"shapedefaults\": {\"line\": {\"color\": \"#2a3f5f\"}}, \"ternary\": {\"aaxis\": {\"gridcolor\": \"white\", \"linecolor\": \"white\", \"ticks\": \"\"}, \"baxis\": {\"gridcolor\": \"white\", \"linecolor\": \"white\", \"ticks\": \"\"}, \"bgcolor\": \"#E5ECF6\", \"caxis\": {\"gridcolor\": \"white\", \"linecolor\": \"white\", \"ticks\": \"\"}}, \"title\": {\"x\": 0.05}, \"xaxis\": {\"automargin\": true, \"gridcolor\": \"white\", \"linecolor\": \"white\", \"ticks\": \"\", \"title\": {\"standoff\": 15}, \"zerolinecolor\": \"white\", \"zerolinewidth\": 2}, \"yaxis\": {\"automargin\": true, \"gridcolor\": \"white\", \"linecolor\": \"white\", \"ticks\": \"\", \"title\": {\"standoff\": 15}, \"zerolinecolor\": \"white\", \"zerolinewidth\": 2}}}, \"title\": {\"font\": {\"color\": \"#4D5663\"}, \"text\": \"Average rating and review count for each price level\"}, \"xaxis\": {\"gridcolor\": \"#E1E5ED\", \"showgrid\": true, \"tickfont\": {\"color\": \"#4D5663\"}, \"title\": {\"font\": {\"color\": \"#4D5663\"}, \"text\": \"\"}, \"zerolinecolor\": \"#E1E5ED\"}, \"yaxis\": {\"gridcolor\": \"#E1E5ED\", \"showgrid\": true, \"tickfont\": {\"color\": \"#4D5663\"}, \"title\": {\"font\": {\"color\": \"#4D5663\"}, \"text\": \"\"}, \"zerolinecolor\": \"#E1E5ED\"}},                        {\"showLink\": true, \"linkText\": \"Export to plot.ly\", \"plotlyServerURL\": \"https://plot.ly\", \"responsive\": true}                    ).then(function(){\n",
       "                            \n",
       "var gd = document.getElementById('b32bfb7f-2e2e-4b0e-9f20-2f3701b09caa');\n",
       "var x = new MutationObserver(function (mutations, observer) {{\n",
       "        var display = window.getComputedStyle(gd).display;\n",
       "        if (!display || display === 'none') {{\n",
       "            console.log([gd, 'removed!']);\n",
       "            Plotly.purge(gd);\n",
       "            observer.disconnect();\n",
       "        }}\n",
       "}});\n",
       "\n",
       "// Listen for the removal of the full notebook cells\n",
       "var notebookContainer = gd.closest('#notebook-container');\n",
       "if (notebookContainer) {{\n",
       "    x.observe(notebookContainer, {childList: true});\n",
       "}}\n",
       "\n",
       "// Listen for the clearing of the current output cell\n",
       "var outputEl = gd.closest('.output');\n",
       "if (outputEl) {{\n",
       "    x.observe(outputEl, {childList: true});\n",
       "}}\n",
       "\n",
       "                        })                };                });            </script>        </div>"
      ]
     },
     "metadata": {},
     "output_type": "display_data"
    }
   ],
   "source": [
    "df.groupby(\"price\")[[\"rating\",\"review_count\"]].mean().iplot(kind='bar', title=\"Average rating and review count for each price level\")"
   ]
  },
  {
   "cell_type": "markdown",
   "metadata": {},
   "source": [
    "We can see that the average rating for price level a quite similar, a little bit lower than 4 for price level 3 and below, while the rating is above 4 for price level 4. \n",
    "\n",
    "On the other hand, the average review for a restaurant of different price level is showing increasing trend:\n",
    "- 4 reviews on average for restaurant with low price level\n",
    "- approximately 8 review for restaurant in price level group 2 and 3\n",
    "- and over 12 reviews for luxury restaurant.\n",
    "\n",
    "We can see that, people are less likely to review a comfort food level restaurant while when the price level increase, they do more reviews on average.\n",
    "\n",
    "# Conclusion\n",
    "\n",
    "Since the data extracted from Yelp's API is limited, and in my opinion, highly bias, this analysis doesn't show the full picture of restaurant situation in Finland. Furthermore, not capable of retrieving review data for restaurant also limit the content of this analysis.\n",
    "\n",
    "Besides the data limitation, the limitation in analyzing skill also prevent me to do thorough analyze for category data as well as present the density based on the zipcode."
   ]
  }
 ],
 "metadata": {
  "kernelspec": {
   "display_name": "Python 3",
   "language": "python",
   "name": "python3"
  },
  "language_info": {
   "codemirror_mode": {
    "name": "ipython",
    "version": 3
   },
   "file_extension": ".py",
   "mimetype": "text/x-python",
   "name": "python",
   "nbconvert_exporter": "python",
   "pygments_lexer": "ipython3",
   "version": "3.8.3"
  },
  "toc": {
   "base_numbering": 1,
   "nav_menu": {},
   "number_sections": true,
   "sideBar": true,
   "skip_h1_title": false,
   "title_cell": "Table of Contents",
   "title_sidebar": "Contents",
   "toc_cell": false,
   "toc_position": {},
   "toc_section_display": true,
   "toc_window_display": true
  },
  "varInspector": {
   "cols": {
    "lenName": 16,
    "lenType": 16,
    "lenVar": 40
   },
   "kernels_config": {
    "python": {
     "delete_cmd_postfix": "",
     "delete_cmd_prefix": "del ",
     "library": "var_list.py",
     "varRefreshCmd": "print(var_dic_list())"
    },
    "r": {
     "delete_cmd_postfix": ") ",
     "delete_cmd_prefix": "rm(",
     "library": "var_list.r",
     "varRefreshCmd": "cat(var_dic_list()) "
    }
   },
   "types_to_exclude": [
    "module",
    "function",
    "builtin_function_or_method",
    "instance",
    "_Feature"
   ],
   "window_display": false
  }
 },
 "nbformat": 4,
 "nbformat_minor": 4
}
